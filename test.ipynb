{
 "metadata": {
  "orig_nbformat": 2,
  "kernelspec": {
   "name": "python3",
   "display_name": "Python 3.7.10 64-bit"
  },
  "metadata": {
   "interpreter": {
    "hash": "31f2aee4e71d21fbe5cf8b01ff0e069b9275f58929596ceb00d14d90e3e16cd6"
   }
  }
 },
 "nbformat": 4,
 "nbformat_minor": 2,
 "cells": [
  {
   "cell_type": "code",
   "execution_count": 1,
   "metadata": {},
   "outputs": [
    {
     "output_type": "stream",
     "name": "stdout",
     "text": [
      "[nltk_data] Downloading package punkt to /root/nltk_data...\n",
      "[nltk_data]   Unzipping tokenizers/punkt.zip.\n"
     ]
    }
   ],
   "source": [
    "import os\n",
    "import random\n",
    "import math\n",
    "import matplotlib.pyplot as plt\n",
    "import nltk\n",
    "import tensorflow as tf\n",
    "\n",
    "# for tokenizing\n",
    "nltk.download('punkt')\n",
    "\n",
    "# for POS tagging\n",
    "from nltk.tag.perceptron import AveragedPerceptron\n",
    "from nltk.tag.perceptron import PerceptronTagger\n"
   ]
  },
  {
   "source": [
    "# Prepare Web Corpus"
   ],
   "cell_type": "markdown",
   "metadata": {}
  },
  {
   "cell_type": "code",
   "execution_count": 2,
   "metadata": {},
   "outputs": [],
   "source": [
    "class PrepareDataWeb():\n",
    "    def __init__(self):\n",
    "        self.categories = [\"/businessEconomy\", \"/lifestyle\", \"/politics\", \"/technology\"] \n",
    "        self.tokenized_sentences = []\n",
    "        self.word_freq_dict = dict()\n",
    "        self.category_sent_dict = dict()\n",
    "\n",
    "    def load(self, write_to_file=True):\n",
    "        \"\"\"Retun a list of tokenized sentences and a word frequency dictionary\"\"\"\n",
    "        cwd = os.getcwd()\n",
    "\n",
    "        for category in self.categories:\n",
    "            docs_list = os.listdir(cwd+category)\n",
    "            for docs in docs_list:\n",
    "                doc_path = cwd+category+\"/\"+docs\n",
    "                tkn_sent, tkn_dict = self._load_data(doc_path)\n",
    "                self.tokenized_sentences += tkn_sent\n",
    "                self.word_freq_dict = self._merge_dict(self.word_freq_dict, tkn_dict)\n",
    "                if category not in self.category_sent_dict:\n",
    "                    self.category_sent_dict[category] = tkn_sent\n",
    "                else:\n",
    "                    self.category_sent_dict[category] += tkn_sent\n",
    "\n",
    "        if write_to_file:\n",
    "            f = open(\"category_sent.txt\", \"w\")\n",
    "            for cat in self.category_sent_dict:\n",
    "                f.write(f\"CATEGORY\\t: {cat}\\n\")\n",
    "                for sentence in self.category_sent_dict[cat]:\n",
    "                    f.write(self._to_sent(sentence) + \"\\n\")\n",
    "                f.write(\"\\n\\n\")\n",
    "            \n",
    "            f.close()\n",
    "\n",
    "        return self.tokenized_sentences, self.word_freq_dict\n",
    "\n",
    "    def analysze_category(self):\n",
    "        \"\"\"\n",
    "        for each category, get the :\n",
    "            - number of sentences\n",
    "            - average word count\n",
    "            (for tagged version, do the total number of tokens)\n",
    "        \"\"\"\n",
    "        for category in self.category_sent_dict:\n",
    "            print(f\"Category: {category}\")\n",
    "            num_sentences = len(self.category_sent_dict[category])\n",
    "            print(f\"number of sentences: {num_sentences}\")\n",
    "            # word_count = lambda sentence: len(nltk.word_tokenize(sentence))\n",
    "            wc = 0\n",
    "            for sentence in self.category_sent_dict[category]:\n",
    "                wc += len(sentence)\n",
    "            print(f\"average word count: {math.floor(wc/num_sentences)}\\n\")\n",
    "\n",
    "\n",
    "    def get_statistics(self):\n",
    "        \"\"\"Return a general report of the corpus statistics\n",
    "            Statistics to return:\n",
    "            - total number of sentences\n",
    "            - average word count in a sentence\n",
    "            - max sentence length\n",
    "            - min sentence length\n",
    "        \"\"\"\n",
    "        total_wc = 0\n",
    "        word_count = lambda sentence: len(sentence)\n",
    "        freq_dict = dict() # key: word count, value: num of sentences with that word count\n",
    "        for sentences in self.tokenized_sentences:\n",
    "            wc = word_count(sentences)\n",
    "            total_wc += wc\n",
    "            if wc not in freq_dict:\n",
    "                freq_dict[wc] = 1\n",
    "            else:\n",
    "                freq_dict[wc] += 1\n",
    "        print(\"TOTAL WC IS \", total_wc)\n",
    "        \n",
    "        average_wc = math.floor(total_wc / len(self.tokenized_sentences))\n",
    "        # the shortest sentence by word count\n",
    "        min_sent = min(self.tokenized_sentences, key=word_count)\n",
    "        # the longest sentence by word count\n",
    "        max_sent = max(self.tokenized_sentences, key=word_count)\n",
    "        min_wc = word_count(min_sent)\n",
    "        max_wc = word_count(max_sent)\n",
    "\n",
    "        print(\"CORPUS STATISTICS\")\n",
    "        print(f\"There are a total of {len(self.tokenized_sentences)} sentences in the corpus from Web\\n\")\n",
    "        print(f\"\\tAverage word count\\t:\\t{average_wc}\\n\")\n",
    "        print(f\"\\tmaximum sentence length\\t:\\t{max_wc}\\n\")\n",
    "        print(f\"\\tsentence:\\n\")\n",
    "        print(f\"\\t{self._to_sent(max_sent)}\\n\")\n",
    "        print(f\"\\tminimum sentence length\\t:\\t{min_wc}\\n\")\n",
    "        print(f\"\\tsentence:\\n\")\n",
    "        print(f\"\\t{self._to_sent(min_sent)}\\n\")\n",
    "\n",
    "\n",
    "        plt.figure(figsize=(10, 7.5))\n",
    "        plt.title(\"word count per sentences distribution\")\n",
    "        plt.ylabel(\"sentences with word count\")\n",
    "        plt.xlabel(\"word count\")\n",
    "        plt.bar(x=freq_dict.keys(), height=freq_dict.values())\n",
    "\n",
    "    def _load_data(self, path):\n",
    "        \"\"\"Return a list of tokenized sentence from a document in path, and\n",
    "        a dictionary of frequency of word\n",
    "\n",
    "        Args:\n",
    "            path: the path of the file (in txt) to parse and tokenize\n",
    "        \"\"\"\n",
    "        f = open(path, \"r\")\n",
    "        text = f.read()\n",
    "        token_dict = dict()\n",
    "\n",
    "        # documents -> list of sentences\n",
    "        sentences_lst = nltk.sent_tokenize(text)\n",
    "\n",
    "        # list of sentences -> list of tokenized sentences\n",
    "        tokenized_sentences = []\n",
    "        for sentence in sentences_lst:\n",
    "            tokenized = nltk.word_tokenize(sentence)\n",
    "            tokenized_sentences.append(tokenized)\n",
    "            for token in tokenized:\n",
    "                if token in token_dict:\n",
    "                    token_dict[token] += 1\n",
    "                else:\n",
    "                    token_dict[token] = 1\n",
    "\n",
    "        f.close()\n",
    "        return tokenized_sentences, token_dict\n",
    "\n",
    "    def _merge_dict(self, dict1, dict2):\n",
    "        \"\"\"Return a new dictionary with the content of dict1 and dict2\"\"\"  \n",
    "        res = {**dict1, **dict2}\n",
    "        return res\n",
    "\n",
    "    def _to_sent(self, tokenized_sent):\n",
    "        sent = \"\"\n",
    "        for token in tokenized_sent:\n",
    "            sent += token + \" \"\n",
    "        return sent.strip()"
   ]
  },
  {
   "cell_type": "code",
   "execution_count": 3,
   "metadata": {
    "tags": []
   },
   "outputs": [],
   "source": [
    "web_data = PrepareDataWeb()\n",
    "tokenized_sentences, word_freq_dict = web_data.load()"
   ]
  },
  {
   "cell_type": "code",
   "execution_count": 4,
   "metadata": {},
   "outputs": [
    {
     "output_type": "stream",
     "name": "stdout",
     "text": [
      "Category: /businessEconomy\nnumber of sentences: 261\naverage word count: 21\n\nCategory: /lifestyle\nnumber of sentences: 262\naverage word count: 16\n\nCategory: /politics\nnumber of sentences: 196\naverage word count: 21\n\nCategory: /technology\nnumber of sentences: 236\naverage word count: 21\n\n"
     ]
    }
   ],
   "source": [
    "web_data.analysze_category()"
   ]
  },
  {
   "cell_type": "code",
   "execution_count": 13,
   "metadata": {},
   "outputs": [
    {
     "output_type": "execute_result",
     "data": {
      "text/plain": [
       "['Kementerian',\n",
       " 'PUPR',\n",
       " 'fokus',\n",
       " 'pada',\n",
       " 'lima',\n",
       " 'program',\n",
       " 'prioritas',\n",
       " 'nasional',\n",
       " 'selama',\n",
       " 'pandemi',\n",
       " 'dalam',\n",
       " 'rangka',\n",
       " 'mendukung',\n",
       " 'pemulihan',\n",
       " 'ekonomi',\n",
       " 'nasional',\n",
       " '(',\n",
       " 'PEN',\n",
       " ')',\n",
       " '.']"
      ]
     },
     "metadata": {},
     "execution_count": 13
    }
   ],
   "source": [
    "tokenized_sentences[0]"
   ]
  },
  {
   "cell_type": "code",
   "execution_count": 6,
   "metadata": {},
   "outputs": [
    {
     "output_type": "stream",
     "name": "stdout",
     "text": [
      "TOTAL WC IS  19150\nCORPUS STATISTICS\nThere are a total of 955 sentences in the corpus from Web\n\n\tAverage word count\t:\t20\n\n\tmaximum sentence length\t:\t77\n\n\tsentence:\n\n\tLalu ada pula Pondok Indah ( Pondok Indah Town House dan Perumahan Pondok Indah ) , Pantai Indah Kapuk ( Bukit Gold Mediterania , Komplek Johar , dan Golf Coast PIK ) , Bumi Serpong Damai ( Boulevard BSD , Puspita Loka CLuster , dan Provence Parland ) , Widya Chandra ( Komplek Widya Chandra dan Perumahan Dinas Menteri Widya Chandra ) , dan Alam Sutera ( Kunciran Mas , Griya Sutera dan Sutera Lavender ) .\n\n\tminimum sentence length\t:\t2\n\n\tsentence:\n\n\t390 .\n\n"
     ]
    },
    {
     "output_type": "display_data",
     "data": {
      "text/plain": "<Figure size 720x540 with 1 Axes>",
      "image/svg+xml": "<?xml version=\"1.0\" encoding=\"utf-8\" standalone=\"no\"?>\n<!DOCTYPE svg PUBLIC \"-//W3C//DTD SVG 1.1//EN\"\n  \"http://www.w3.org/Graphics/SVG/1.1/DTD/svg11.dtd\">\n<!-- Created with matplotlib (https://matplotlib.org/) -->\n<svg height=\"467.574375pt\" version=\"1.1\" viewBox=\"0 0 605.803125 467.574375\" width=\"605.803125pt\" xmlns=\"http://www.w3.org/2000/svg\" xmlns:xlink=\"http://www.w3.org/1999/xlink\">\n <defs>\n  <style type=\"text/css\">\n*{stroke-linecap:butt;stroke-linejoin:round;}\n  </style>\n </defs>\n <g id=\"figure_1\">\n  <g id=\"patch_1\">\n   <path d=\"M 0 467.574375 \nL 605.803125 467.574375 \nL 605.803125 0 \nL 0 0 \nz\n\" style=\"fill:none;\"/>\n  </g>\n  <g id=\"axes_1\">\n   <g id=\"patch_2\">\n    <path d=\"M 40.603125 430.018125 \nL 598.603125 430.018125 \nL 598.603125 22.318125 \nL 40.603125 22.318125 \nz\n\" style=\"fill:#ffffff;\"/>\n   </g>\n   <g id=\"patch_3\">\n    <path clip-path=\"url(#p3ae388fa28)\" d=\"M 186.427303 430.018125 \nL 191.781105 430.018125 \nL 191.781105 159.60486 \nL 186.427303 159.60486 \nz\n\" style=\"fill:#1f77b4;\"/>\n   </g>\n   <g id=\"patch_4\">\n    <path clip-path=\"url(#p3ae388fa28)\" d=\"M 199.811808 430.018125 \nL 205.16561 430.018125 \nL 205.16561 152.671186 \nL 199.811808 152.671186 \nz\n\" style=\"fill:#1f77b4;\"/>\n   </g>\n   <g id=\"patch_5\">\n    <path clip-path=\"url(#p3ae388fa28)\" d=\"M 353.733612 430.018125 \nL 359.087414 430.018125 \nL 359.087414 395.349758 \nL 353.733612 395.349758 \nz\n\" style=\"fill:#1f77b4;\"/>\n   </g>\n   <g id=\"patch_6\">\n    <path clip-path=\"url(#p3ae388fa28)\" d=\"M 300.195593 430.018125 \nL 305.549395 430.018125 \nL 305.549395 381.482411 \nL 300.195593 381.482411 \nz\n\" style=\"fill:#1f77b4;\"/>\n   </g>\n   <g id=\"patch_7\">\n    <path clip-path=\"url(#p3ae388fa28)\" d=\"M 440.732892 430.018125 \nL 446.086694 430.018125 \nL 446.086694 402.283431 \nL 440.732892 402.283431 \nz\n\" style=\"fill:#1f77b4;\"/>\n   </g>\n   <g id=\"patch_8\">\n    <path clip-path=\"url(#p3ae388fa28)\" d=\"M 393.887126 430.018125 \nL 399.240928 430.018125 \nL 399.240928 423.084452 \nL 393.887126 423.084452 \nz\n\" style=\"fill:#1f77b4;\"/>\n   </g>\n   <g id=\"patch_9\">\n    <path clip-path=\"url(#p3ae388fa28)\" d=\"M 146.273789 430.018125 \nL 151.627591 430.018125 \nL 151.627591 76.400778 \nL 146.273789 76.400778 \nz\n\" style=\"fill:#1f77b4;\"/>\n   </g>\n   <g id=\"patch_10\">\n    <path clip-path=\"url(#p3ae388fa28)\" d=\"M 152.966042 430.018125 \nL 158.319844 430.018125 \nL 158.319844 41.732411 \nL 152.966042 41.732411 \nz\n\" style=\"fill:#1f77b4;\"/>\n   </g>\n   <g id=\"patch_11\">\n    <path clip-path=\"url(#p3ae388fa28)\" d=\"M 173.042799 430.018125 \nL 178.396601 430.018125 \nL 178.396601 131.870166 \nL 173.042799 131.870166 \nz\n\" style=\"fill:#1f77b4;\"/>\n   </g>\n   <g id=\"patch_12\">\n    <path clip-path=\"url(#p3ae388fa28)\" d=\"M 266.734332 430.018125 \nL 272.088133 430.018125 \nL 272.088133 305.212003 \nL 266.734332 305.212003 \nz\n\" style=\"fill:#1f77b4;\"/>\n   </g>\n   <g id=\"patch_13\">\n    <path clip-path=\"url(#p3ae388fa28)\" d=\"M 159.658294 430.018125 \nL 165.012096 430.018125 \nL 165.012096 69.467105 \nL 159.658294 69.467105 \nz\n\" style=\"fill:#1f77b4;\"/>\n   </g>\n   <g id=\"patch_14\">\n    <path clip-path=\"url(#p3ae388fa28)\" d=\"M 206.50406 430.018125 \nL 211.857862 430.018125 \nL 211.857862 228.941594 \nL 206.50406 228.941594 \nz\n\" style=\"fill:#1f77b4;\"/>\n   </g>\n   <g id=\"patch_15\">\n    <path clip-path=\"url(#p3ae388fa28)\" d=\"M 126.197032 430.018125 \nL 131.550834 430.018125 \nL 131.550834 145.737513 \nL 126.197032 145.737513 \nz\n\" style=\"fill:#1f77b4;\"/>\n   </g>\n   <g id=\"patch_16\">\n    <path clip-path=\"url(#p3ae388fa28)\" d=\"M 166.350546 430.018125 \nL 171.704348 430.018125 \nL 171.704348 131.870166 \nL 166.350546 131.870166 \nz\n\" style=\"fill:#1f77b4;\"/>\n   </g>\n   <g id=\"patch_17\">\n    <path clip-path=\"url(#p3ae388fa28)\" d=\"M 239.965322 430.018125 \nL 245.319124 430.018125 \nL 245.319124 319.079349 \nL 239.965322 319.079349 \nz\n\" style=\"fill:#1f77b4;\"/>\n   </g>\n   <g id=\"patch_18\">\n    <path clip-path=\"url(#p3ae388fa28)\" d=\"M 320.27235 430.018125 \nL 325.626152 430.018125 \nL 325.626152 388.416084 \nL 320.27235 388.416084 \nz\n\" style=\"fill:#1f77b4;\"/>\n   </g>\n   <g id=\"patch_19\">\n    <path clip-path=\"url(#p3ae388fa28)\" d=\"M 193.119556 430.018125 \nL 198.473358 430.018125 \nL 198.473358 249.742615 \nL 193.119556 249.742615 \nz\n\" style=\"fill:#1f77b4;\"/>\n   </g>\n   <g id=\"patch_20\">\n    <path clip-path=\"url(#p3ae388fa28)\" d=\"M 139.581537 430.018125 \nL 144.935339 430.018125 \nL 144.935339 90.268125 \nL 139.581537 90.268125 \nz\n\" style=\"fill:#1f77b4;\"/>\n   </g>\n   <g id=\"patch_21\">\n    <path clip-path=\"url(#p3ae388fa28)\" d=\"M 219.888565 430.018125 \nL 225.242367 430.018125 \nL 225.242367 256.676288 \nL 219.888565 256.676288 \nz\n\" style=\"fill:#1f77b4;\"/>\n   </g>\n   <g id=\"patch_22\">\n    <path clip-path=\"url(#p3ae388fa28)\" d=\"M 213.196313 430.018125 \nL 218.550115 430.018125 \nL 218.550115 291.344656 \nL 213.196313 291.344656 \nz\n\" style=\"fill:#1f77b4;\"/>\n   </g>\n   <g id=\"patch_23\">\n    <path clip-path=\"url(#p3ae388fa28)\" d=\"M 226.580817 430.018125 \nL 231.934619 430.018125 \nL 231.934619 270.543635 \nL 226.580817 270.543635 \nz\n\" style=\"fill:#1f77b4;\"/>\n   </g>\n   <g id=\"patch_24\">\n    <path clip-path=\"url(#p3ae388fa28)\" d=\"M 273.426584 430.018125 \nL 278.780386 430.018125 \nL 278.780386 312.145676 \nL 273.426584 312.145676 \nz\n\" style=\"fill:#1f77b4;\"/>\n   </g>\n   <g id=\"patch_25\">\n    <path clip-path=\"url(#p3ae388fa28)\" d=\"M 99.428023 430.018125 \nL 104.781825 430.018125 \nL 104.781825 312.145676 \nL 99.428023 312.145676 \nz\n\" style=\"fill:#1f77b4;\"/>\n   </g>\n   <g id=\"patch_26\">\n    <path clip-path=\"url(#p3ae388fa28)\" d=\"M 179.735051 430.018125 \nL 185.088853 430.018125 \nL 185.088853 166.538533 \nL 179.735051 166.538533 \nz\n\" style=\"fill:#1f77b4;\"/>\n   </g>\n   <g id=\"patch_27\">\n    <path clip-path=\"url(#p3ae388fa28)\" d=\"M 119.50478 430.018125 \nL 124.858582 430.018125 \nL 124.858582 222.007921 \nL 119.50478 222.007921 \nz\n\" style=\"fill:#1f77b4;\"/>\n   </g>\n   <g id=\"patch_28\">\n    <path clip-path=\"url(#p3ae388fa28)\" d=\"M 79.351266 430.018125 \nL 84.705068 430.018125 \nL 84.705068 395.349758 \nL 79.351266 395.349758 \nz\n\" style=\"fill:#1f77b4;\"/>\n   </g>\n   <g id=\"patch_29\">\n    <path clip-path=\"url(#p3ae388fa28)\" d=\"M 132.889285 430.018125 \nL 138.243087 430.018125 \nL 138.243087 138.803839 \nL 132.889285 138.803839 \nz\n\" style=\"fill:#1f77b4;\"/>\n   </g>\n   <g id=\"patch_30\">\n    <path clip-path=\"url(#p3ae388fa28)\" d=\"M 112.812528 430.018125 \nL 118.16633 430.018125 \nL 118.16633 159.60486 \nL 112.812528 159.60486 \nz\n\" style=\"fill:#1f77b4;\"/>\n   </g>\n   <g id=\"patch_31\">\n    <path clip-path=\"url(#p3ae388fa28)\" d=\"M 246.657575 430.018125 \nL 252.011376 430.018125 \nL 252.011376 326.013023 \nL 246.657575 326.013023 \nz\n\" style=\"fill:#1f77b4;\"/>\n   </g>\n   <g id=\"patch_32\">\n    <path clip-path=\"url(#p3ae388fa28)\" d=\"M 280.118836 430.018125 \nL 285.472638 430.018125 \nL 285.472638 374.548737 \nL 280.118836 374.548737 \nz\n\" style=\"fill:#1f77b4;\"/>\n   </g>\n   <g id=\"patch_33\">\n    <path clip-path=\"url(#p3ae388fa28)\" d=\"M 233.27307 430.018125 \nL 238.626872 430.018125 \nL 238.626872 277.477309 \nL 233.27307 277.477309 \nz\n\" style=\"fill:#1f77b4;\"/>\n   </g>\n   <g id=\"patch_34\">\n    <path clip-path=\"url(#p3ae388fa28)\" d=\"M 293.503341 430.018125 \nL 298.857143 430.018125 \nL 298.857143 374.548737 \nL 293.503341 374.548737 \nz\n\" style=\"fill:#1f77b4;\"/>\n   </g>\n   <g id=\"patch_35\">\n    <path clip-path=\"url(#p3ae388fa28)\" d=\"M 253.349827 430.018125 \nL 258.703629 430.018125 \nL 258.703629 332.946696 \nL 253.349827 332.946696 \nz\n\" style=\"fill:#1f77b4;\"/>\n   </g>\n   <g id=\"patch_36\">\n    <path clip-path=\"url(#p3ae388fa28)\" d=\"M 286.811089 430.018125 \nL 292.16489 430.018125 \nL 292.16489 381.482411 \nL 286.811089 381.482411 \nz\n\" style=\"fill:#1f77b4;\"/>\n   </g>\n   <g id=\"patch_37\">\n    <path clip-path=\"url(#p3ae388fa28)\" d=\"M 313.580098 430.018125 \nL 318.9339 430.018125 \nL 318.9339 381.482411 \nL 313.580098 381.482411 \nz\n\" style=\"fill:#1f77b4;\"/>\n   </g>\n   <g id=\"patch_38\">\n    <path clip-path=\"url(#p3ae388fa28)\" d=\"M 360.425864 430.018125 \nL 365.779666 430.018125 \nL 365.779666 395.349758 \nL 360.425864 395.349758 \nz\n\" style=\"fill:#1f77b4;\"/>\n   </g>\n   <g id=\"patch_39\">\n    <path clip-path=\"url(#p3ae388fa28)\" d=\"M 260.042079 430.018125 \nL 265.395881 430.018125 \nL 265.395881 346.814043 \nL 260.042079 346.814043 \nz\n\" style=\"fill:#1f77b4;\"/>\n   </g>\n   <g id=\"patch_40\">\n    <path clip-path=\"url(#p3ae388fa28)\" d=\"M 92.735771 430.018125 \nL 98.089573 430.018125 \nL 98.089573 374.548737 \nL 92.735771 374.548737 \nz\n\" style=\"fill:#1f77b4;\"/>\n   </g>\n   <g id=\"patch_41\">\n    <path clip-path=\"url(#p3ae388fa28)\" d=\"M 106.120275 430.018125 \nL 111.474077 430.018125 \nL 111.474077 263.609962 \nL 106.120275 263.609962 \nz\n\" style=\"fill:#1f77b4;\"/>\n   </g>\n   <g id=\"patch_42\">\n    <path clip-path=\"url(#p3ae388fa28)\" d=\"M 306.887846 430.018125 \nL 312.241647 430.018125 \nL 312.241647 402.283431 \nL 306.887846 402.283431 \nz\n\" style=\"fill:#1f77b4;\"/>\n   </g>\n   <g id=\"patch_43\">\n    <path clip-path=\"url(#p3ae388fa28)\" d=\"M 500.963163 430.018125 \nL 506.316965 430.018125 \nL 506.316965 423.084452 \nL 500.963163 423.084452 \nz\n\" style=\"fill:#1f77b4;\"/>\n   </g>\n   <g id=\"patch_44\">\n    <path clip-path=\"url(#p3ae388fa28)\" d=\"M 340.349107 430.018125 \nL 345.702909 430.018125 \nL 345.702909 374.548737 \nL 340.349107 374.548737 \nz\n\" style=\"fill:#1f77b4;\"/>\n   </g>\n   <g id=\"patch_45\">\n    <path clip-path=\"url(#p3ae388fa28)\" d=\"M 86.043518 430.018125 \nL 91.39732 430.018125 \nL 91.39732 388.416084 \nL 86.043518 388.416084 \nz\n\" style=\"fill:#1f77b4;\"/>\n   </g>\n   <g id=\"patch_46\">\n    <path clip-path=\"url(#p3ae388fa28)\" d=\"M 72.659014 430.018125 \nL 78.012816 430.018125 \nL 78.012816 409.217105 \nL 72.659014 409.217105 \nz\n\" style=\"fill:#1f77b4;\"/>\n   </g>\n   <g id=\"patch_47\">\n    <path clip-path=\"url(#p3ae388fa28)\" d=\"M 326.964603 430.018125 \nL 332.318404 430.018125 \nL 332.318404 416.150778 \nL 326.964603 416.150778 \nz\n\" style=\"fill:#1f77b4;\"/>\n   </g>\n   <g id=\"patch_48\">\n    <path clip-path=\"url(#p3ae388fa28)\" d=\"M 467.501902 430.018125 \nL 472.855704 430.018125 \nL 472.855704 423.084452 \nL 467.501902 423.084452 \nz\n\" style=\"fill:#1f77b4;\"/>\n   </g>\n   <g id=\"patch_49\">\n    <path clip-path=\"url(#p3ae388fa28)\" d=\"M 380.502621 430.018125 \nL 385.856423 430.018125 \nL 385.856423 402.283431 \nL 380.502621 402.283431 \nz\n\" style=\"fill:#1f77b4;\"/>\n   </g>\n   <g id=\"patch_50\">\n    <path clip-path=\"url(#p3ae388fa28)\" d=\"M 333.656855 430.018125 \nL 339.010657 430.018125 \nL 339.010657 416.150778 \nL 333.656855 416.150778 \nz\n\" style=\"fill:#1f77b4;\"/>\n   </g>\n   <g id=\"patch_51\">\n    <path clip-path=\"url(#p3ae388fa28)\" d=\"M 347.04136 430.018125 \nL 352.395161 430.018125 \nL 352.395161 416.150778 \nL 347.04136 416.150778 \nz\n\" style=\"fill:#1f77b4;\"/>\n   </g>\n   <g id=\"patch_52\">\n    <path clip-path=\"url(#p3ae388fa28)\" d=\"M 65.966761 430.018125 \nL 71.320563 430.018125 \nL 71.320563 423.084452 \nL 65.966761 423.084452 \nz\n\" style=\"fill:#1f77b4;\"/>\n   </g>\n   <g id=\"patch_53\">\n    <path clip-path=\"url(#p3ae388fa28)\" d=\"M 373.810369 430.018125 \nL 379.164171 430.018125 \nL 379.164171 402.283431 \nL 373.810369 402.283431 \nz\n\" style=\"fill:#1f77b4;\"/>\n   </g>\n   <g id=\"patch_54\">\n    <path clip-path=\"url(#p3ae388fa28)\" d=\"M 547.80893 430.018125 \nL 553.162732 430.018125 \nL 553.162732 423.084452 \nL 547.80893 423.084452 \nz\n\" style=\"fill:#1f77b4;\"/>\n   </g>\n   <g id=\"patch_55\">\n    <path clip-path=\"url(#p3ae388fa28)\" d=\"M 413.963883 430.018125 \nL 419.317685 430.018125 \nL 419.317685 423.084452 \nL 413.963883 423.084452 \nz\n\" style=\"fill:#1f77b4;\"/>\n   </g>\n   <g id=\"patch_56\">\n    <path clip-path=\"url(#p3ae388fa28)\" d=\"M 567.885687 430.018125 \nL 573.239489 430.018125 \nL 573.239489 423.084452 \nL 567.885687 423.084452 \nz\n\" style=\"fill:#1f77b4;\"/>\n   </g>\n   <g id=\"patch_57\">\n    <path clip-path=\"url(#p3ae388fa28)\" d=\"M 407.271631 430.018125 \nL 412.625433 430.018125 \nL 412.625433 423.084452 \nL 407.271631 423.084452 \nz\n\" style=\"fill:#1f77b4;\"/>\n   </g>\n   <g id=\"patch_58\">\n    <path clip-path=\"url(#p3ae388fa28)\" d=\"M 400.579378 430.018125 \nL 405.93318 430.018125 \nL 405.93318 423.084452 \nL 400.579378 423.084452 \nz\n\" style=\"fill:#1f77b4;\"/>\n   </g>\n   <g id=\"matplotlib.axis_1\">\n    <g id=\"xtick_1\">\n     <g id=\"line2d_1\">\n      <defs>\n       <path d=\"M 0 0 \nL 0 3.5 \n\" id=\"m82ae38b0cf\" style=\"stroke:#000000;stroke-width:0.8;\"/>\n      </defs>\n      <g>\n       <use style=\"stroke:#000000;stroke-width:0.8;\" x=\"55.259158\" xlink:href=\"#m82ae38b0cf\" y=\"430.018125\"/>\n      </g>\n     </g>\n     <g id=\"text_1\">\n      <!-- 0 -->\n      <defs>\n       <path d=\"M 31.78125 66.40625 \nQ 24.171875 66.40625 20.328125 58.90625 \nQ 16.5 51.421875 16.5 36.375 \nQ 16.5 21.390625 20.328125 13.890625 \nQ 24.171875 6.390625 31.78125 6.390625 \nQ 39.453125 6.390625 43.28125 13.890625 \nQ 47.125 21.390625 47.125 36.375 \nQ 47.125 51.421875 43.28125 58.90625 \nQ 39.453125 66.40625 31.78125 66.40625 \nz\nM 31.78125 74.21875 \nQ 44.046875 74.21875 50.515625 64.515625 \nQ 56.984375 54.828125 56.984375 36.375 \nQ 56.984375 17.96875 50.515625 8.265625 \nQ 44.046875 -1.421875 31.78125 -1.421875 \nQ 19.53125 -1.421875 13.0625 8.265625 \nQ 6.59375 17.96875 6.59375 36.375 \nQ 6.59375 54.828125 13.0625 64.515625 \nQ 19.53125 74.21875 31.78125 74.21875 \nz\n\" id=\"DejaVuSans-48\"/>\n      </defs>\n      <g transform=\"translate(52.077908 444.616562)scale(0.1 -0.1)\">\n       <use xlink:href=\"#DejaVuSans-48\"/>\n      </g>\n     </g>\n    </g>\n    <g id=\"xtick_2\">\n     <g id=\"line2d_2\">\n      <g>\n       <use style=\"stroke:#000000;stroke-width:0.8;\" x=\"122.181681\" xlink:href=\"#m82ae38b0cf\" y=\"430.018125\"/>\n      </g>\n     </g>\n     <g id=\"text_2\">\n      <!-- 10 -->\n      <defs>\n       <path d=\"M 12.40625 8.296875 \nL 28.515625 8.296875 \nL 28.515625 63.921875 \nL 10.984375 60.40625 \nL 10.984375 69.390625 \nL 28.421875 72.90625 \nL 38.28125 72.90625 \nL 38.28125 8.296875 \nL 54.390625 8.296875 \nL 54.390625 0 \nL 12.40625 0 \nz\n\" id=\"DejaVuSans-49\"/>\n      </defs>\n      <g transform=\"translate(115.819181 444.616562)scale(0.1 -0.1)\">\n       <use xlink:href=\"#DejaVuSans-49\"/>\n       <use x=\"63.623047\" xlink:href=\"#DejaVuSans-48\"/>\n      </g>\n     </g>\n    </g>\n    <g id=\"xtick_3\">\n     <g id=\"line2d_3\">\n      <g>\n       <use style=\"stroke:#000000;stroke-width:0.8;\" x=\"189.104204\" xlink:href=\"#m82ae38b0cf\" y=\"430.018125\"/>\n      </g>\n     </g>\n     <g id=\"text_3\">\n      <!-- 20 -->\n      <defs>\n       <path d=\"M 19.1875 8.296875 \nL 53.609375 8.296875 \nL 53.609375 0 \nL 7.328125 0 \nL 7.328125 8.296875 \nQ 12.9375 14.109375 22.625 23.890625 \nQ 32.328125 33.6875 34.8125 36.53125 \nQ 39.546875 41.84375 41.421875 45.53125 \nQ 43.3125 49.21875 43.3125 52.78125 \nQ 43.3125 58.59375 39.234375 62.25 \nQ 35.15625 65.921875 28.609375 65.921875 \nQ 23.96875 65.921875 18.8125 64.3125 \nQ 13.671875 62.703125 7.8125 59.421875 \nL 7.8125 69.390625 \nQ 13.765625 71.78125 18.9375 73 \nQ 24.125 74.21875 28.421875 74.21875 \nQ 39.75 74.21875 46.484375 68.546875 \nQ 53.21875 62.890625 53.21875 53.421875 \nQ 53.21875 48.921875 51.53125 44.890625 \nQ 49.859375 40.875 45.40625 35.40625 \nQ 44.1875 33.984375 37.640625 27.21875 \nQ 31.109375 20.453125 19.1875 8.296875 \nz\n\" id=\"DejaVuSans-50\"/>\n      </defs>\n      <g transform=\"translate(182.741704 444.616562)scale(0.1 -0.1)\">\n       <use xlink:href=\"#DejaVuSans-50\"/>\n       <use x=\"63.623047\" xlink:href=\"#DejaVuSans-48\"/>\n      </g>\n     </g>\n    </g>\n    <g id=\"xtick_4\">\n     <g id=\"line2d_4\">\n      <g>\n       <use style=\"stroke:#000000;stroke-width:0.8;\" x=\"256.026728\" xlink:href=\"#m82ae38b0cf\" y=\"430.018125\"/>\n      </g>\n     </g>\n     <g id=\"text_4\">\n      <!-- 30 -->\n      <defs>\n       <path d=\"M 40.578125 39.3125 \nQ 47.65625 37.796875 51.625 33 \nQ 55.609375 28.21875 55.609375 21.1875 \nQ 55.609375 10.40625 48.1875 4.484375 \nQ 40.765625 -1.421875 27.09375 -1.421875 \nQ 22.515625 -1.421875 17.65625 -0.515625 \nQ 12.796875 0.390625 7.625 2.203125 \nL 7.625 11.71875 \nQ 11.71875 9.328125 16.59375 8.109375 \nQ 21.484375 6.890625 26.8125 6.890625 \nQ 36.078125 6.890625 40.9375 10.546875 \nQ 45.796875 14.203125 45.796875 21.1875 \nQ 45.796875 27.640625 41.28125 31.265625 \nQ 36.765625 34.90625 28.71875 34.90625 \nL 20.21875 34.90625 \nL 20.21875 43.015625 \nL 29.109375 43.015625 \nQ 36.375 43.015625 40.234375 45.921875 \nQ 44.09375 48.828125 44.09375 54.296875 \nQ 44.09375 59.90625 40.109375 62.90625 \nQ 36.140625 65.921875 28.71875 65.921875 \nQ 24.65625 65.921875 20.015625 65.03125 \nQ 15.375 64.15625 9.8125 62.3125 \nL 9.8125 71.09375 \nQ 15.4375 72.65625 20.34375 73.4375 \nQ 25.25 74.21875 29.59375 74.21875 \nQ 40.828125 74.21875 47.359375 69.109375 \nQ 53.90625 64.015625 53.90625 55.328125 \nQ 53.90625 49.265625 50.4375 45.09375 \nQ 46.96875 40.921875 40.578125 39.3125 \nz\n\" id=\"DejaVuSans-51\"/>\n      </defs>\n      <g transform=\"translate(249.664228 444.616562)scale(0.1 -0.1)\">\n       <use xlink:href=\"#DejaVuSans-51\"/>\n       <use x=\"63.623047\" xlink:href=\"#DejaVuSans-48\"/>\n      </g>\n     </g>\n    </g>\n    <g id=\"xtick_5\">\n     <g id=\"line2d_5\">\n      <g>\n       <use style=\"stroke:#000000;stroke-width:0.8;\" x=\"322.949251\" xlink:href=\"#m82ae38b0cf\" y=\"430.018125\"/>\n      </g>\n     </g>\n     <g id=\"text_5\">\n      <!-- 40 -->\n      <defs>\n       <path d=\"M 37.796875 64.3125 \nL 12.890625 25.390625 \nL 37.796875 25.390625 \nz\nM 35.203125 72.90625 \nL 47.609375 72.90625 \nL 47.609375 25.390625 \nL 58.015625 25.390625 \nL 58.015625 17.1875 \nL 47.609375 17.1875 \nL 47.609375 0 \nL 37.796875 0 \nL 37.796875 17.1875 \nL 4.890625 17.1875 \nL 4.890625 26.703125 \nz\n\" id=\"DejaVuSans-52\"/>\n      </defs>\n      <g transform=\"translate(316.586751 444.616562)scale(0.1 -0.1)\">\n       <use xlink:href=\"#DejaVuSans-52\"/>\n       <use x=\"63.623047\" xlink:href=\"#DejaVuSans-48\"/>\n      </g>\n     </g>\n    </g>\n    <g id=\"xtick_6\">\n     <g id=\"line2d_6\">\n      <g>\n       <use style=\"stroke:#000000;stroke-width:0.8;\" x=\"389.871775\" xlink:href=\"#m82ae38b0cf\" y=\"430.018125\"/>\n      </g>\n     </g>\n     <g id=\"text_6\">\n      <!-- 50 -->\n      <defs>\n       <path d=\"M 10.796875 72.90625 \nL 49.515625 72.90625 \nL 49.515625 64.59375 \nL 19.828125 64.59375 \nL 19.828125 46.734375 \nQ 21.96875 47.46875 24.109375 47.828125 \nQ 26.265625 48.1875 28.421875 48.1875 \nQ 40.625 48.1875 47.75 41.5 \nQ 54.890625 34.8125 54.890625 23.390625 \nQ 54.890625 11.625 47.5625 5.09375 \nQ 40.234375 -1.421875 26.90625 -1.421875 \nQ 22.3125 -1.421875 17.546875 -0.640625 \nQ 12.796875 0.140625 7.71875 1.703125 \nL 7.71875 11.625 \nQ 12.109375 9.234375 16.796875 8.0625 \nQ 21.484375 6.890625 26.703125 6.890625 \nQ 35.15625 6.890625 40.078125 11.328125 \nQ 45.015625 15.765625 45.015625 23.390625 \nQ 45.015625 31 40.078125 35.4375 \nQ 35.15625 39.890625 26.703125 39.890625 \nQ 22.75 39.890625 18.8125 39.015625 \nQ 14.890625 38.140625 10.796875 36.28125 \nz\n\" id=\"DejaVuSans-53\"/>\n      </defs>\n      <g transform=\"translate(383.509275 444.616562)scale(0.1 -0.1)\">\n       <use xlink:href=\"#DejaVuSans-53\"/>\n       <use x=\"63.623047\" xlink:href=\"#DejaVuSans-48\"/>\n      </g>\n     </g>\n    </g>\n    <g id=\"xtick_7\">\n     <g id=\"line2d_7\">\n      <g>\n       <use style=\"stroke:#000000;stroke-width:0.8;\" x=\"456.794298\" xlink:href=\"#m82ae38b0cf\" y=\"430.018125\"/>\n      </g>\n     </g>\n     <g id=\"text_7\">\n      <!-- 60 -->\n      <defs>\n       <path d=\"M 33.015625 40.375 \nQ 26.375 40.375 22.484375 35.828125 \nQ 18.609375 31.296875 18.609375 23.390625 \nQ 18.609375 15.53125 22.484375 10.953125 \nQ 26.375 6.390625 33.015625 6.390625 \nQ 39.65625 6.390625 43.53125 10.953125 \nQ 47.40625 15.53125 47.40625 23.390625 \nQ 47.40625 31.296875 43.53125 35.828125 \nQ 39.65625 40.375 33.015625 40.375 \nz\nM 52.59375 71.296875 \nL 52.59375 62.3125 \nQ 48.875 64.0625 45.09375 64.984375 \nQ 41.3125 65.921875 37.59375 65.921875 \nQ 27.828125 65.921875 22.671875 59.328125 \nQ 17.53125 52.734375 16.796875 39.40625 \nQ 19.671875 43.65625 24.015625 45.921875 \nQ 28.375 48.1875 33.59375 48.1875 \nQ 44.578125 48.1875 50.953125 41.515625 \nQ 57.328125 34.859375 57.328125 23.390625 \nQ 57.328125 12.15625 50.6875 5.359375 \nQ 44.046875 -1.421875 33.015625 -1.421875 \nQ 20.359375 -1.421875 13.671875 8.265625 \nQ 6.984375 17.96875 6.984375 36.375 \nQ 6.984375 53.65625 15.1875 63.9375 \nQ 23.390625 74.21875 37.203125 74.21875 \nQ 40.921875 74.21875 44.703125 73.484375 \nQ 48.484375 72.75 52.59375 71.296875 \nz\n\" id=\"DejaVuSans-54\"/>\n      </defs>\n      <g transform=\"translate(450.431798 444.616562)scale(0.1 -0.1)\">\n       <use xlink:href=\"#DejaVuSans-54\"/>\n       <use x=\"63.623047\" xlink:href=\"#DejaVuSans-48\"/>\n      </g>\n     </g>\n    </g>\n    <g id=\"xtick_8\">\n     <g id=\"line2d_8\">\n      <g>\n       <use style=\"stroke:#000000;stroke-width:0.8;\" x=\"523.716821\" xlink:href=\"#m82ae38b0cf\" y=\"430.018125\"/>\n      </g>\n     </g>\n     <g id=\"text_8\">\n      <!-- 70 -->\n      <defs>\n       <path d=\"M 8.203125 72.90625 \nL 55.078125 72.90625 \nL 55.078125 68.703125 \nL 28.609375 0 \nL 18.3125 0 \nL 43.21875 64.59375 \nL 8.203125 64.59375 \nz\n\" id=\"DejaVuSans-55\"/>\n      </defs>\n      <g transform=\"translate(517.354321 444.616562)scale(0.1 -0.1)\">\n       <use xlink:href=\"#DejaVuSans-55\"/>\n       <use x=\"63.623047\" xlink:href=\"#DejaVuSans-48\"/>\n      </g>\n     </g>\n    </g>\n    <g id=\"xtick_9\">\n     <g id=\"line2d_9\">\n      <g>\n       <use style=\"stroke:#000000;stroke-width:0.8;\" x=\"590.639345\" xlink:href=\"#m82ae38b0cf\" y=\"430.018125\"/>\n      </g>\n     </g>\n     <g id=\"text_9\">\n      <!-- 80 -->\n      <defs>\n       <path d=\"M 31.78125 34.625 \nQ 24.75 34.625 20.71875 30.859375 \nQ 16.703125 27.09375 16.703125 20.515625 \nQ 16.703125 13.921875 20.71875 10.15625 \nQ 24.75 6.390625 31.78125 6.390625 \nQ 38.8125 6.390625 42.859375 10.171875 \nQ 46.921875 13.96875 46.921875 20.515625 \nQ 46.921875 27.09375 42.890625 30.859375 \nQ 38.875 34.625 31.78125 34.625 \nz\nM 21.921875 38.8125 \nQ 15.578125 40.375 12.03125 44.71875 \nQ 8.5 49.078125 8.5 55.328125 \nQ 8.5 64.0625 14.71875 69.140625 \nQ 20.953125 74.21875 31.78125 74.21875 \nQ 42.671875 74.21875 48.875 69.140625 \nQ 55.078125 64.0625 55.078125 55.328125 \nQ 55.078125 49.078125 51.53125 44.71875 \nQ 48 40.375 41.703125 38.8125 \nQ 48.828125 37.15625 52.796875 32.3125 \nQ 56.78125 27.484375 56.78125 20.515625 \nQ 56.78125 9.90625 50.3125 4.234375 \nQ 43.84375 -1.421875 31.78125 -1.421875 \nQ 19.734375 -1.421875 13.25 4.234375 \nQ 6.78125 9.90625 6.78125 20.515625 \nQ 6.78125 27.484375 10.78125 32.3125 \nQ 14.796875 37.15625 21.921875 38.8125 \nz\nM 18.3125 54.390625 \nQ 18.3125 48.734375 21.84375 45.5625 \nQ 25.390625 42.390625 31.78125 42.390625 \nQ 38.140625 42.390625 41.71875 45.5625 \nQ 45.3125 48.734375 45.3125 54.390625 \nQ 45.3125 60.0625 41.71875 63.234375 \nQ 38.140625 66.40625 31.78125 66.40625 \nQ 25.390625 66.40625 21.84375 63.234375 \nQ 18.3125 60.0625 18.3125 54.390625 \nz\n\" id=\"DejaVuSans-56\"/>\n      </defs>\n      <g transform=\"translate(584.276845 444.616562)scale(0.1 -0.1)\">\n       <use xlink:href=\"#DejaVuSans-56\"/>\n       <use x=\"63.623047\" xlink:href=\"#DejaVuSans-48\"/>\n      </g>\n     </g>\n    </g>\n    <g id=\"text_10\">\n     <!-- word count -->\n     <defs>\n      <path d=\"M 4.203125 54.6875 \nL 13.1875 54.6875 \nL 24.421875 12.015625 \nL 35.59375 54.6875 \nL 46.1875 54.6875 \nL 57.421875 12.015625 \nL 68.609375 54.6875 \nL 77.59375 54.6875 \nL 63.28125 0 \nL 52.6875 0 \nL 40.921875 44.828125 \nL 29.109375 0 \nL 18.5 0 \nz\n\" id=\"DejaVuSans-119\"/>\n      <path d=\"M 30.609375 48.390625 \nQ 23.390625 48.390625 19.1875 42.75 \nQ 14.984375 37.109375 14.984375 27.296875 \nQ 14.984375 17.484375 19.15625 11.84375 \nQ 23.34375 6.203125 30.609375 6.203125 \nQ 37.796875 6.203125 41.984375 11.859375 \nQ 46.1875 17.53125 46.1875 27.296875 \nQ 46.1875 37.015625 41.984375 42.703125 \nQ 37.796875 48.390625 30.609375 48.390625 \nz\nM 30.609375 56 \nQ 42.328125 56 49.015625 48.375 \nQ 55.71875 40.765625 55.71875 27.296875 \nQ 55.71875 13.875 49.015625 6.21875 \nQ 42.328125 -1.421875 30.609375 -1.421875 \nQ 18.84375 -1.421875 12.171875 6.21875 \nQ 5.515625 13.875 5.515625 27.296875 \nQ 5.515625 40.765625 12.171875 48.375 \nQ 18.84375 56 30.609375 56 \nz\n\" id=\"DejaVuSans-111\"/>\n      <path d=\"M 41.109375 46.296875 \nQ 39.59375 47.171875 37.8125 47.578125 \nQ 36.03125 48 33.890625 48 \nQ 26.265625 48 22.1875 43.046875 \nQ 18.109375 38.09375 18.109375 28.8125 \nL 18.109375 0 \nL 9.078125 0 \nL 9.078125 54.6875 \nL 18.109375 54.6875 \nL 18.109375 46.1875 \nQ 20.953125 51.171875 25.484375 53.578125 \nQ 30.03125 56 36.53125 56 \nQ 37.453125 56 38.578125 55.875 \nQ 39.703125 55.765625 41.0625 55.515625 \nz\n\" id=\"DejaVuSans-114\"/>\n      <path d=\"M 45.40625 46.390625 \nL 45.40625 75.984375 \nL 54.390625 75.984375 \nL 54.390625 0 \nL 45.40625 0 \nL 45.40625 8.203125 \nQ 42.578125 3.328125 38.25 0.953125 \nQ 33.9375 -1.421875 27.875 -1.421875 \nQ 17.96875 -1.421875 11.734375 6.484375 \nQ 5.515625 14.40625 5.515625 27.296875 \nQ 5.515625 40.1875 11.734375 48.09375 \nQ 17.96875 56 27.875 56 \nQ 33.9375 56 38.25 53.625 \nQ 42.578125 51.265625 45.40625 46.390625 \nz\nM 14.796875 27.296875 \nQ 14.796875 17.390625 18.875 11.75 \nQ 22.953125 6.109375 30.078125 6.109375 \nQ 37.203125 6.109375 41.296875 11.75 \nQ 45.40625 17.390625 45.40625 27.296875 \nQ 45.40625 37.203125 41.296875 42.84375 \nQ 37.203125 48.484375 30.078125 48.484375 \nQ 22.953125 48.484375 18.875 42.84375 \nQ 14.796875 37.203125 14.796875 27.296875 \nz\n\" id=\"DejaVuSans-100\"/>\n      <path id=\"DejaVuSans-32\"/>\n      <path d=\"M 48.78125 52.59375 \nL 48.78125 44.1875 \nQ 44.96875 46.296875 41.140625 47.34375 \nQ 37.3125 48.390625 33.40625 48.390625 \nQ 24.65625 48.390625 19.8125 42.84375 \nQ 14.984375 37.3125 14.984375 27.296875 \nQ 14.984375 17.28125 19.8125 11.734375 \nQ 24.65625 6.203125 33.40625 6.203125 \nQ 37.3125 6.203125 41.140625 7.25 \nQ 44.96875 8.296875 48.78125 10.40625 \nL 48.78125 2.09375 \nQ 45.015625 0.34375 40.984375 -0.53125 \nQ 36.96875 -1.421875 32.421875 -1.421875 \nQ 20.0625 -1.421875 12.78125 6.34375 \nQ 5.515625 14.109375 5.515625 27.296875 \nQ 5.515625 40.671875 12.859375 48.328125 \nQ 20.21875 56 33.015625 56 \nQ 37.15625 56 41.109375 55.140625 \nQ 45.0625 54.296875 48.78125 52.59375 \nz\n\" id=\"DejaVuSans-99\"/>\n      <path d=\"M 8.5 21.578125 \nL 8.5 54.6875 \nL 17.484375 54.6875 \nL 17.484375 21.921875 \nQ 17.484375 14.15625 20.5 10.265625 \nQ 23.53125 6.390625 29.59375 6.390625 \nQ 36.859375 6.390625 41.078125 11.03125 \nQ 45.3125 15.671875 45.3125 23.6875 \nL 45.3125 54.6875 \nL 54.296875 54.6875 \nL 54.296875 0 \nL 45.3125 0 \nL 45.3125 8.40625 \nQ 42.046875 3.421875 37.71875 1 \nQ 33.40625 -1.421875 27.6875 -1.421875 \nQ 18.265625 -1.421875 13.375 4.4375 \nQ 8.5 10.296875 8.5 21.578125 \nz\nM 31.109375 56 \nz\n\" id=\"DejaVuSans-117\"/>\n      <path d=\"M 54.890625 33.015625 \nL 54.890625 0 \nL 45.90625 0 \nL 45.90625 32.71875 \nQ 45.90625 40.484375 42.875 44.328125 \nQ 39.84375 48.1875 33.796875 48.1875 \nQ 26.515625 48.1875 22.3125 43.546875 \nQ 18.109375 38.921875 18.109375 30.90625 \nL 18.109375 0 \nL 9.078125 0 \nL 9.078125 54.6875 \nL 18.109375 54.6875 \nL 18.109375 46.1875 \nQ 21.34375 51.125 25.703125 53.5625 \nQ 30.078125 56 35.796875 56 \nQ 45.21875 56 50.046875 50.171875 \nQ 54.890625 44.34375 54.890625 33.015625 \nz\n\" id=\"DejaVuSans-110\"/>\n      <path d=\"M 18.3125 70.21875 \nL 18.3125 54.6875 \nL 36.8125 54.6875 \nL 36.8125 47.703125 \nL 18.3125 47.703125 \nL 18.3125 18.015625 \nQ 18.3125 11.328125 20.140625 9.421875 \nQ 21.96875 7.515625 27.59375 7.515625 \nL 36.8125 7.515625 \nL 36.8125 0 \nL 27.59375 0 \nQ 17.1875 0 13.234375 3.875 \nQ 9.28125 7.765625 9.28125 18.015625 \nL 9.28125 47.703125 \nL 2.6875 47.703125 \nL 2.6875 54.6875 \nL 9.28125 54.6875 \nL 9.28125 70.21875 \nz\n\" id=\"DejaVuSans-116\"/>\n     </defs>\n     <g transform=\"translate(291.617188 458.294687)scale(0.1 -0.1)\">\n      <use xlink:href=\"#DejaVuSans-119\"/>\n      <use x=\"81.787109\" xlink:href=\"#DejaVuSans-111\"/>\n      <use x=\"142.96875\" xlink:href=\"#DejaVuSans-114\"/>\n      <use x=\"182.332031\" xlink:href=\"#DejaVuSans-100\"/>\n      <use x=\"245.808594\" xlink:href=\"#DejaVuSans-32\"/>\n      <use x=\"277.595703\" xlink:href=\"#DejaVuSans-99\"/>\n      <use x=\"332.576172\" xlink:href=\"#DejaVuSans-111\"/>\n      <use x=\"393.757812\" xlink:href=\"#DejaVuSans-117\"/>\n      <use x=\"457.136719\" xlink:href=\"#DejaVuSans-110\"/>\n      <use x=\"520.515625\" xlink:href=\"#DejaVuSans-116\"/>\n     </g>\n    </g>\n   </g>\n   <g id=\"matplotlib.axis_2\">\n    <g id=\"ytick_1\">\n     <g id=\"line2d_10\">\n      <defs>\n       <path d=\"M 0 0 \nL -3.5 0 \n\" id=\"m124f381d86\" style=\"stroke:#000000;stroke-width:0.8;\"/>\n      </defs>\n      <g>\n       <use style=\"stroke:#000000;stroke-width:0.8;\" x=\"40.603125\" xlink:href=\"#m124f381d86\" y=\"430.018125\"/>\n      </g>\n     </g>\n     <g id=\"text_11\">\n      <!-- 0 -->\n      <g transform=\"translate(27.240625 433.817344)scale(0.1 -0.1)\">\n       <use xlink:href=\"#DejaVuSans-48\"/>\n      </g>\n     </g>\n    </g>\n    <g id=\"ytick_2\">\n     <g id=\"line2d_11\">\n      <g>\n       <use style=\"stroke:#000000;stroke-width:0.8;\" x=\"40.603125\" xlink:href=\"#m124f381d86\" y=\"360.68139\"/>\n      </g>\n     </g>\n     <g id=\"text_12\">\n      <!-- 10 -->\n      <g transform=\"translate(20.878125 364.480609)scale(0.1 -0.1)\">\n       <use xlink:href=\"#DejaVuSans-49\"/>\n       <use x=\"63.623047\" xlink:href=\"#DejaVuSans-48\"/>\n      </g>\n     </g>\n    </g>\n    <g id=\"ytick_3\">\n     <g id=\"line2d_12\">\n      <g>\n       <use style=\"stroke:#000000;stroke-width:0.8;\" x=\"40.603125\" xlink:href=\"#m124f381d86\" y=\"291.344656\"/>\n      </g>\n     </g>\n     <g id=\"text_13\">\n      <!-- 20 -->\n      <g transform=\"translate(20.878125 295.143874)scale(0.1 -0.1)\">\n       <use xlink:href=\"#DejaVuSans-50\"/>\n       <use x=\"63.623047\" xlink:href=\"#DejaVuSans-48\"/>\n      </g>\n     </g>\n    </g>\n    <g id=\"ytick_4\">\n     <g id=\"line2d_13\">\n      <g>\n       <use style=\"stroke:#000000;stroke-width:0.8;\" x=\"40.603125\" xlink:href=\"#m124f381d86\" y=\"222.007921\"/>\n      </g>\n     </g>\n     <g id=\"text_14\">\n      <!-- 30 -->\n      <g transform=\"translate(20.878125 225.80714)scale(0.1 -0.1)\">\n       <use xlink:href=\"#DejaVuSans-51\"/>\n       <use x=\"63.623047\" xlink:href=\"#DejaVuSans-48\"/>\n      </g>\n     </g>\n    </g>\n    <g id=\"ytick_5\">\n     <g id=\"line2d_14\">\n      <g>\n       <use style=\"stroke:#000000;stroke-width:0.8;\" x=\"40.603125\" xlink:href=\"#m124f381d86\" y=\"152.671186\"/>\n      </g>\n     </g>\n     <g id=\"text_15\">\n      <!-- 40 -->\n      <g transform=\"translate(20.878125 156.470405)scale(0.1 -0.1)\">\n       <use xlink:href=\"#DejaVuSans-52\"/>\n       <use x=\"63.623047\" xlink:href=\"#DejaVuSans-48\"/>\n      </g>\n     </g>\n    </g>\n    <g id=\"ytick_6\">\n     <g id=\"line2d_15\">\n      <g>\n       <use style=\"stroke:#000000;stroke-width:0.8;\" x=\"40.603125\" xlink:href=\"#m124f381d86\" y=\"83.334452\"/>\n      </g>\n     </g>\n     <g id=\"text_16\">\n      <!-- 50 -->\n      <g transform=\"translate(20.878125 87.13367)scale(0.1 -0.1)\">\n       <use xlink:href=\"#DejaVuSans-53\"/>\n       <use x=\"63.623047\" xlink:href=\"#DejaVuSans-48\"/>\n      </g>\n     </g>\n    </g>\n    <g id=\"text_17\">\n     <!-- sentences with word count -->\n     <defs>\n      <path d=\"M 44.28125 53.078125 \nL 44.28125 44.578125 \nQ 40.484375 46.53125 36.375 47.5 \nQ 32.28125 48.484375 27.875 48.484375 \nQ 21.1875 48.484375 17.84375 46.4375 \nQ 14.5 44.390625 14.5 40.28125 \nQ 14.5 37.15625 16.890625 35.375 \nQ 19.28125 33.59375 26.515625 31.984375 \nL 29.59375 31.296875 \nQ 39.15625 29.25 43.1875 25.515625 \nQ 47.21875 21.78125 47.21875 15.09375 \nQ 47.21875 7.46875 41.1875 3.015625 \nQ 35.15625 -1.421875 24.609375 -1.421875 \nQ 20.21875 -1.421875 15.453125 -0.5625 \nQ 10.6875 0.296875 5.421875 2 \nL 5.421875 11.28125 \nQ 10.40625 8.6875 15.234375 7.390625 \nQ 20.0625 6.109375 24.8125 6.109375 \nQ 31.15625 6.109375 34.5625 8.28125 \nQ 37.984375 10.453125 37.984375 14.40625 \nQ 37.984375 18.0625 35.515625 20.015625 \nQ 33.0625 21.96875 24.703125 23.78125 \nL 21.578125 24.515625 \nQ 13.234375 26.265625 9.515625 29.90625 \nQ 5.8125 33.546875 5.8125 39.890625 \nQ 5.8125 47.609375 11.28125 51.796875 \nQ 16.75 56 26.8125 56 \nQ 31.78125 56 36.171875 55.265625 \nQ 40.578125 54.546875 44.28125 53.078125 \nz\n\" id=\"DejaVuSans-115\"/>\n      <path d=\"M 56.203125 29.59375 \nL 56.203125 25.203125 \nL 14.890625 25.203125 \nQ 15.484375 15.921875 20.484375 11.0625 \nQ 25.484375 6.203125 34.421875 6.203125 \nQ 39.59375 6.203125 44.453125 7.46875 \nQ 49.3125 8.734375 54.109375 11.28125 \nL 54.109375 2.78125 \nQ 49.265625 0.734375 44.1875 -0.34375 \nQ 39.109375 -1.421875 33.890625 -1.421875 \nQ 20.796875 -1.421875 13.15625 6.1875 \nQ 5.515625 13.8125 5.515625 26.8125 \nQ 5.515625 40.234375 12.765625 48.109375 \nQ 20.015625 56 32.328125 56 \nQ 43.359375 56 49.78125 48.890625 \nQ 56.203125 41.796875 56.203125 29.59375 \nz\nM 47.21875 32.234375 \nQ 47.125 39.59375 43.09375 43.984375 \nQ 39.0625 48.390625 32.421875 48.390625 \nQ 24.90625 48.390625 20.390625 44.140625 \nQ 15.875 39.890625 15.1875 32.171875 \nz\n\" id=\"DejaVuSans-101\"/>\n      <path d=\"M 9.421875 54.6875 \nL 18.40625 54.6875 \nL 18.40625 0 \nL 9.421875 0 \nz\nM 9.421875 75.984375 \nL 18.40625 75.984375 \nL 18.40625 64.59375 \nL 9.421875 64.59375 \nz\n\" id=\"DejaVuSans-105\"/>\n      <path d=\"M 54.890625 33.015625 \nL 54.890625 0 \nL 45.90625 0 \nL 45.90625 32.71875 \nQ 45.90625 40.484375 42.875 44.328125 \nQ 39.84375 48.1875 33.796875 48.1875 \nQ 26.515625 48.1875 22.3125 43.546875 \nQ 18.109375 38.921875 18.109375 30.90625 \nL 18.109375 0 \nL 9.078125 0 \nL 9.078125 75.984375 \nL 18.109375 75.984375 \nL 18.109375 46.1875 \nQ 21.34375 51.125 25.703125 53.5625 \nQ 30.078125 56 35.796875 56 \nQ 45.21875 56 50.046875 50.171875 \nQ 54.890625 44.34375 54.890625 33.015625 \nz\n\" id=\"DejaVuSans-104\"/>\n     </defs>\n     <g transform=\"translate(14.798438 293.425156)rotate(-90)scale(0.1 -0.1)\">\n      <use xlink:href=\"#DejaVuSans-115\"/>\n      <use x=\"52.099609\" xlink:href=\"#DejaVuSans-101\"/>\n      <use x=\"113.623047\" xlink:href=\"#DejaVuSans-110\"/>\n      <use x=\"177.001953\" xlink:href=\"#DejaVuSans-116\"/>\n      <use x=\"216.210938\" xlink:href=\"#DejaVuSans-101\"/>\n      <use x=\"277.734375\" xlink:href=\"#DejaVuSans-110\"/>\n      <use x=\"341.113281\" xlink:href=\"#DejaVuSans-99\"/>\n      <use x=\"396.09375\" xlink:href=\"#DejaVuSans-101\"/>\n      <use x=\"457.617188\" xlink:href=\"#DejaVuSans-115\"/>\n      <use x=\"509.716797\" xlink:href=\"#DejaVuSans-32\"/>\n      <use x=\"541.503906\" xlink:href=\"#DejaVuSans-119\"/>\n      <use x=\"623.291016\" xlink:href=\"#DejaVuSans-105\"/>\n      <use x=\"651.074219\" xlink:href=\"#DejaVuSans-116\"/>\n      <use x=\"690.283203\" xlink:href=\"#DejaVuSans-104\"/>\n      <use x=\"753.662109\" xlink:href=\"#DejaVuSans-32\"/>\n      <use x=\"785.449219\" xlink:href=\"#DejaVuSans-119\"/>\n      <use x=\"867.236328\" xlink:href=\"#DejaVuSans-111\"/>\n      <use x=\"928.417969\" xlink:href=\"#DejaVuSans-114\"/>\n      <use x=\"967.78125\" xlink:href=\"#DejaVuSans-100\"/>\n      <use x=\"1031.257812\" xlink:href=\"#DejaVuSans-32\"/>\n      <use x=\"1063.044922\" xlink:href=\"#DejaVuSans-99\"/>\n      <use x=\"1118.025391\" xlink:href=\"#DejaVuSans-111\"/>\n      <use x=\"1179.207031\" xlink:href=\"#DejaVuSans-117\"/>\n      <use x=\"1242.585938\" xlink:href=\"#DejaVuSans-110\"/>\n      <use x=\"1305.964844\" xlink:href=\"#DejaVuSans-116\"/>\n     </g>\n    </g>\n   </g>\n   <g id=\"patch_59\">\n    <path d=\"M 40.603125 430.018125 \nL 40.603125 22.318125 \n\" style=\"fill:none;stroke:#000000;stroke-linecap:square;stroke-linejoin:miter;stroke-width:0.8;\"/>\n   </g>\n   <g id=\"patch_60\">\n    <path d=\"M 598.603125 430.018125 \nL 598.603125 22.318125 \n\" style=\"fill:none;stroke:#000000;stroke-linecap:square;stroke-linejoin:miter;stroke-width:0.8;\"/>\n   </g>\n   <g id=\"patch_61\">\n    <path d=\"M 40.603125 430.018125 \nL 598.603125 430.018125 \n\" style=\"fill:none;stroke:#000000;stroke-linecap:square;stroke-linejoin:miter;stroke-width:0.8;\"/>\n   </g>\n   <g id=\"patch_62\">\n    <path d=\"M 40.603125 22.318125 \nL 598.603125 22.318125 \n\" style=\"fill:none;stroke:#000000;stroke-linecap:square;stroke-linejoin:miter;stroke-width:0.8;\"/>\n   </g>\n   <g id=\"text_18\">\n    <!-- word count per sentences distribution -->\n    <defs>\n     <path d=\"M 18.109375 8.203125 \nL 18.109375 -20.796875 \nL 9.078125 -20.796875 \nL 9.078125 54.6875 \nL 18.109375 54.6875 \nL 18.109375 46.390625 \nQ 20.953125 51.265625 25.265625 53.625 \nQ 29.59375 56 35.59375 56 \nQ 45.5625 56 51.78125 48.09375 \nQ 58.015625 40.1875 58.015625 27.296875 \nQ 58.015625 14.40625 51.78125 6.484375 \nQ 45.5625 -1.421875 35.59375 -1.421875 \nQ 29.59375 -1.421875 25.265625 0.953125 \nQ 20.953125 3.328125 18.109375 8.203125 \nz\nM 48.6875 27.296875 \nQ 48.6875 37.203125 44.609375 42.84375 \nQ 40.53125 48.484375 33.40625 48.484375 \nQ 26.265625 48.484375 22.1875 42.84375 \nQ 18.109375 37.203125 18.109375 27.296875 \nQ 18.109375 17.390625 22.1875 11.75 \nQ 26.265625 6.109375 33.40625 6.109375 \nQ 40.53125 6.109375 44.609375 11.75 \nQ 48.6875 17.390625 48.6875 27.296875 \nz\n\" id=\"DejaVuSans-112\"/>\n     <path d=\"M 48.6875 27.296875 \nQ 48.6875 37.203125 44.609375 42.84375 \nQ 40.53125 48.484375 33.40625 48.484375 \nQ 26.265625 48.484375 22.1875 42.84375 \nQ 18.109375 37.203125 18.109375 27.296875 \nQ 18.109375 17.390625 22.1875 11.75 \nQ 26.265625 6.109375 33.40625 6.109375 \nQ 40.53125 6.109375 44.609375 11.75 \nQ 48.6875 17.390625 48.6875 27.296875 \nz\nM 18.109375 46.390625 \nQ 20.953125 51.265625 25.265625 53.625 \nQ 29.59375 56 35.59375 56 \nQ 45.5625 56 51.78125 48.09375 \nQ 58.015625 40.1875 58.015625 27.296875 \nQ 58.015625 14.40625 51.78125 6.484375 \nQ 45.5625 -1.421875 35.59375 -1.421875 \nQ 29.59375 -1.421875 25.265625 0.953125 \nQ 20.953125 3.328125 18.109375 8.203125 \nL 18.109375 0 \nL 9.078125 0 \nL 9.078125 75.984375 \nL 18.109375 75.984375 \nz\n\" id=\"DejaVuSans-98\"/>\n    </defs>\n    <g transform=\"translate(205.557187 16.318125)scale(0.12 -0.12)\">\n     <use xlink:href=\"#DejaVuSans-119\"/>\n     <use x=\"81.787109\" xlink:href=\"#DejaVuSans-111\"/>\n     <use x=\"142.96875\" xlink:href=\"#DejaVuSans-114\"/>\n     <use x=\"182.332031\" xlink:href=\"#DejaVuSans-100\"/>\n     <use x=\"245.808594\" xlink:href=\"#DejaVuSans-32\"/>\n     <use x=\"277.595703\" xlink:href=\"#DejaVuSans-99\"/>\n     <use x=\"332.576172\" xlink:href=\"#DejaVuSans-111\"/>\n     <use x=\"393.757812\" xlink:href=\"#DejaVuSans-117\"/>\n     <use x=\"457.136719\" xlink:href=\"#DejaVuSans-110\"/>\n     <use x=\"520.515625\" xlink:href=\"#DejaVuSans-116\"/>\n     <use x=\"559.724609\" xlink:href=\"#DejaVuSans-32\"/>\n     <use x=\"591.511719\" xlink:href=\"#DejaVuSans-112\"/>\n     <use x=\"654.988281\" xlink:href=\"#DejaVuSans-101\"/>\n     <use x=\"716.511719\" xlink:href=\"#DejaVuSans-114\"/>\n     <use x=\"757.625\" xlink:href=\"#DejaVuSans-32\"/>\n     <use x=\"789.412109\" xlink:href=\"#DejaVuSans-115\"/>\n     <use x=\"841.511719\" xlink:href=\"#DejaVuSans-101\"/>\n     <use x=\"903.035156\" xlink:href=\"#DejaVuSans-110\"/>\n     <use x=\"966.414062\" xlink:href=\"#DejaVuSans-116\"/>\n     <use x=\"1005.623047\" xlink:href=\"#DejaVuSans-101\"/>\n     <use x=\"1067.146484\" xlink:href=\"#DejaVuSans-110\"/>\n     <use x=\"1130.525391\" xlink:href=\"#DejaVuSans-99\"/>\n     <use x=\"1185.505859\" xlink:href=\"#DejaVuSans-101\"/>\n     <use x=\"1247.029297\" xlink:href=\"#DejaVuSans-115\"/>\n     <use x=\"1299.128906\" xlink:href=\"#DejaVuSans-32\"/>\n     <use x=\"1330.916016\" xlink:href=\"#DejaVuSans-100\"/>\n     <use x=\"1394.392578\" xlink:href=\"#DejaVuSans-105\"/>\n     <use x=\"1422.175781\" xlink:href=\"#DejaVuSans-115\"/>\n     <use x=\"1474.275391\" xlink:href=\"#DejaVuSans-116\"/>\n     <use x=\"1513.484375\" xlink:href=\"#DejaVuSans-114\"/>\n     <use x=\"1554.597656\" xlink:href=\"#DejaVuSans-105\"/>\n     <use x=\"1582.380859\" xlink:href=\"#DejaVuSans-98\"/>\n     <use x=\"1645.857422\" xlink:href=\"#DejaVuSans-117\"/>\n     <use x=\"1709.236328\" xlink:href=\"#DejaVuSans-116\"/>\n     <use x=\"1748.445312\" xlink:href=\"#DejaVuSans-105\"/>\n     <use x=\"1776.228516\" xlink:href=\"#DejaVuSans-111\"/>\n     <use x=\"1837.410156\" xlink:href=\"#DejaVuSans-110\"/>\n    </g>\n   </g>\n  </g>\n </g>\n <defs>\n  <clipPath id=\"p3ae388fa28\">\n   <rect height=\"407.7\" width=\"558\" x=\"40.603125\" y=\"22.318125\"/>\n  </clipPath>\n </defs>\n</svg>\n",
      "image/png": "[encoded data removed]"
     },
     "metadata": {
      "needs_background": "light"
     }
    }
   ],
   "source": [
    "web_data.get_statistics()"
   ]
  },
  {
   "source": [
    "# Prepare Tagged Corpus"
   ],
   "cell_type": "markdown",
   "metadata": {}
  },
  {
   "cell_type": "code",
   "execution_count": 5,
   "metadata": {},
   "outputs": [
    {
     "output_type": "stream",
     "name": "stdout",
     "text": [
      "Downloading data from https://raw.githubusercontent.com/famrashel/idn-tagged-corpus/master/Indonesian_Manually_Tagged_Corpus_ID.tsv\n",
      "2768896/2764611 [==============================] - 0s 0us/step\n"
     ]
    }
   ],
   "source": [
    "tagged_path = tf.keras.utils.get_file(fname=\"tagged_tsv_gh\", origin=\"https://raw.githubusercontent.com/famrashel/idn-tagged-corpus/master/Indonesian_Manually_Tagged_Corpus_ID.tsv\")"
   ]
  },
  {
   "cell_type": "code",
   "execution_count": 6,
   "metadata": {
    "tags": []
   },
   "outputs": [],
   "source": [
    "class PrepareData():\n",
    "    def __init__(self, path):\n",
    "        self.tagged_data = path\n",
    "        self.pos_tags = dict()\n",
    "        self.data = []\n",
    "        self.pos_tags_set = set()\n",
    "\n",
    "    def load(self):\n",
    "        f = open(self.tagged_data, \"r\")\n",
    "        lines = f.readlines()\n",
    "        for line in lines:\n",
    "            line = line.strip()\n",
    "            if line[:2] == \"</\":\n",
    "                # end of a sentence\n",
    "                self.data.append(tagged_entry)\n",
    "            elif line[:1] == \"<\":\n",
    "                # instantiate a new tagged entry\n",
    "                tagged_entry = []\n",
    "            else:\n",
    "                lst = line.split(\"\\t\")\n",
    "                word = lst[0]\n",
    "                tag = lst[1]\n",
    "\n",
    "                # add entry to tagged_entry to build tagged sentence\n",
    "                entry = (word, tag)\n",
    "                tagged_entry.append(entry)\n",
    "                \n",
    "                # add the tag and word to pos_tags\n",
    "                if tag not in self.pos_tags:\n",
    "                    self.pos_tags[tag] = set(word)\n",
    "                else:\n",
    "                    self.pos_tags[tag].add(word)\n",
    "\n",
    "        self.pos_tags_set = set(self.pos_tags.keys())\n",
    "\n",
    "    def split_test_train(self, ratio=0.8):\n",
    "        \"\"\"Split the data into test set and train set. Default ratio is 80% train and 20% test\"\"\"\n",
    "        num_train_data = len(self.data)\n",
    "        choose = math.floor(num_train_data * (1 - ratio))\n",
    "        test_data = random.sample(self.data, choose)\n",
    "        train_data = list(filter(lambda i: i not in test_data, self.data))\n",
    "        return train_data, test_data\n",
    "\n",
    "    def get_modal_frequency(self):\n",
    "        \"\"\"Return the number of words / token per modal type\"\"\"\n",
    "        modal_freq = dict()\n",
    "        for modal in self.pos_tags_set:\n",
    "            modal_freq[modal] = len(self.pos_tags[modal])\n",
    "        return modal_freq\n",
    "\n",
    "    def get_words(self, modal, length=\"all\", as_string=False):\n",
    "        \"\"\"Return a list of words that are in modal category. default length is all\n",
    "        \"\"\"\n",
    "        ret = []\n",
    "        if modal in self.pos_tags_set:\n",
    "            ret = list(self.pos_tags[modal])\n",
    "        else:\n",
    "            print(f\"{modal} is not recognized\")\n",
    "        if length != \"all\":\n",
    "            ret = ret[:length]\n",
    "        if as_string:\n",
    "            ret = \", \".join(ret)\n",
    "            ret = ret.strip()\n",
    "        return ret\n",
    "    \n",
    "    def get_statistics(self):\n",
    "        \"\"\"Return a general report of the corpus statistics\n",
    "            Statistics to return:\n",
    "            - total number of sentences\n",
    "            - average word count in a sentence\n",
    "            - max sentence length\n",
    "            - min sentence length\n",
    "        \"\"\"\n",
    "        sent_list = []\n",
    "        total_wc = 0\n",
    "        freq_dict = dict() # key: word count, value: num of sentences with that word count\n",
    "        word_count = lambda sentence: len(nltk.word_tokenize(sentence))\n",
    "        \n",
    "        for tagged_sent in self.data:\n",
    "            sent = to_sent(tagged_sent)\n",
    "            sent_list.append(sent)\n",
    "            total_wc += word_count(sent)\n",
    "            if word_count(sent) in freq_dict:\n",
    "                freq_dict[word_count(sent)] += 1\n",
    "            else:\n",
    "                freq_dict[word_count(sent)] = 1\n",
    "        \n",
    "        min_sent = min(sent_list, key=word_count) # the shortest sentence by word count\n",
    "        max_sent = max(sent_list, key=word_count) # the longest sentence by word count\n",
    "        min_wc = word_count(min_sent)\n",
    "        max_wc = word_count(max_sent)\n",
    "        average_wc = math.floor(total_wc / len(sent_list))\n",
    "        print(\"CORPUS STATISTICS\")\n",
    "        print(f\"There are a total of {len(sent_list)} sentences in the corpus from {self.tagged_data}\\n\")\n",
    "        print(f\"\\tAverage word count\\t:\\t{average_wc}\\n\")\n",
    "        print(f\"\\tmaximum sentence length\\t:\\t{max_wc}\\n\")\n",
    "        print(f\"\\tsentence:\\n\")\n",
    "        print(f\"\\t{max_sent}\\n\")\n",
    "        print(f\"\\tminimum sentence length\\t:\\t{min_wc}\\n\")\n",
    "        print(f\"\\tsentence:\\n\")\n",
    "        print(f\"\\t{min_sent}\\n\")\n",
    "\n",
    "        plt.figure(figsize=(10, 7.5))\n",
    "        plt.title(\"word count per sentences distribution\")\n",
    "        plt.ylabel(\"sentences with word count\")\n",
    "        plt.xlabel(\"word count\")\n",
    "        plt.bar(freq_dict.keys(), freq_dict.values(), width=0.75)"
   ]
  },
  {
   "cell_type": "code",
   "execution_count": 7,
   "metadata": {},
   "outputs": [],
   "source": [
    "def to_sent(tagged_sent):\n",
    "    \"\"\"Return a sentence from a tagged sentence version\"\"\"\n",
    "    sent = \"\"\n",
    "    for (word, tag) in tagged_sent:\n",
    "        sent += word + \" \"\n",
    "    return sent.strip()\n",
    "\n",
    "def get_tag(tagged_sent, word_to_tag):\n",
    "    \"\"\"Retrieve the POS tag of a word in a tagged sentence\"\"\"\n",
    "    for (word, tag) in tagged_sent:\n",
    "        if word_to_tag == word:\n",
    "            return tag\n",
    "    return f\"{word_to_tag} is not in the sentence\""
   ]
  },
  {
   "cell_type": "code",
   "execution_count": 53,
   "metadata": {},
   "outputs": [],
   "source": [
    "tagged_data = PrepareData(tagged_path)\n",
    "tagged_data.load()\n",
    "train_data, test_data = tagged_data.split_test_train(ratio=0.9)\n",
    "data = tagged_data.data"
   ]
  },
  {
   "cell_type": "code",
   "execution_count": 9,
   "metadata": {},
   "outputs": [
    {
     "output_type": "execute_result",
     "data": {
      "text/plain": [
       "{'CC': 52,\n",
       " 'CD': 2892,\n",
       " 'DT': 9,\n",
       " 'FW': 838,\n",
       " 'IN': 101,\n",
       " 'JJ': 771,\n",
       " 'MD': 42,\n",
       " 'NEG': 16,\n",
       " 'NN': 5419,\n",
       " 'NND': 90,\n",
       " 'NNP': 5613,\n",
       " 'OD': 41,\n",
       " 'PR': 29,\n",
       " 'PRP': 30,\n",
       " 'RB': 193,\n",
       " 'RP': 11,\n",
       " 'SC': 138,\n",
       " 'SYM': 33,\n",
       " 'UH': 12,\n",
       " 'VB': 2922,\n",
       " 'WH': 24,\n",
       " 'X': 248,\n",
       " 'Z': 15,\n",
       " 'fw': 4}"
      ]
     },
     "metadata": {},
     "execution_count": 9
    }
   ],
   "source": [
    "tagged_data.get_modal_frequency()"
   ]
  },
  {
   "cell_type": "code",
   "execution_count": 12,
   "metadata": {},
   "outputs": [
    {
     "output_type": "execute_result",
     "data": {
      "text/plain": [
       "'e, s, a, l'"
      ],
      "application/vnd.google.colaboratory.intrinsic+json": {
       "type": "string"
      }
     },
     "metadata": {},
     "execution_count": 12
    }
   ],
   "source": [
    "# tagged_data.get_words(\"fw\", length=7, as_string=True)"
   ]
  },
  {
   "cell_type": "code",
   "execution_count": 9,
   "metadata": {},
   "outputs": [
    {
     "output_type": "stream",
     "name": "stdout",
     "text": [
      "Kedua orang terkaya dunia itu sudah berhasil membujuk banyak orang yang sangat kaya di Amerika agar menyumbangkan separuh kekayaan mereka .\nMD\n"
     ]
    }
   ],
   "source": [
    "print(to_sent(train_data[15]))\n",
    "print(get_tag(train_data[15], \"sudah\"))"
   ]
  },
  {
   "cell_type": "code",
   "execution_count": 10,
   "metadata": {},
   "outputs": [
    {
     "output_type": "stream",
     "name": "stdout",
     "text": [
      "CORPUS STATISTICS\nThere are a total of 10030 sentences in the corpus from /root/.keras/datasets/tagged_tsv_gh\n\n\tAverage word count\t:\t26\n\n\tmaximum sentence length\t:\t83\n\n\tsentence:\n\n\tDikatakan -nya , inflasi terjadi karena adanya kenaikan harga yang ditunjukkan oleh kenaikan indeks pada kelompok barang dan jasa , yaitu kelompok bahan makanan 1,87 persen , kelompok makanan jadi , minuman , rokok & tembakau 0,51 persen , kelompok perumahan , air , listrik , gas & bahan bakar 0,21 persen , kelompok sandang 2,05 persen , kelompok kesehatan 0,45 persen , kelompok pendidikan , rekreasi dan olahraga 0,21 persen , dan kelompok transpor , komunikasi & jasa keuangan 0,47 persen .\n\n\tminimum sentence length\t:\t2\n\n\tsentence:\n\n\tCalon selebriti\n\n"
     ]
    },
    {
     "output_type": "display_data",
     "data": {
      "text/plain": "<Figure size 720x540 with 1 Axes>",
      "image/svg+xml": "<?xml version=\"1.0\" encoding=\"utf-8\" standalone=\"no\"?>\n<!DOCTYPE svg PUBLIC \"-//W3C//DTD SVG 1.1//EN\"\n  \"http://www.w3.org/Graphics/SVG/1.1/DTD/svg11.dtd\">\n<!-- Created with matplotlib (https://matplotlib.org/) -->\n<svg height=\"467.574375pt\" version=\"1.1\" viewBox=\"0 0 612.165625 467.574375\" width=\"612.165625pt\" xmlns=\"http://www.w3.org/2000/svg\" xmlns:xlink=\"http://www.w3.org/1999/xlink\">\n <defs>\n  <style type=\"text/css\">\n*{stroke-linecap:butt;stroke-linejoin:round;}\n  </style>\n </defs>\n <g id=\"figure_1\">\n  <g id=\"patch_1\">\n   <path d=\"M 0 467.574375 \nL 612.165625 467.574375 \nL 612.165625 0 \nL 0 0 \nz\n\" style=\"fill:none;\"/>\n  </g>\n  <g id=\"axes_1\">\n   <g id=\"patch_2\">\n    <path d=\"M 46.965625 430.018125 \nL 604.965625 430.018125 \nL 604.965625 22.318125 \nL 46.965625 22.318125 \nz\n\" style=\"fill:#ffffff;\"/>\n   </g>\n   <g id=\"patch_3\">\n    <path clip-path=\"url(#p16f9ac021d)\" d=\"M 90.944774 430.018125 \nL 95.598653 430.018125 \nL 95.598653 395.924745 \nL 90.944774 395.924745 \nz\n\" style=\"fill:#1f77b4;\"/>\n   </g>\n   <g id=\"patch_4\">\n    <path clip-path=\"url(#p16f9ac021d)\" d=\"M 177.817168 430.018125 \nL 182.471046 430.018125 \nL 182.471046 93.819519 \nL 177.817168 93.819519 \nz\n\" style=\"fill:#1f77b4;\"/>\n   </g>\n   <g id=\"patch_5\">\n    <path clip-path=\"url(#p16f9ac021d)\" d=\"M 165.406826 430.018125 \nL 170.060704 430.018125 \nL 170.060704 128.859937 \nL 165.406826 128.859937 \nz\n\" style=\"fill:#1f77b4;\"/>\n   </g>\n   <g id=\"patch_6\">\n    <path clip-path=\"url(#p16f9ac021d)\" d=\"M 159.201655 430.018125 \nL 163.855533 430.018125 \nL 163.855533 165.794432 \nL 159.201655 165.794432 \nz\n\" style=\"fill:#1f77b4;\"/>\n   </g>\n   <g id=\"patch_7\">\n    <path clip-path=\"url(#p16f9ac021d)\" d=\"M 196.432681 430.018125 \nL 201.086559 430.018125 \nL 201.086559 41.732411 \nL 196.432681 41.732411 \nz\n\" style=\"fill:#1f77b4;\"/>\n   </g>\n   <g id=\"patch_8\">\n    <path clip-path=\"url(#p16f9ac021d)\" d=\"M 184.022339 430.018125 \nL 188.676217 430.018125 \nL 188.676217 85.296174 \nL 184.022339 85.296174 \nz\n\" style=\"fill:#1f77b4;\"/>\n   </g>\n   <g id=\"patch_9\">\n    <path clip-path=\"url(#p16f9ac021d)\" d=\"M 134.380971 430.018125 \nL 139.034849 430.018125 \nL 139.034849 243.451574 \nL 134.380971 243.451574 \nz\n\" style=\"fill:#1f77b4;\"/>\n   </g>\n   <g id=\"patch_10\">\n    <path clip-path=\"url(#p16f9ac021d)\" d=\"M 239.868878 430.018125 \nL 244.522756 430.018125 \nL 244.522756 79.613944 \nL 239.868878 79.613944 \nz\n\" style=\"fill:#1f77b4;\"/>\n   </g>\n   <g id=\"patch_11\">\n    <path clip-path=\"url(#p16f9ac021d)\" d=\"M 103.355116 430.018125 \nL 108.008994 430.018125 \nL 108.008994 364.67248 \nL 103.355116 364.67248 \nz\n\" style=\"fill:#1f77b4;\"/>\n   </g>\n   <g id=\"patch_12\">\n    <path clip-path=\"url(#p16f9ac021d)\" d=\"M 140.586142 430.018125 \nL 145.24002 430.018125 \nL 145.24002 229.246 \nL 140.586142 229.246 \nz\n\" style=\"fill:#1f77b4;\"/>\n   </g>\n   <g id=\"patch_13\">\n    <path clip-path=\"url(#p16f9ac021d)\" d=\"M 152.996484 430.018125 \nL 157.650362 430.018125 \nL 157.650362 162.006278 \nL 152.996484 162.006278 \nz\n\" style=\"fill:#1f77b4;\"/>\n   </g>\n   <g id=\"patch_14\">\n    <path clip-path=\"url(#p16f9ac021d)\" d=\"M 97.149945 430.018125 \nL 101.803823 430.018125 \nL 101.803823 383.613247 \nL 97.149945 383.613247 \nz\n\" style=\"fill:#1f77b4;\"/>\n   </g>\n   <g id=\"patch_15\">\n    <path clip-path=\"url(#p16f9ac021d)\" d=\"M 190.22751 430.018125 \nL 194.881388 430.018125 \nL 194.881388 73.931714 \nL 190.22751 73.931714 \nz\n\" style=\"fill:#1f77b4;\"/>\n   </g>\n   <g id=\"patch_16\">\n    <path clip-path=\"url(#p16f9ac021d)\" d=\"M 233.663707 430.018125 \nL 238.317585 430.018125 \nL 238.317585 102.342864 \nL 233.663707 102.342864 \nz\n\" style=\"fill:#1f77b4;\"/>\n   </g>\n   <g id=\"patch_17\">\n    <path clip-path=\"url(#p16f9ac021d)\" d=\"M 171.611997 430.018125 \nL 176.265875 430.018125 \nL 176.265875 129.806975 \nL 171.611997 129.806975 \nz\n\" style=\"fill:#1f77b4;\"/>\n   </g>\n   <g id=\"patch_18\">\n    <path clip-path=\"url(#p16f9ac021d)\" d=\"M 146.791313 430.018125 \nL 151.445191 430.018125 \nL 151.445191 196.099658 \nL 146.791313 196.099658 \nz\n\" style=\"fill:#1f77b4;\"/>\n   </g>\n   <g id=\"patch_19\">\n    <path clip-path=\"url(#p16f9ac021d)\" d=\"M 202.637852 430.018125 \nL 207.29173 430.018125 \nL 207.29173 93.819519 \nL 202.637852 93.819519 \nz\n\" style=\"fill:#1f77b4;\"/>\n   </g>\n   <g id=\"patch_20\">\n    <path clip-path=\"url(#p16f9ac021d)\" d=\"M 252.27922 430.018125 \nL 256.933098 430.018125 \nL 256.933098 144.959588 \nL 252.27922 144.959588 \nz\n\" style=\"fill:#1f77b4;\"/>\n   </g>\n   <g id=\"patch_21\">\n    <path clip-path=\"url(#p16f9ac021d)\" d=\"M 258.484391 430.018125 \nL 263.138269 430.018125 \nL 263.138269 160.112202 \nL 258.484391 160.112202 \nz\n\" style=\"fill:#1f77b4;\"/>\n   </g>\n   <g id=\"patch_22\">\n    <path clip-path=\"url(#p16f9ac021d)\" d=\"M 246.074049 430.018125 \nL 250.727927 430.018125 \nL 250.727927 116.548439 \nL 246.074049 116.548439 \nz\n\" style=\"fill:#1f77b4;\"/>\n   </g>\n   <g id=\"patch_23\">\n    <path clip-path=\"url(#p16f9ac021d)\" d=\"M 215.048194 430.018125 \nL 219.702072 430.018125 \nL 219.702072 83.402097 \nL 215.048194 83.402097 \nz\n\" style=\"fill:#1f77b4;\"/>\n   </g>\n   <g id=\"patch_24\">\n    <path clip-path=\"url(#p16f9ac021d)\" d=\"M 115.765458 430.018125 \nL 120.419336 430.018125 \nL 120.419336 318.267602 \nL 115.765458 318.267602 \nz\n\" style=\"fill:#1f77b4;\"/>\n   </g>\n   <g id=\"patch_25\">\n    <path clip-path=\"url(#p16f9ac021d)\" d=\"M 270.894733 430.018125 \nL 275.548611 430.018125 \nL 275.548611 191.364466 \nL 270.894733 191.364466 \nz\n\" style=\"fill:#1f77b4;\"/>\n   </g>\n   <g id=\"patch_26\">\n    <path clip-path=\"url(#p16f9ac021d)\" d=\"M 84.739603 430.018125 \nL 89.393482 430.018125 \nL 89.393482 421.49478 \nL 84.739603 421.49478 \nz\n\" style=\"fill:#1f77b4;\"/>\n   </g>\n   <g id=\"patch_27\">\n    <path clip-path=\"url(#p16f9ac021d)\" d=\"M 308.125758 430.018125 \nL 312.779637 430.018125 \nL 312.779637 296.485721 \nL 308.125758 296.485721 \nz\n\" style=\"fill:#1f77b4;\"/>\n   </g>\n   <g id=\"patch_28\">\n    <path clip-path=\"url(#p16f9ac021d)\" d=\"M 283.305075 430.018125 \nL 287.958953 430.018125 \nL 287.958953 207.464118 \nL 283.305075 207.464118 \nz\n\" style=\"fill:#1f77b4;\"/>\n   </g>\n   <g id=\"patch_29\">\n    <path clip-path=\"url(#p16f9ac021d)\" d=\"M 295.715416 430.018125 \nL 300.369295 430.018125 \nL 300.369295 260.498264 \nL 295.715416 260.498264 \nz\n\" style=\"fill:#1f77b4;\"/>\n   </g>\n   <g id=\"patch_30\">\n    <path clip-path=\"url(#p16f9ac021d)\" d=\"M 72.329261 430.018125 \nL 76.98314 430.018125 \nL 76.98314 426.229972 \nL 72.329261 426.229972 \nz\n\" style=\"fill:#1f77b4;\"/>\n   </g>\n   <g id=\"patch_31\">\n    <path clip-path=\"url(#p16f9ac021d)\" d=\"M 221.253365 430.018125 \nL 225.907243 430.018125 \nL 225.907243 95.713595 \nL 221.253365 95.713595 \nz\n\" style=\"fill:#1f77b4;\"/>\n   </g>\n   <g id=\"patch_32\">\n    <path clip-path=\"url(#p16f9ac021d)\" d=\"M 227.458536 430.018125 \nL 232.112414 430.018125 \nL 232.112414 108.972132 \nL 227.458536 108.972132 \nz\n\" style=\"fill:#1f77b4;\"/>\n   </g>\n   <g id=\"patch_33\">\n    <path clip-path=\"url(#p16f9ac021d)\" d=\"M 128.1758 430.018125 \nL 132.829678 430.018125 \nL 132.829678 284.174223 \nL 128.1758 284.174223 \nz\n\" style=\"fill:#1f77b4;\"/>\n   </g>\n   <g id=\"patch_34\">\n    <path clip-path=\"url(#p16f9ac021d)\" d=\"M 208.843023 430.018125 \nL 213.496901 430.018125 \nL 213.496901 65.408369 \nL 208.843023 65.408369 \nz\n\" style=\"fill:#1f77b4;\"/>\n   </g>\n   <g id=\"patch_35\">\n    <path clip-path=\"url(#p16f9ac021d)\" d=\"M 289.510246 430.018125 \nL 294.164124 430.018125 \nL 294.164124 251.974919 \nL 289.510246 251.974919 \nz\n\" style=\"fill:#1f77b4;\"/>\n   </g>\n   <g id=\"patch_36\">\n    <path clip-path=\"url(#p16f9ac021d)\" d=\"M 326.741271 430.018125 \nL 331.39515 430.018125 \nL 331.39515 338.155407 \nL 326.741271 338.155407 \nz\n\" style=\"fill:#1f77b4;\"/>\n   </g>\n   <g id=\"patch_37\">\n    <path clip-path=\"url(#p16f9ac021d)\" d=\"M 277.099904 430.018125 \nL 281.753782 430.018125 \nL 281.753782 202.728926 \nL 277.099904 202.728926 \nz\n\" style=\"fill:#1f77b4;\"/>\n   </g>\n   <g id=\"patch_38\">\n    <path clip-path=\"url(#p16f9ac021d)\" d=\"M 301.920587 430.018125 \nL 306.574466 430.018125 \nL 306.574466 282.280146 \nL 301.920587 282.280146 \nz\n\" style=\"fill:#1f77b4;\"/>\n   </g>\n   <g id=\"patch_39\">\n    <path clip-path=\"url(#p16f9ac021d)\" d=\"M 78.534432 430.018125 \nL 83.188311 430.018125 \nL 83.188311 426.229972 \nL 78.534432 426.229972 \nz\n\" style=\"fill:#1f77b4;\"/>\n   </g>\n   <g id=\"patch_40\">\n    <path clip-path=\"url(#p16f9ac021d)\" d=\"M 264.689562 430.018125 \nL 269.34344 430.018125 \nL 269.34344 163.900355 \nL 264.689562 163.900355 \nz\n\" style=\"fill:#1f77b4;\"/>\n   </g>\n   <g id=\"patch_41\">\n    <path clip-path=\"url(#p16f9ac021d)\" d=\"M 363.972297 430.018125 \nL 368.626175 430.018125 \nL 368.626175 395.924745 \nL 363.972297 395.924745 \nz\n\" style=\"fill:#1f77b4;\"/>\n   </g>\n   <g id=\"patch_42\">\n    <path clip-path=\"url(#p16f9ac021d)\" d=\"M 332.946442 430.018125 \nL 337.600321 430.018125 \nL 337.600321 354.255059 \nL 332.946442 354.255059 \nz\n\" style=\"fill:#1f77b4;\"/>\n   </g>\n   <g id=\"patch_43\">\n    <path clip-path=\"url(#p16f9ac021d)\" d=\"M 314.330929 430.018125 \nL 318.984808 430.018125 \nL 318.984808 330.579101 \nL 314.330929 330.579101 \nz\n\" style=\"fill:#1f77b4;\"/>\n   </g>\n   <g id=\"patch_44\">\n    <path clip-path=\"url(#p16f9ac021d)\" d=\"M 345.356784 430.018125 \nL 350.010663 430.018125 \nL 350.010663 363.725442 \nL 345.356784 363.725442 \nz\n\" style=\"fill:#1f77b4;\"/>\n   </g>\n   <g id=\"patch_45\">\n    <path clip-path=\"url(#p16f9ac021d)\" d=\"M 320.5361 430.018125 \nL 325.189979 430.018125 \nL 325.189979 314.479449 \nL 320.5361 314.479449 \nz\n\" style=\"fill:#1f77b4;\"/>\n   </g>\n   <g id=\"patch_46\">\n    <path clip-path=\"url(#p16f9ac021d)\" d=\"M 457.049862 430.018125 \nL 461.70374 430.018125 \nL 461.70374 426.229972 \nL 457.049862 426.229972 \nz\n\" style=\"fill:#1f77b4;\"/>\n   </g>\n   <g id=\"patch_47\">\n    <path clip-path=\"url(#p16f9ac021d)\" d=\"M 351.561955 430.018125 \nL 356.215834 430.018125 \nL 356.215834 382.666209 \nL 351.561955 382.666209 \nz\n\" style=\"fill:#1f77b4;\"/>\n   </g>\n   <g id=\"patch_48\">\n    <path clip-path=\"url(#p16f9ac021d)\" d=\"M 394.998152 430.018125 \nL 399.65203 430.018125 \nL 399.65203 412.971435 \nL 394.998152 412.971435 \nz\n\" style=\"fill:#1f77b4;\"/>\n   </g>\n   <g id=\"patch_49\">\n    <path clip-path=\"url(#p16f9ac021d)\" d=\"M 357.767126 430.018125 \nL 362.421004 430.018125 \nL 362.421004 388.348439 \nL 357.767126 388.348439 \nz\n\" style=\"fill:#1f77b4;\"/>\n   </g>\n   <g id=\"patch_50\">\n    <path clip-path=\"url(#p16f9ac021d)\" d=\"M 339.151613 430.018125 \nL 343.805492 430.018125 \nL 343.805492 340.996522 \nL 339.151613 340.996522 \nz\n\" style=\"fill:#1f77b4;\"/>\n   </g>\n   <g id=\"patch_51\">\n    <path clip-path=\"url(#p16f9ac021d)\" d=\"M 382.58781 430.018125 \nL 387.241688 430.018125 \nL 387.241688 402.554014 \nL 382.58781 402.554014 \nz\n\" style=\"fill:#1f77b4;\"/>\n   </g>\n   <g id=\"patch_52\">\n    <path clip-path=\"url(#p16f9ac021d)\" d=\"M 444.63952 430.018125 \nL 449.293398 430.018125 \nL 449.293398 426.229972 \nL 444.63952 426.229972 \nz\n\" style=\"fill:#1f77b4;\"/>\n   </g>\n   <g id=\"patch_53\">\n    <path clip-path=\"url(#p16f9ac021d)\" d=\"M 370.177468 430.018125 \nL 374.831346 430.018125 \nL 374.831346 401.606975 \nL 370.177468 401.606975 \nz\n\" style=\"fill:#1f77b4;\"/>\n   </g>\n   <g id=\"patch_54\">\n    <path clip-path=\"url(#p16f9ac021d)\" d=\"M 438.434349 430.018125 \nL 443.088227 430.018125 \nL 443.088227 425.282933 \nL 438.434349 425.282933 \nz\n\" style=\"fill:#1f77b4;\"/>\n   </g>\n   <g id=\"patch_55\">\n    <path clip-path=\"url(#p16f9ac021d)\" d=\"M 121.970629 430.018125 \nL 126.624507 430.018125 \nL 126.624507 316.373526 \nL 121.970629 316.373526 \nz\n\" style=\"fill:#1f77b4;\"/>\n   </g>\n   <g id=\"patch_56\">\n    <path clip-path=\"url(#p16f9ac021d)\" d=\"M 388.792981 430.018125 \nL 393.446859 430.018125 \nL 393.446859 412.971435 \nL 388.792981 412.971435 \nz\n\" style=\"fill:#1f77b4;\"/>\n   </g>\n   <g id=\"patch_57\">\n    <path clip-path=\"url(#p16f9ac021d)\" d=\"M 419.818836 430.018125 \nL 424.472714 430.018125 \nL 424.472714 420.547742 \nL 419.818836 420.547742 \nz\n\" style=\"fill:#1f77b4;\"/>\n   </g>\n   <g id=\"patch_58\">\n    <path clip-path=\"url(#p16f9ac021d)\" d=\"M 376.382639 430.018125 \nL 381.036517 430.018125 \nL 381.036517 400.659937 \nL 376.382639 400.659937 \nz\n\" style=\"fill:#1f77b4;\"/>\n   </g>\n   <g id=\"patch_59\">\n    <path clip-path=\"url(#p16f9ac021d)\" d=\"M 109.560287 430.018125 \nL 114.214165 430.018125 \nL 114.214165 345.731714 \nL 109.560287 345.731714 \nz\n\" style=\"fill:#1f77b4;\"/>\n   </g>\n   <g id=\"patch_60\">\n    <path clip-path=\"url(#p16f9ac021d)\" d=\"M 574.94811 430.018125 \nL 579.601989 430.018125 \nL 579.601989 429.071087 \nL 574.94811 429.071087 \nz\n\" style=\"fill:#1f77b4;\"/>\n   </g>\n   <g id=\"patch_61\">\n    <path clip-path=\"url(#p16f9ac021d)\" d=\"M 432.229178 430.018125 \nL 436.883056 430.018125 \nL 436.883056 424.335895 \nL 432.229178 424.335895 \nz\n\" style=\"fill:#1f77b4;\"/>\n   </g>\n   <g id=\"patch_62\">\n    <path clip-path=\"url(#p16f9ac021d)\" d=\"M 401.203323 430.018125 \nL 405.857201 430.018125 \nL 405.857201 419.600703 \nL 401.203323 419.600703 \nz\n\" style=\"fill:#1f77b4;\"/>\n   </g>\n   <g id=\"patch_63\">\n    <path clip-path=\"url(#p16f9ac021d)\" d=\"M 407.408494 430.018125 \nL 412.062372 430.018125 \nL 412.062372 415.81255 \nL 407.408494 415.81255 \nz\n\" style=\"fill:#1f77b4;\"/>\n   </g>\n   <g id=\"patch_64\">\n    <path clip-path=\"url(#p16f9ac021d)\" d=\"M 506.69123 430.018125 \nL 511.345108 430.018125 \nL 511.345108 429.071087 \nL 506.69123 429.071087 \nz\n\" style=\"fill:#1f77b4;\"/>\n   </g>\n   <g id=\"patch_65\">\n    <path clip-path=\"url(#p16f9ac021d)\" d=\"M 450.844691 430.018125 \nL 455.498569 430.018125 \nL 455.498569 426.229972 \nL 450.844691 426.229972 \nz\n\" style=\"fill:#1f77b4;\"/>\n   </g>\n   <g id=\"patch_66\">\n    <path clip-path=\"url(#p16f9ac021d)\" d=\"M 413.613665 430.018125 \nL 418.267543 430.018125 \nL 418.267543 426.229972 \nL 413.613665 426.229972 \nz\n\" style=\"fill:#1f77b4;\"/>\n   </g>\n   <g id=\"patch_67\">\n    <path clip-path=\"url(#p16f9ac021d)\" d=\"M 512.896401 430.018125 \nL 517.550279 430.018125 \nL 517.550279 428.124048 \nL 512.896401 428.124048 \nz\n\" style=\"fill:#1f77b4;\"/>\n   </g>\n   <g id=\"patch_68\">\n    <path clip-path=\"url(#p16f9ac021d)\" d=\"M 426.024007 430.018125 \nL 430.677885 430.018125 \nL 430.677885 422.441818 \nL 426.024007 422.441818 \nz\n\" style=\"fill:#1f77b4;\"/>\n   </g>\n   <g id=\"patch_69\">\n    <path clip-path=\"url(#p16f9ac021d)\" d=\"M 519.101572 430.018125 \nL 523.75545 430.018125 \nL 523.75545 427.17701 \nL 519.101572 427.17701 \nz\n\" style=\"fill:#1f77b4;\"/>\n   </g>\n   <g id=\"patch_70\">\n    <path clip-path=\"url(#p16f9ac021d)\" d=\"M 475.665375 430.018125 \nL 480.319253 430.018125 \nL 480.319253 428.124048 \nL 475.665375 428.124048 \nz\n\" style=\"fill:#1f77b4;\"/>\n   </g>\n   <g id=\"patch_71\">\n    <path clip-path=\"url(#p16f9ac021d)\" d=\"M 463.255033 430.018125 \nL 467.908911 430.018125 \nL 467.908911 427.17701 \nL 463.255033 427.17701 \nz\n\" style=\"fill:#1f77b4;\"/>\n   </g>\n   <g id=\"patch_72\">\n    <path clip-path=\"url(#p16f9ac021d)\" d=\"M 500.486059 430.018125 \nL 505.139937 430.018125 \nL 505.139937 429.071087 \nL 500.486059 429.071087 \nz\n\" style=\"fill:#1f77b4;\"/>\n   </g>\n   <g id=\"patch_73\">\n    <path clip-path=\"url(#p16f9ac021d)\" d=\"M 481.870546 430.018125 \nL 486.524424 430.018125 \nL 486.524424 427.17701 \nL 481.870546 427.17701 \nz\n\" style=\"fill:#1f77b4;\"/>\n   </g>\n   <g id=\"patch_74\">\n    <path clip-path=\"url(#p16f9ac021d)\" d=\"M 568.742939 430.018125 \nL 573.396818 430.018125 \nL 573.396818 428.124048 \nL 568.742939 428.124048 \nz\n\" style=\"fill:#1f77b4;\"/>\n   </g>\n   <g id=\"patch_75\">\n    <path clip-path=\"url(#p16f9ac021d)\" d=\"M 469.460204 430.018125 \nL 474.114082 430.018125 \nL 474.114082 427.17701 \nL 469.460204 427.17701 \nz\n\" style=\"fill:#1f77b4;\"/>\n   </g>\n   <g id=\"patch_76\">\n    <path clip-path=\"url(#p16f9ac021d)\" d=\"M 556.332597 430.018125 \nL 560.986476 430.018125 \nL 560.986476 429.071087 \nL 556.332597 429.071087 \nz\n\" style=\"fill:#1f77b4;\"/>\n   </g>\n   <g id=\"matplotlib.axis_1\">\n    <g id=\"xtick_1\">\n     <g id=\"line2d_1\">\n      <defs>\n       <path d=\"M 0 0 \nL 0 3.5 \n\" id=\"mfd7e3c46f4\" style=\"stroke:#000000;stroke-width:0.8;\"/>\n      </defs>\n      <g>\n       <use style=\"stroke:#000000;stroke-width:0.8;\" x=\"62.245859\" xlink:href=\"#mfd7e3c46f4\" y=\"430.018125\"/>\n      </g>\n     </g>\n     <g id=\"text_1\">\n      <!-- 0 -->\n      <defs>\n       <path d=\"M 31.78125 66.40625 \nQ 24.171875 66.40625 20.328125 58.90625 \nQ 16.5 51.421875 16.5 36.375 \nQ 16.5 21.390625 20.328125 13.890625 \nQ 24.171875 6.390625 31.78125 6.390625 \nQ 39.453125 6.390625 43.28125 13.890625 \nQ 47.125 21.390625 47.125 36.375 \nQ 47.125 51.421875 43.28125 58.90625 \nQ 39.453125 66.40625 31.78125 66.40625 \nz\nM 31.78125 74.21875 \nQ 44.046875 74.21875 50.515625 64.515625 \nQ 56.984375 54.828125 56.984375 36.375 \nQ 56.984375 17.96875 50.515625 8.265625 \nQ 44.046875 -1.421875 31.78125 -1.421875 \nQ 19.53125 -1.421875 13.0625 8.265625 \nQ 6.59375 17.96875 6.59375 36.375 \nQ 6.59375 54.828125 13.0625 64.515625 \nQ 19.53125 74.21875 31.78125 74.21875 \nz\n\" id=\"DejaVuSans-48\"/>\n      </defs>\n      <g transform=\"translate(59.064609 444.616562)scale(0.1 -0.1)\">\n       <use xlink:href=\"#DejaVuSans-48\"/>\n      </g>\n     </g>\n    </g>\n    <g id=\"xtick_2\">\n     <g id=\"line2d_2\">\n      <g>\n       <use style=\"stroke:#000000;stroke-width:0.8;\" x=\"124.297568\" xlink:href=\"#mfd7e3c46f4\" y=\"430.018125\"/>\n      </g>\n     </g>\n     <g id=\"text_2\">\n      <!-- 10 -->\n      <defs>\n       <path d=\"M 12.40625 8.296875 \nL 28.515625 8.296875 \nL 28.515625 63.921875 \nL 10.984375 60.40625 \nL 10.984375 69.390625 \nL 28.421875 72.90625 \nL 38.28125 72.90625 \nL 38.28125 8.296875 \nL 54.390625 8.296875 \nL 54.390625 0 \nL 12.40625 0 \nz\n\" id=\"DejaVuSans-49\"/>\n      </defs>\n      <g transform=\"translate(117.935068 444.616562)scale(0.1 -0.1)\">\n       <use xlink:href=\"#DejaVuSans-49\"/>\n       <use x=\"63.623047\" xlink:href=\"#DejaVuSans-48\"/>\n      </g>\n     </g>\n    </g>\n    <g id=\"xtick_3\">\n     <g id=\"line2d_3\">\n      <g>\n       <use style=\"stroke:#000000;stroke-width:0.8;\" x=\"186.349278\" xlink:href=\"#mfd7e3c46f4\" y=\"430.018125\"/>\n      </g>\n     </g>\n     <g id=\"text_3\">\n      <!-- 20 -->\n      <defs>\n       <path d=\"M 19.1875 8.296875 \nL 53.609375 8.296875 \nL 53.609375 0 \nL 7.328125 0 \nL 7.328125 8.296875 \nQ 12.9375 14.109375 22.625 23.890625 \nQ 32.328125 33.6875 34.8125 36.53125 \nQ 39.546875 41.84375 41.421875 45.53125 \nQ 43.3125 49.21875 43.3125 52.78125 \nQ 43.3125 58.59375 39.234375 62.25 \nQ 35.15625 65.921875 28.609375 65.921875 \nQ 23.96875 65.921875 18.8125 64.3125 \nQ 13.671875 62.703125 7.8125 59.421875 \nL 7.8125 69.390625 \nQ 13.765625 71.78125 18.9375 73 \nQ 24.125 74.21875 28.421875 74.21875 \nQ 39.75 74.21875 46.484375 68.546875 \nQ 53.21875 62.890625 53.21875 53.421875 \nQ 53.21875 48.921875 51.53125 44.890625 \nQ 49.859375 40.875 45.40625 35.40625 \nQ 44.1875 33.984375 37.640625 27.21875 \nQ 31.109375 20.453125 19.1875 8.296875 \nz\n\" id=\"DejaVuSans-50\"/>\n      </defs>\n      <g transform=\"translate(179.986778 444.616562)scale(0.1 -0.1)\">\n       <use xlink:href=\"#DejaVuSans-50\"/>\n       <use x=\"63.623047\" xlink:href=\"#DejaVuSans-48\"/>\n      </g>\n     </g>\n    </g>\n    <g id=\"xtick_4\">\n     <g id=\"line2d_4\">\n      <g>\n       <use style=\"stroke:#000000;stroke-width:0.8;\" x=\"248.400988\" xlink:href=\"#mfd7e3c46f4\" y=\"430.018125\"/>\n      </g>\n     </g>\n     <g id=\"text_4\">\n      <!-- 30 -->\n      <defs>\n       <path d=\"M 40.578125 39.3125 \nQ 47.65625 37.796875 51.625 33 \nQ 55.609375 28.21875 55.609375 21.1875 \nQ 55.609375 10.40625 48.1875 4.484375 \nQ 40.765625 -1.421875 27.09375 -1.421875 \nQ 22.515625 -1.421875 17.65625 -0.515625 \nQ 12.796875 0.390625 7.625 2.203125 \nL 7.625 11.71875 \nQ 11.71875 9.328125 16.59375 8.109375 \nQ 21.484375 6.890625 26.8125 6.890625 \nQ 36.078125 6.890625 40.9375 10.546875 \nQ 45.796875 14.203125 45.796875 21.1875 \nQ 45.796875 27.640625 41.28125 31.265625 \nQ 36.765625 34.90625 28.71875 34.90625 \nL 20.21875 34.90625 \nL 20.21875 43.015625 \nL 29.109375 43.015625 \nQ 36.375 43.015625 40.234375 45.921875 \nQ 44.09375 48.828125 44.09375 54.296875 \nQ 44.09375 59.90625 40.109375 62.90625 \nQ 36.140625 65.921875 28.71875 65.921875 \nQ 24.65625 65.921875 20.015625 65.03125 \nQ 15.375 64.15625 9.8125 62.3125 \nL 9.8125 71.09375 \nQ 15.4375 72.65625 20.34375 73.4375 \nQ 25.25 74.21875 29.59375 74.21875 \nQ 40.828125 74.21875 47.359375 69.109375 \nQ 53.90625 64.015625 53.90625 55.328125 \nQ 53.90625 49.265625 50.4375 45.09375 \nQ 46.96875 40.921875 40.578125 39.3125 \nz\n\" id=\"DejaVuSans-51\"/>\n      </defs>\n      <g transform=\"translate(242.038488 444.616562)scale(0.1 -0.1)\">\n       <use xlink:href=\"#DejaVuSans-51\"/>\n       <use x=\"63.623047\" xlink:href=\"#DejaVuSans-48\"/>\n      </g>\n     </g>\n    </g>\n    <g id=\"xtick_5\">\n     <g id=\"line2d_5\">\n      <g>\n       <use style=\"stroke:#000000;stroke-width:0.8;\" x=\"310.452698\" xlink:href=\"#mfd7e3c46f4\" y=\"430.018125\"/>\n      </g>\n     </g>\n     <g id=\"text_5\">\n      <!-- 40 -->\n      <defs>\n       <path d=\"M 37.796875 64.3125 \nL 12.890625 25.390625 \nL 37.796875 25.390625 \nz\nM 35.203125 72.90625 \nL 47.609375 72.90625 \nL 47.609375 25.390625 \nL 58.015625 25.390625 \nL 58.015625 17.1875 \nL 47.609375 17.1875 \nL 47.609375 0 \nL 37.796875 0 \nL 37.796875 17.1875 \nL 4.890625 17.1875 \nL 4.890625 26.703125 \nz\n\" id=\"DejaVuSans-52\"/>\n      </defs>\n      <g transform=\"translate(304.090198 444.616562)scale(0.1 -0.1)\">\n       <use xlink:href=\"#DejaVuSans-52\"/>\n       <use x=\"63.623047\" xlink:href=\"#DejaVuSans-48\"/>\n      </g>\n     </g>\n    </g>\n    <g id=\"xtick_6\">\n     <g id=\"line2d_6\">\n      <g>\n       <use style=\"stroke:#000000;stroke-width:0.8;\" x=\"372.504407\" xlink:href=\"#mfd7e3c46f4\" y=\"430.018125\"/>\n      </g>\n     </g>\n     <g id=\"text_6\">\n      <!-- 50 -->\n      <defs>\n       <path d=\"M 10.796875 72.90625 \nL 49.515625 72.90625 \nL 49.515625 64.59375 \nL 19.828125 64.59375 \nL 19.828125 46.734375 \nQ 21.96875 47.46875 24.109375 47.828125 \nQ 26.265625 48.1875 28.421875 48.1875 \nQ 40.625 48.1875 47.75 41.5 \nQ 54.890625 34.8125 54.890625 23.390625 \nQ 54.890625 11.625 47.5625 5.09375 \nQ 40.234375 -1.421875 26.90625 -1.421875 \nQ 22.3125 -1.421875 17.546875 -0.640625 \nQ 12.796875 0.140625 7.71875 1.703125 \nL 7.71875 11.625 \nQ 12.109375 9.234375 16.796875 8.0625 \nQ 21.484375 6.890625 26.703125 6.890625 \nQ 35.15625 6.890625 40.078125 11.328125 \nQ 45.015625 15.765625 45.015625 23.390625 \nQ 45.015625 31 40.078125 35.4375 \nQ 35.15625 39.890625 26.703125 39.890625 \nQ 22.75 39.890625 18.8125 39.015625 \nQ 14.890625 38.140625 10.796875 36.28125 \nz\n\" id=\"DejaVuSans-53\"/>\n      </defs>\n      <g transform=\"translate(366.141907 444.616562)scale(0.1 -0.1)\">\n       <use xlink:href=\"#DejaVuSans-53\"/>\n       <use x=\"63.623047\" xlink:href=\"#DejaVuSans-48\"/>\n      </g>\n     </g>\n    </g>\n    <g id=\"xtick_7\">\n     <g id=\"line2d_7\">\n      <g>\n       <use style=\"stroke:#000000;stroke-width:0.8;\" x=\"434.556117\" xlink:href=\"#mfd7e3c46f4\" y=\"430.018125\"/>\n      </g>\n     </g>\n     <g id=\"text_7\">\n      <!-- 60 -->\n      <defs>\n       <path d=\"M 33.015625 40.375 \nQ 26.375 40.375 22.484375 35.828125 \nQ 18.609375 31.296875 18.609375 23.390625 \nQ 18.609375 15.53125 22.484375 10.953125 \nQ 26.375 6.390625 33.015625 6.390625 \nQ 39.65625 6.390625 43.53125 10.953125 \nQ 47.40625 15.53125 47.40625 23.390625 \nQ 47.40625 31.296875 43.53125 35.828125 \nQ 39.65625 40.375 33.015625 40.375 \nz\nM 52.59375 71.296875 \nL 52.59375 62.3125 \nQ 48.875 64.0625 45.09375 64.984375 \nQ 41.3125 65.921875 37.59375 65.921875 \nQ 27.828125 65.921875 22.671875 59.328125 \nQ 17.53125 52.734375 16.796875 39.40625 \nQ 19.671875 43.65625 24.015625 45.921875 \nQ 28.375 48.1875 33.59375 48.1875 \nQ 44.578125 48.1875 50.953125 41.515625 \nQ 57.328125 34.859375 57.328125 23.390625 \nQ 57.328125 12.15625 50.6875 5.359375 \nQ 44.046875 -1.421875 33.015625 -1.421875 \nQ 20.359375 -1.421875 13.671875 8.265625 \nQ 6.984375 17.96875 6.984375 36.375 \nQ 6.984375 53.65625 15.1875 63.9375 \nQ 23.390625 74.21875 37.203125 74.21875 \nQ 40.921875 74.21875 44.703125 73.484375 \nQ 48.484375 72.75 52.59375 71.296875 \nz\n\" id=\"DejaVuSans-54\"/>\n      </defs>\n      <g transform=\"translate(428.193617 444.616562)scale(0.1 -0.1)\">\n       <use xlink:href=\"#DejaVuSans-54\"/>\n       <use x=\"63.623047\" xlink:href=\"#DejaVuSans-48\"/>\n      </g>\n     </g>\n    </g>\n    <g id=\"xtick_8\">\n     <g id=\"line2d_8\">\n      <g>\n       <use style=\"stroke:#000000;stroke-width:0.8;\" x=\"496.607827\" xlink:href=\"#mfd7e3c46f4\" y=\"430.018125\"/>\n      </g>\n     </g>\n     <g id=\"text_8\">\n      <!-- 70 -->\n      <defs>\n       <path d=\"M 8.203125 72.90625 \nL 55.078125 72.90625 \nL 55.078125 68.703125 \nL 28.609375 0 \nL 18.3125 0 \nL 43.21875 64.59375 \nL 8.203125 64.59375 \nz\n\" id=\"DejaVuSans-55\"/>\n      </defs>\n      <g transform=\"translate(490.245327 444.616562)scale(0.1 -0.1)\">\n       <use xlink:href=\"#DejaVuSans-55\"/>\n       <use x=\"63.623047\" xlink:href=\"#DejaVuSans-48\"/>\n      </g>\n     </g>\n    </g>\n    <g id=\"xtick_9\">\n     <g id=\"line2d_9\">\n      <g>\n       <use style=\"stroke:#000000;stroke-width:0.8;\" x=\"558.659537\" xlink:href=\"#mfd7e3c46f4\" y=\"430.018125\"/>\n      </g>\n     </g>\n     <g id=\"text_9\">\n      <!-- 80 -->\n      <defs>\n       <path d=\"M 31.78125 34.625 \nQ 24.75 34.625 20.71875 30.859375 \nQ 16.703125 27.09375 16.703125 20.515625 \nQ 16.703125 13.921875 20.71875 10.15625 \nQ 24.75 6.390625 31.78125 6.390625 \nQ 38.8125 6.390625 42.859375 10.171875 \nQ 46.921875 13.96875 46.921875 20.515625 \nQ 46.921875 27.09375 42.890625 30.859375 \nQ 38.875 34.625 31.78125 34.625 \nz\nM 21.921875 38.8125 \nQ 15.578125 40.375 12.03125 44.71875 \nQ 8.5 49.078125 8.5 55.328125 \nQ 8.5 64.0625 14.71875 69.140625 \nQ 20.953125 74.21875 31.78125 74.21875 \nQ 42.671875 74.21875 48.875 69.140625 \nQ 55.078125 64.0625 55.078125 55.328125 \nQ 55.078125 49.078125 51.53125 44.71875 \nQ 48 40.375 41.703125 38.8125 \nQ 48.828125 37.15625 52.796875 32.3125 \nQ 56.78125 27.484375 56.78125 20.515625 \nQ 56.78125 9.90625 50.3125 4.234375 \nQ 43.84375 -1.421875 31.78125 -1.421875 \nQ 19.734375 -1.421875 13.25 4.234375 \nQ 6.78125 9.90625 6.78125 20.515625 \nQ 6.78125 27.484375 10.78125 32.3125 \nQ 14.796875 37.15625 21.921875 38.8125 \nz\nM 18.3125 54.390625 \nQ 18.3125 48.734375 21.84375 45.5625 \nQ 25.390625 42.390625 31.78125 42.390625 \nQ 38.140625 42.390625 41.71875 45.5625 \nQ 45.3125 48.734375 45.3125 54.390625 \nQ 45.3125 60.0625 41.71875 63.234375 \nQ 38.140625 66.40625 31.78125 66.40625 \nQ 25.390625 66.40625 21.84375 63.234375 \nQ 18.3125 60.0625 18.3125 54.390625 \nz\n\" id=\"DejaVuSans-56\"/>\n      </defs>\n      <g transform=\"translate(552.297037 444.616562)scale(0.1 -0.1)\">\n       <use xlink:href=\"#DejaVuSans-56\"/>\n       <use x=\"63.623047\" xlink:href=\"#DejaVuSans-48\"/>\n      </g>\n     </g>\n    </g>\n    <g id=\"text_10\">\n     <!-- word count -->\n     <defs>\n      <path d=\"M 4.203125 54.6875 \nL 13.1875 54.6875 \nL 24.421875 12.015625 \nL 35.59375 54.6875 \nL 46.1875 54.6875 \nL 57.421875 12.015625 \nL 68.609375 54.6875 \nL 77.59375 54.6875 \nL 63.28125 0 \nL 52.6875 0 \nL 40.921875 44.828125 \nL 29.109375 0 \nL 18.5 0 \nz\n\" id=\"DejaVuSans-119\"/>\n      <path d=\"M 30.609375 48.390625 \nQ 23.390625 48.390625 19.1875 42.75 \nQ 14.984375 37.109375 14.984375 27.296875 \nQ 14.984375 17.484375 19.15625 11.84375 \nQ 23.34375 6.203125 30.609375 6.203125 \nQ 37.796875 6.203125 41.984375 11.859375 \nQ 46.1875 17.53125 46.1875 27.296875 \nQ 46.1875 37.015625 41.984375 42.703125 \nQ 37.796875 48.390625 30.609375 48.390625 \nz\nM 30.609375 56 \nQ 42.328125 56 49.015625 48.375 \nQ 55.71875 40.765625 55.71875 27.296875 \nQ 55.71875 13.875 49.015625 6.21875 \nQ 42.328125 -1.421875 30.609375 -1.421875 \nQ 18.84375 -1.421875 12.171875 6.21875 \nQ 5.515625 13.875 5.515625 27.296875 \nQ 5.515625 40.765625 12.171875 48.375 \nQ 18.84375 56 30.609375 56 \nz\n\" id=\"DejaVuSans-111\"/>\n      <path d=\"M 41.109375 46.296875 \nQ 39.59375 47.171875 37.8125 47.578125 \nQ 36.03125 48 33.890625 48 \nQ 26.265625 48 22.1875 43.046875 \nQ 18.109375 38.09375 18.109375 28.8125 \nL 18.109375 0 \nL 9.078125 0 \nL 9.078125 54.6875 \nL 18.109375 54.6875 \nL 18.109375 46.1875 \nQ 20.953125 51.171875 25.484375 53.578125 \nQ 30.03125 56 36.53125 56 \nQ 37.453125 56 38.578125 55.875 \nQ 39.703125 55.765625 41.0625 55.515625 \nz\n\" id=\"DejaVuSans-114\"/>\n      <path d=\"M 45.40625 46.390625 \nL 45.40625 75.984375 \nL 54.390625 75.984375 \nL 54.390625 0 \nL 45.40625 0 \nL 45.40625 8.203125 \nQ 42.578125 3.328125 38.25 0.953125 \nQ 33.9375 -1.421875 27.875 -1.421875 \nQ 17.96875 -1.421875 11.734375 6.484375 \nQ 5.515625 14.40625 5.515625 27.296875 \nQ 5.515625 40.1875 11.734375 48.09375 \nQ 17.96875 56 27.875 56 \nQ 33.9375 56 38.25 53.625 \nQ 42.578125 51.265625 45.40625 46.390625 \nz\nM 14.796875 27.296875 \nQ 14.796875 17.390625 18.875 11.75 \nQ 22.953125 6.109375 30.078125 6.109375 \nQ 37.203125 6.109375 41.296875 11.75 \nQ 45.40625 17.390625 45.40625 27.296875 \nQ 45.40625 37.203125 41.296875 42.84375 \nQ 37.203125 48.484375 30.078125 48.484375 \nQ 22.953125 48.484375 18.875 42.84375 \nQ 14.796875 37.203125 14.796875 27.296875 \nz\n\" id=\"DejaVuSans-100\"/>\n      <path id=\"DejaVuSans-32\"/>\n      <path d=\"M 48.78125 52.59375 \nL 48.78125 44.1875 \nQ 44.96875 46.296875 41.140625 47.34375 \nQ 37.3125 48.390625 33.40625 48.390625 \nQ 24.65625 48.390625 19.8125 42.84375 \nQ 14.984375 37.3125 14.984375 27.296875 \nQ 14.984375 17.28125 19.8125 11.734375 \nQ 24.65625 6.203125 33.40625 6.203125 \nQ 37.3125 6.203125 41.140625 7.25 \nQ 44.96875 8.296875 48.78125 10.40625 \nL 48.78125 2.09375 \nQ 45.015625 0.34375 40.984375 -0.53125 \nQ 36.96875 -1.421875 32.421875 -1.421875 \nQ 20.0625 -1.421875 12.78125 6.34375 \nQ 5.515625 14.109375 5.515625 27.296875 \nQ 5.515625 40.671875 12.859375 48.328125 \nQ 20.21875 56 33.015625 56 \nQ 37.15625 56 41.109375 55.140625 \nQ 45.0625 54.296875 48.78125 52.59375 \nz\n\" id=\"DejaVuSans-99\"/>\n      <path d=\"M 8.5 21.578125 \nL 8.5 54.6875 \nL 17.484375 54.6875 \nL 17.484375 21.921875 \nQ 17.484375 14.15625 20.5 10.265625 \nQ 23.53125 6.390625 29.59375 6.390625 \nQ 36.859375 6.390625 41.078125 11.03125 \nQ 45.3125 15.671875 45.3125 23.6875 \nL 45.3125 54.6875 \nL 54.296875 54.6875 \nL 54.296875 0 \nL 45.3125 0 \nL 45.3125 8.40625 \nQ 42.046875 3.421875 37.71875 1 \nQ 33.40625 -1.421875 27.6875 -1.421875 \nQ 18.265625 -1.421875 13.375 4.4375 \nQ 8.5 10.296875 8.5 21.578125 \nz\nM 31.109375 56 \nz\n\" id=\"DejaVuSans-117\"/>\n      <path d=\"M 54.890625 33.015625 \nL 54.890625 0 \nL 45.90625 0 \nL 45.90625 32.71875 \nQ 45.90625 40.484375 42.875 44.328125 \nQ 39.84375 48.1875 33.796875 48.1875 \nQ 26.515625 48.1875 22.3125 43.546875 \nQ 18.109375 38.921875 18.109375 30.90625 \nL 18.109375 0 \nL 9.078125 0 \nL 9.078125 54.6875 \nL 18.109375 54.6875 \nL 18.109375 46.1875 \nQ 21.34375 51.125 25.703125 53.5625 \nQ 30.078125 56 35.796875 56 \nQ 45.21875 56 50.046875 50.171875 \nQ 54.890625 44.34375 54.890625 33.015625 \nz\n\" id=\"DejaVuSans-110\"/>\n      <path d=\"M 18.3125 70.21875 \nL 18.3125 54.6875 \nL 36.8125 54.6875 \nL 36.8125 47.703125 \nL 18.3125 47.703125 \nL 18.3125 18.015625 \nQ 18.3125 11.328125 20.140625 9.421875 \nQ 21.96875 7.515625 27.59375 7.515625 \nL 36.8125 7.515625 \nL 36.8125 0 \nL 27.59375 0 \nQ 17.1875 0 13.234375 3.875 \nQ 9.28125 7.765625 9.28125 18.015625 \nL 9.28125 47.703125 \nL 2.6875 47.703125 \nL 2.6875 54.6875 \nL 9.28125 54.6875 \nL 9.28125 70.21875 \nz\n\" id=\"DejaVuSans-116\"/>\n     </defs>\n     <g transform=\"translate(297.979688 458.294687)scale(0.1 -0.1)\">\n      <use xlink:href=\"#DejaVuSans-119\"/>\n      <use x=\"81.787109\" xlink:href=\"#DejaVuSans-111\"/>\n      <use x=\"142.96875\" xlink:href=\"#DejaVuSans-114\"/>\n      <use x=\"182.332031\" xlink:href=\"#DejaVuSans-100\"/>\n      <use x=\"245.808594\" xlink:href=\"#DejaVuSans-32\"/>\n      <use x=\"277.595703\" xlink:href=\"#DejaVuSans-99\"/>\n      <use x=\"332.576172\" xlink:href=\"#DejaVuSans-111\"/>\n      <use x=\"393.757812\" xlink:href=\"#DejaVuSans-117\"/>\n      <use x=\"457.136719\" xlink:href=\"#DejaVuSans-110\"/>\n      <use x=\"520.515625\" xlink:href=\"#DejaVuSans-116\"/>\n     </g>\n    </g>\n   </g>\n   <g id=\"matplotlib.axis_2\">\n    <g id=\"ytick_1\">\n     <g id=\"line2d_10\">\n      <defs>\n       <path d=\"M 0 0 \nL -3.5 0 \n\" id=\"m97d5487de3\" style=\"stroke:#000000;stroke-width:0.8;\"/>\n      </defs>\n      <g>\n       <use style=\"stroke:#000000;stroke-width:0.8;\" x=\"46.965625\" xlink:href=\"#m97d5487de3\" y=\"430.018125\"/>\n      </g>\n     </g>\n     <g id=\"text_11\">\n      <!-- 0 -->\n      <g transform=\"translate(33.603125 433.817344)scale(0.1 -0.1)\">\n       <use xlink:href=\"#DejaVuSans-48\"/>\n      </g>\n     </g>\n    </g>\n    <g id=\"ytick_2\">\n     <g id=\"line2d_11\">\n      <g>\n       <use style=\"stroke:#000000;stroke-width:0.8;\" x=\"46.965625\" xlink:href=\"#m97d5487de3\" y=\"382.666209\"/>\n      </g>\n     </g>\n     <g id=\"text_12\">\n      <!-- 50 -->\n      <g transform=\"translate(27.240625 386.465427)scale(0.1 -0.1)\">\n       <use xlink:href=\"#DejaVuSans-53\"/>\n       <use x=\"63.623047\" xlink:href=\"#DejaVuSans-48\"/>\n      </g>\n     </g>\n    </g>\n    <g id=\"ytick_3\">\n     <g id=\"line2d_12\">\n      <g>\n       <use style=\"stroke:#000000;stroke-width:0.8;\" x=\"46.965625\" xlink:href=\"#m97d5487de3\" y=\"335.314292\"/>\n      </g>\n     </g>\n     <g id=\"text_13\">\n      <!-- 100 -->\n      <g transform=\"translate(20.878125 339.113511)scale(0.1 -0.1)\">\n       <use xlink:href=\"#DejaVuSans-49\"/>\n       <use x=\"63.623047\" xlink:href=\"#DejaVuSans-48\"/>\n       <use x=\"127.246094\" xlink:href=\"#DejaVuSans-48\"/>\n      </g>\n     </g>\n    </g>\n    <g id=\"ytick_4\">\n     <g id=\"line2d_13\">\n      <g>\n       <use style=\"stroke:#000000;stroke-width:0.8;\" x=\"46.965625\" xlink:href=\"#m97d5487de3\" y=\"287.962376\"/>\n      </g>\n     </g>\n     <g id=\"text_14\">\n      <!-- 150 -->\n      <g transform=\"translate(20.878125 291.761595)scale(0.1 -0.1)\">\n       <use xlink:href=\"#DejaVuSans-49\"/>\n       <use x=\"63.623047\" xlink:href=\"#DejaVuSans-53\"/>\n       <use x=\"127.246094\" xlink:href=\"#DejaVuSans-48\"/>\n      </g>\n     </g>\n    </g>\n    <g id=\"ytick_5\">\n     <g id=\"line2d_14\">\n      <g>\n       <use style=\"stroke:#000000;stroke-width:0.8;\" x=\"46.965625\" xlink:href=\"#m97d5487de3\" y=\"240.610459\"/>\n      </g>\n     </g>\n     <g id=\"text_15\">\n      <!-- 200 -->\n      <g transform=\"translate(20.878125 244.409678)scale(0.1 -0.1)\">\n       <use xlink:href=\"#DejaVuSans-50\"/>\n       <use x=\"63.623047\" xlink:href=\"#DejaVuSans-48\"/>\n       <use x=\"127.246094\" xlink:href=\"#DejaVuSans-48\"/>\n      </g>\n     </g>\n    </g>\n    <g id=\"ytick_6\">\n     <g id=\"line2d_15\">\n      <g>\n       <use style=\"stroke:#000000;stroke-width:0.8;\" x=\"46.965625\" xlink:href=\"#m97d5487de3\" y=\"193.258543\"/>\n      </g>\n     </g>\n     <g id=\"text_16\">\n      <!-- 250 -->\n      <g transform=\"translate(20.878125 197.057762)scale(0.1 -0.1)\">\n       <use xlink:href=\"#DejaVuSans-50\"/>\n       <use x=\"63.623047\" xlink:href=\"#DejaVuSans-53\"/>\n       <use x=\"127.246094\" xlink:href=\"#DejaVuSans-48\"/>\n      </g>\n     </g>\n    </g>\n    <g id=\"ytick_7\">\n     <g id=\"line2d_16\">\n      <g>\n       <use style=\"stroke:#000000;stroke-width:0.8;\" x=\"46.965625\" xlink:href=\"#m97d5487de3\" y=\"145.906627\"/>\n      </g>\n     </g>\n     <g id=\"text_17\">\n      <!-- 300 -->\n      <g transform=\"translate(20.878125 149.705845)scale(0.1 -0.1)\">\n       <use xlink:href=\"#DejaVuSans-51\"/>\n       <use x=\"63.623047\" xlink:href=\"#DejaVuSans-48\"/>\n       <use x=\"127.246094\" xlink:href=\"#DejaVuSans-48\"/>\n      </g>\n     </g>\n    </g>\n    <g id=\"ytick_8\">\n     <g id=\"line2d_17\">\n      <g>\n       <use style=\"stroke:#000000;stroke-width:0.8;\" x=\"46.965625\" xlink:href=\"#m97d5487de3\" y=\"98.55471\"/>\n      </g>\n     </g>\n     <g id=\"text_18\">\n      <!-- 350 -->\n      <g transform=\"translate(20.878125 102.353929)scale(0.1 -0.1)\">\n       <use xlink:href=\"#DejaVuSans-51\"/>\n       <use x=\"63.623047\" xlink:href=\"#DejaVuSans-53\"/>\n       <use x=\"127.246094\" xlink:href=\"#DejaVuSans-48\"/>\n      </g>\n     </g>\n    </g>\n    <g id=\"ytick_9\">\n     <g id=\"line2d_18\">\n      <g>\n       <use style=\"stroke:#000000;stroke-width:0.8;\" x=\"46.965625\" xlink:href=\"#m97d5487de3\" y=\"51.202794\"/>\n      </g>\n     </g>\n     <g id=\"text_19\">\n      <!-- 400 -->\n      <g transform=\"translate(20.878125 55.002013)scale(0.1 -0.1)\">\n       <use xlink:href=\"#DejaVuSans-52\"/>\n       <use x=\"63.623047\" xlink:href=\"#DejaVuSans-48\"/>\n       <use x=\"127.246094\" xlink:href=\"#DejaVuSans-48\"/>\n      </g>\n     </g>\n    </g>\n    <g id=\"text_20\">\n     <!-- sentences with word count -->\n     <defs>\n      <path d=\"M 44.28125 53.078125 \nL 44.28125 44.578125 \nQ 40.484375 46.53125 36.375 47.5 \nQ 32.28125 48.484375 27.875 48.484375 \nQ 21.1875 48.484375 17.84375 46.4375 \nQ 14.5 44.390625 14.5 40.28125 \nQ 14.5 37.15625 16.890625 35.375 \nQ 19.28125 33.59375 26.515625 31.984375 \nL 29.59375 31.296875 \nQ 39.15625 29.25 43.1875 25.515625 \nQ 47.21875 21.78125 47.21875 15.09375 \nQ 47.21875 7.46875 41.1875 3.015625 \nQ 35.15625 -1.421875 24.609375 -1.421875 \nQ 20.21875 -1.421875 15.453125 -0.5625 \nQ 10.6875 0.296875 5.421875 2 \nL 5.421875 11.28125 \nQ 10.40625 8.6875 15.234375 7.390625 \nQ 20.0625 6.109375 24.8125 6.109375 \nQ 31.15625 6.109375 34.5625 8.28125 \nQ 37.984375 10.453125 37.984375 14.40625 \nQ 37.984375 18.0625 35.515625 20.015625 \nQ 33.0625 21.96875 24.703125 23.78125 \nL 21.578125 24.515625 \nQ 13.234375 26.265625 9.515625 29.90625 \nQ 5.8125 33.546875 5.8125 39.890625 \nQ 5.8125 47.609375 11.28125 51.796875 \nQ 16.75 56 26.8125 56 \nQ 31.78125 56 36.171875 55.265625 \nQ 40.578125 54.546875 44.28125 53.078125 \nz\n\" id=\"DejaVuSans-115\"/>\n      <path d=\"M 56.203125 29.59375 \nL 56.203125 25.203125 \nL 14.890625 25.203125 \nQ 15.484375 15.921875 20.484375 11.0625 \nQ 25.484375 6.203125 34.421875 6.203125 \nQ 39.59375 6.203125 44.453125 7.46875 \nQ 49.3125 8.734375 54.109375 11.28125 \nL 54.109375 2.78125 \nQ 49.265625 0.734375 44.1875 -0.34375 \nQ 39.109375 -1.421875 33.890625 -1.421875 \nQ 20.796875 -1.421875 13.15625 6.1875 \nQ 5.515625 13.8125 5.515625 26.8125 \nQ 5.515625 40.234375 12.765625 48.109375 \nQ 20.015625 56 32.328125 56 \nQ 43.359375 56 49.78125 48.890625 \nQ 56.203125 41.796875 56.203125 29.59375 \nz\nM 47.21875 32.234375 \nQ 47.125 39.59375 43.09375 43.984375 \nQ 39.0625 48.390625 32.421875 48.390625 \nQ 24.90625 48.390625 20.390625 44.140625 \nQ 15.875 39.890625 15.1875 32.171875 \nz\n\" id=\"DejaVuSans-101\"/>\n      <path d=\"M 9.421875 54.6875 \nL 18.40625 54.6875 \nL 18.40625 0 \nL 9.421875 0 \nz\nM 9.421875 75.984375 \nL 18.40625 75.984375 \nL 18.40625 64.59375 \nL 9.421875 64.59375 \nz\n\" id=\"DejaVuSans-105\"/>\n      <path d=\"M 54.890625 33.015625 \nL 54.890625 0 \nL 45.90625 0 \nL 45.90625 32.71875 \nQ 45.90625 40.484375 42.875 44.328125 \nQ 39.84375 48.1875 33.796875 48.1875 \nQ 26.515625 48.1875 22.3125 43.546875 \nQ 18.109375 38.921875 18.109375 30.90625 \nL 18.109375 0 \nL 9.078125 0 \nL 9.078125 75.984375 \nL 18.109375 75.984375 \nL 18.109375 46.1875 \nQ 21.34375 51.125 25.703125 53.5625 \nQ 30.078125 56 35.796875 56 \nQ 45.21875 56 50.046875 50.171875 \nQ 54.890625 44.34375 54.890625 33.015625 \nz\n\" id=\"DejaVuSans-104\"/>\n     </defs>\n     <g transform=\"translate(14.798438 293.425156)rotate(-90)scale(0.1 -0.1)\">\n      <use xlink:href=\"#DejaVuSans-115\"/>\n      <use x=\"52.099609\" xlink:href=\"#DejaVuSans-101\"/>\n      <use x=\"113.623047\" xlink:href=\"#DejaVuSans-110\"/>\n      <use x=\"177.001953\" xlink:href=\"#DejaVuSans-116\"/>\n      <use x=\"216.210938\" xlink:href=\"#DejaVuSans-101\"/>\n      <use x=\"277.734375\" xlink:href=\"#DejaVuSans-110\"/>\n      <use x=\"341.113281\" xlink:href=\"#DejaVuSans-99\"/>\n      <use x=\"396.09375\" xlink:href=\"#DejaVuSans-101\"/>\n      <use x=\"457.617188\" xlink:href=\"#DejaVuSans-115\"/>\n      <use x=\"509.716797\" xlink:href=\"#DejaVuSans-32\"/>\n      <use x=\"541.503906\" xlink:href=\"#DejaVuSans-119\"/>\n      <use x=\"623.291016\" xlink:href=\"#DejaVuSans-105\"/>\n      <use x=\"651.074219\" xlink:href=\"#DejaVuSans-116\"/>\n      <use x=\"690.283203\" xlink:href=\"#DejaVuSans-104\"/>\n      <use x=\"753.662109\" xlink:href=\"#DejaVuSans-32\"/>\n      <use x=\"785.449219\" xlink:href=\"#DejaVuSans-119\"/>\n      <use x=\"867.236328\" xlink:href=\"#DejaVuSans-111\"/>\n      <use x=\"928.417969\" xlink:href=\"#DejaVuSans-114\"/>\n      <use x=\"967.78125\" xlink:href=\"#DejaVuSans-100\"/>\n      <use x=\"1031.257812\" xlink:href=\"#DejaVuSans-32\"/>\n      <use x=\"1063.044922\" xlink:href=\"#DejaVuSans-99\"/>\n      <use x=\"1118.025391\" xlink:href=\"#DejaVuSans-111\"/>\n      <use x=\"1179.207031\" xlink:href=\"#DejaVuSans-117\"/>\n      <use x=\"1242.585938\" xlink:href=\"#DejaVuSans-110\"/>\n      <use x=\"1305.964844\" xlink:href=\"#DejaVuSans-116\"/>\n     </g>\n    </g>\n   </g>\n   <g id=\"patch_77\">\n    <path d=\"M 46.965625 430.018125 \nL 46.965625 22.318125 \n\" style=\"fill:none;stroke:#000000;stroke-linecap:square;stroke-linejoin:miter;stroke-width:0.8;\"/>\n   </g>\n   <g id=\"patch_78\">\n    <path d=\"M 604.965625 430.018125 \nL 604.965625 22.318125 \n\" style=\"fill:none;stroke:#000000;stroke-linecap:square;stroke-linejoin:miter;stroke-width:0.8;\"/>\n   </g>\n   <g id=\"patch_79\">\n    <path d=\"M 46.965625 430.018125 \nL 604.965625 430.018125 \n\" style=\"fill:none;stroke:#000000;stroke-linecap:square;stroke-linejoin:miter;stroke-width:0.8;\"/>\n   </g>\n   <g id=\"patch_80\">\n    <path d=\"M 46.965625 22.318125 \nL 604.965625 22.318125 \n\" style=\"fill:none;stroke:#000000;stroke-linecap:square;stroke-linejoin:miter;stroke-width:0.8;\"/>\n   </g>\n   <g id=\"text_21\">\n    <!-- word count per sentences distribution -->\n    <defs>\n     <path d=\"M 18.109375 8.203125 \nL 18.109375 -20.796875 \nL 9.078125 -20.796875 \nL 9.078125 54.6875 \nL 18.109375 54.6875 \nL 18.109375 46.390625 \nQ 20.953125 51.265625 25.265625 53.625 \nQ 29.59375 56 35.59375 56 \nQ 45.5625 56 51.78125 48.09375 \nQ 58.015625 40.1875 58.015625 27.296875 \nQ 58.015625 14.40625 51.78125 6.484375 \nQ 45.5625 -1.421875 35.59375 -1.421875 \nQ 29.59375 -1.421875 25.265625 0.953125 \nQ 20.953125 3.328125 18.109375 8.203125 \nz\nM 48.6875 27.296875 \nQ 48.6875 37.203125 44.609375 42.84375 \nQ 40.53125 48.484375 33.40625 48.484375 \nQ 26.265625 48.484375 22.1875 42.84375 \nQ 18.109375 37.203125 18.109375 27.296875 \nQ 18.109375 17.390625 22.1875 11.75 \nQ 26.265625 6.109375 33.40625 6.109375 \nQ 40.53125 6.109375 44.609375 11.75 \nQ 48.6875 17.390625 48.6875 27.296875 \nz\n\" id=\"DejaVuSans-112\"/>\n     <path d=\"M 48.6875 27.296875 \nQ 48.6875 37.203125 44.609375 42.84375 \nQ 40.53125 48.484375 33.40625 48.484375 \nQ 26.265625 48.484375 22.1875 42.84375 \nQ 18.109375 37.203125 18.109375 27.296875 \nQ 18.109375 17.390625 22.1875 11.75 \nQ 26.265625 6.109375 33.40625 6.109375 \nQ 40.53125 6.109375 44.609375 11.75 \nQ 48.6875 17.390625 48.6875 27.296875 \nz\nM 18.109375 46.390625 \nQ 20.953125 51.265625 25.265625 53.625 \nQ 29.59375 56 35.59375 56 \nQ 45.5625 56 51.78125 48.09375 \nQ 58.015625 40.1875 58.015625 27.296875 \nQ 58.015625 14.40625 51.78125 6.484375 \nQ 45.5625 -1.421875 35.59375 -1.421875 \nQ 29.59375 -1.421875 25.265625 0.953125 \nQ 20.953125 3.328125 18.109375 8.203125 \nL 18.109375 0 \nL 9.078125 0 \nL 9.078125 75.984375 \nL 18.109375 75.984375 \nz\n\" id=\"DejaVuSans-98\"/>\n    </defs>\n    <g transform=\"translate(211.919688 16.318125)scale(0.12 -0.12)\">\n     <use xlink:href=\"#DejaVuSans-119\"/>\n     <use x=\"81.787109\" xlink:href=\"#DejaVuSans-111\"/>\n     <use x=\"142.96875\" xlink:href=\"#DejaVuSans-114\"/>\n     <use x=\"182.332031\" xlink:href=\"#DejaVuSans-100\"/>\n     <use x=\"245.808594\" xlink:href=\"#DejaVuSans-32\"/>\n     <use x=\"277.595703\" xlink:href=\"#DejaVuSans-99\"/>\n     <use x=\"332.576172\" xlink:href=\"#DejaVuSans-111\"/>\n     <use x=\"393.757812\" xlink:href=\"#DejaVuSans-117\"/>\n     <use x=\"457.136719\" xlink:href=\"#DejaVuSans-110\"/>\n     <use x=\"520.515625\" xlink:href=\"#DejaVuSans-116\"/>\n     <use x=\"559.724609\" xlink:href=\"#DejaVuSans-32\"/>\n     <use x=\"591.511719\" xlink:href=\"#DejaVuSans-112\"/>\n     <use x=\"654.988281\" xlink:href=\"#DejaVuSans-101\"/>\n     <use x=\"716.511719\" xlink:href=\"#DejaVuSans-114\"/>\n     <use x=\"757.625\" xlink:href=\"#DejaVuSans-32\"/>\n     <use x=\"789.412109\" xlink:href=\"#DejaVuSans-115\"/>\n     <use x=\"841.511719\" xlink:href=\"#DejaVuSans-101\"/>\n     <use x=\"903.035156\" xlink:href=\"#DejaVuSans-110\"/>\n     <use x=\"966.414062\" xlink:href=\"#DejaVuSans-116\"/>\n     <use x=\"1005.623047\" xlink:href=\"#DejaVuSans-101\"/>\n     <use x=\"1067.146484\" xlink:href=\"#DejaVuSans-110\"/>\n     <use x=\"1130.525391\" xlink:href=\"#DejaVuSans-99\"/>\n     <use x=\"1185.505859\" xlink:href=\"#DejaVuSans-101\"/>\n     <use x=\"1247.029297\" xlink:href=\"#DejaVuSans-115\"/>\n     <use x=\"1299.128906\" xlink:href=\"#DejaVuSans-32\"/>\n     <use x=\"1330.916016\" xlink:href=\"#DejaVuSans-100\"/>\n     <use x=\"1394.392578\" xlink:href=\"#DejaVuSans-105\"/>\n     <use x=\"1422.175781\" xlink:href=\"#DejaVuSans-115\"/>\n     <use x=\"1474.275391\" xlink:href=\"#DejaVuSans-116\"/>\n     <use x=\"1513.484375\" xlink:href=\"#DejaVuSans-114\"/>\n     <use x=\"1554.597656\" xlink:href=\"#DejaVuSans-105\"/>\n     <use x=\"1582.380859\" xlink:href=\"#DejaVuSans-98\"/>\n     <use x=\"1645.857422\" xlink:href=\"#DejaVuSans-117\"/>\n     <use x=\"1709.236328\" xlink:href=\"#DejaVuSans-116\"/>\n     <use x=\"1748.445312\" xlink:href=\"#DejaVuSans-105\"/>\n     <use x=\"1776.228516\" xlink:href=\"#DejaVuSans-111\"/>\n     <use x=\"1837.410156\" xlink:href=\"#DejaVuSans-110\"/>\n    </g>\n   </g>\n  </g>\n </g>\n <defs>\n  <clipPath id=\"p16f9ac021d\">\n   <rect height=\"407.7\" width=\"558\" x=\"46.965625\" y=\"22.318125\"/>\n  </clipPath>\n </defs>\n</svg>\n",
      "image/png": "[encoded data removed]"
     },
     "metadata": {
      "needs_background": "light"
     }
    }
   ],
   "source": [
    "prepare_data.get_statistics()"
   ]
  },
  {
   "source": [
    "# Modal Analysis"
   ],
   "cell_type": "markdown",
   "metadata": {}
  },
  {
   "cell_type": "code",
   "execution_count": 10,
   "metadata": {},
   "outputs": [],
   "source": [
    "default_modal = set([\"akan\", \"ingin\", \"mau\", \"telah\", \"sudah\", \"pernah\", \"masih\", \"bisa\", \"dapat\", \"boleh\", \"ikut\", \"harus\", \"suka\", \"senang\"])"
   ]
  },
  {
   "cell_type": "code",
   "execution_count": 11,
   "metadata": {},
   "outputs": [],
   "source": [
    "def get_modal(data, default_modal):\n",
    "    \"\"\"Return the sentences that contains auxiliary verb from the prepared data\n",
    "        and the set of modal / auxiliary words\n",
    "\n",
    "        Args:\n",
    "            train_data: from the corpus of tagged words\n",
    "            default_modal: a set of default modal words that will be used \n",
    "                to detect possible modal that is not labeled as modal\n",
    "\n",
    "        Return data will be a dictionary:\n",
    "            key: modal words\n",
    "            values: list of sentences containing the modal words (no repeat)\n",
    "    \"\"\"\n",
    "    f = open(\"report.txt\", \"w\")\n",
    "    modal_sent_dict = dict()\n",
    "    num_misclassified_modal = 0\n",
    "    for sentence in data:\n",
    "        for entry in sentence:\n",
    "            word = entry[0]\n",
    "            tag = entry[1]\n",
    "            if tag == \"MD\":\n",
    "                if word not in modal_sent_dict:\n",
    "                    modal_sent_dict[word] = [sentence]\n",
    "                elif sentence not in modal_sent_dict[word]:\n",
    "                    modal_sent_dict[word].append([sentence])    \n",
    "            elif word in default_modal:\n",
    "                f.write(f\"the word {word} is a modal but not tagged as MD\\n\")\n",
    "                f.write(f\"\\t{word} is classified as {tag}\\n\")\n",
    "                f.write(f\"\\tin sentence {sentence}\\n\")\n",
    "                f.write(\"\\n\")\n",
    "                num_misclassified_modal += 1\n",
    "    f.close()\n",
    "    print(f\"there are {num_misclassified_modal} instances where modal words that are not classified as modal\")\n",
    "    print(f\"there are {len(modal_sent_dict.keys())} modal words\")\n",
    "    print(f\"{modal_sent_dict.keys()}\")\n",
    "    # for each modal words in the key set, make the value to a set then back to list\n",
    "    "
   ]
  },
  {
   "cell_type": "code",
   "execution_count": 12,
   "metadata": {
    "tags": []
   },
   "outputs": [
    {
     "output_type": "stream",
     "name": "stdout",
     "text": [
      "there are 131 instances where modal words that are not classified as modal\nthere are 39 modal words\ndict_keys(['akan', 'bisa', 'harus', 'telah', 'sudah', 'baru', 'mulai', 'pernah', 'masih', 'sempat', 'sedang', 'tengah', 'mau', 'sepertinya', 'perlu', 'boleh', 'dapat', 'mungkin', 'bakal', 'kemungkinan', 'sedikit', 'Baru', 'Bisa', 'hendak', 'Mungkin', 'Sudah', 'barangkali', 'Harus', 'Pernah', 'Masih', 'Akan', 'guna', 'Dapat', 'usah', 'mesti', 'kan', 'Telah', 'lagi', 'Perlu'])\n"
     ]
    }
   ],
   "source": [
    "get_modal(data, default_modal)"
   ]
  },
  {
   "cell_type": "code",
   "execution_count": 57,
   "metadata": {},
   "outputs": [],
   "source": [
    "perceptron_tagger = PerceptronTagger(load=False)"
   ]
  },
  {
   "cell_type": "code",
   "execution_count": 58,
   "metadata": {},
   "outputs": [],
   "source": [
    "# RUN THIS IF YOU WANT TO RETRAIN\n",
    "perceptron_tagger.train(train_data, save_loc=\"trained_model_split_90.pickle\")"
   ]
  },
  {
   "cell_type": "code",
   "execution_count": 34,
   "metadata": {},
   "outputs": [],
   "source": [
    "# LOAD THE SAVED MODEL\n",
    "perceptron_tagger.load(\"trained_model_split_80.pickle\")"
   ]
  },
  {
   "cell_type": "code",
   "execution_count": 60,
   "metadata": {},
   "outputs": [],
   "source": [
    "def calculate_accuracy(model, test_data):\n",
    "    correctly_predicted_tags = 0\n",
    "    total_tags = 0\n",
    "    num_sent_misclassified = 0\n",
    "    for sentence in test_data:\n",
    "        # each sentence is a [(word, tag) pair]\n",
    "        tokenized_sent = [word for word, tag in sentence]\n",
    "        correct_tags = [tag for word, tag in sentence]\n",
    "        predicted = model.tag(tokenized_sent)\n",
    "        predicted_tags = [tag for word, tag in predicted]\n",
    "        total_tags += len(predicted_tags)\n",
    "        if predicted_tags != correct_tags:\n",
    "            num_sent_misclassified += 1\n",
    "        for i in range(len(predicted_tags)):\n",
    "            if predicted_tags[i] == correct_tags[i]:\n",
    "                correctly_predicted_tags += 1\n",
    "                # print(f\"correct tags is {correct_tags[i]}, but predicted as {predicted_tags[i]}\")\n",
    "    \n",
    "    accuracy = round(correctly_predicted_tags / total_tags, 2)\n",
    "    print(accuracy)\n",
    "    print(num_sent_misclassified)\n",
    "    \n",
    "    # print(correctly_predicted_tags)\n",
    "    # print(total_tags)"
   ]
  },
  {
   "cell_type": "code",
   "execution_count": 52,
   "metadata": {
    "tags": []
   },
   "outputs": [
    {
     "output_type": "stream",
     "name": "stdout",
     "text": [
      "0.97\n"
     ]
    }
   ],
   "source": [
    "# calculate accuracy based on 80% data split\n",
    "calculate_accuracy(perceptron_tagger, test_data)"
   ]
  },
  {
   "cell_type": "code",
   "execution_count": 61,
   "metadata": {},
   "outputs": [
    {
     "output_type": "stream",
     "name": "stdout",
     "text": [
      "0.97\n472\n"
     ]
    }
   ],
   "source": [
    "# calculate accuracy based on 90% data split\n",
    "calculate_accuracy(perceptron_tagger, test_data)\n"
   ]
  },
  {
   "cell_type": "code",
   "execution_count": null,
   "metadata": {},
   "outputs": [],
   "source": [
    "# calculate accuracy per pos tags "
   ]
  },
  {
   "cell_type": "code",
   "execution_count": 19,
   "metadata": {},
   "outputs": [],
   "source": [
    "def tag_web_data(tokenized_sentences):\n",
    "    tagged_sentences = []\n",
    "    for tokenized_sent in tokenized_sentences:\n",
    "        tagged_sent = perceptron_tagger.tag(tokenized_sent)\n",
    "        tagged_sentences.append(tagged_sent)\n",
    "\n",
    "    return tagged_sentences"
   ]
  },
  {
   "cell_type": "code",
   "execution_count": 21,
   "metadata": {},
   "outputs": [
    {
     "output_type": "stream",
     "name": "stdout",
     "text": [
      "955\n",
      "955\n",
      "[('Salah', 'JJ'), ('satunya', 'RB'), ('dengan', 'IN'), ('program', 'NN'), ('padat', 'NN'), ('karya', 'NN'), ('tunai', 'JJ'), ('yang', 'SC'), ('saat', 'NN'), ('ini', 'PR'), ('realisasinya', 'MD'), ('mencapai', 'VB'), ('40', 'CD'), ('%', 'SYM'), ('dan', 'CC'), ('diperkirakan', 'VB'), ('menyerap', 'VB'), ('1,2', 'CD'), ('juta', 'CD'), ('tenaga', 'NN'), ('kerja', 'NN'), ('.', 'Z')]\n"
     ]
    }
   ],
   "source": [
    "print(len(tokenized_sentences))\n",
    "tagged_sentences = tag_web_data(tokenized_sentences)\n",
    "print(len(tagged_sentences))\n",
    "print(tagged_sentences[1])"
   ]
  },
  {
   "cell_type": "code",
   "execution_count": null,
   "metadata": {},
   "outputs": [],
   "source": [
    "def detect_auxiliary(tokenized_sentences):\n",
    "    \"\"\"Detect auxiliary verbs or modal verbs'\"\""
   ]
  }
 ]
}