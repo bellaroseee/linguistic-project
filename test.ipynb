{
 "metadata": {
  "orig_nbformat": 2,
  "kernelspec": {
   "name": "python3",
   "display_name": "Python 3",
   "language": "python"
  }
 },
 "nbformat": 4,
 "nbformat_minor": 2,
 "cells": [
  {
   "cell_type": "code",
   "execution_count": 61,
   "metadata": {},
   "outputs": [
    {
     "output_type": "stream",
     "name": "stdout",
     "text": [
      "[nltk_data] Downloading package punkt to /root/nltk_data...\n[nltk_data]   Package punkt is already up-to-date!\n"
     ]
    }
   ],
   "source": [
    "import os\n",
    "import random\n",
    "import math\n",
    "import matplotlib.pyplot as plt\n",
    "import nltk\n",
    "import tensorflow as tf\n",
    "\n",
    "# for tokenizing\n",
    "nltk.download('punkt')\n",
    "\n",
    "# for POS tagging\n",
    "from nltk.tag.perceptron import AveragedPerceptron\n",
    "from nltk.tag.perceptron import PerceptronTagger\n"
   ]
  },
  {
   "cell_type": "code",
   "execution_count": 9,
   "metadata": {},
   "outputs": [],
   "source": [
    "def load_data(path):\n",
    "  \"\"\"Return a list of tokenized sentence, and\n",
    "      a dictionary of frequency of word\n",
    "    \n",
    "    Args:\n",
    "      path: the path of the file (in txt) to parse and tokenize\n",
    "  \"\"\"\n",
    "  f = open(path, \"r\")\n",
    "  text = f.read()\n",
    "  token_dict = dict()\n",
    "\n",
    "  # documents -> list of sentences\n",
    "  sentences_lst = nltk.sent_tokenize(text)\n",
    "\n",
    "  # list of sentences -> list of tokenized sentences\n",
    "  tokenized_sentences = []\n",
    "  for sentence in sentences_lst:\n",
    "    tokenized = nltk.word_tokenize(sentence)\n",
    "    tokenized_sentences.append(tokenized)\n",
    "    for token in tokenized:\n",
    "      if token in token_dict:\n",
    "        token_dict[token] += 1\n",
    "      else:\n",
    "        token_dict[token] = 1\n",
    "\n",
    "  return tokenized_sentences, token_dict"
   ]
  },
  {
   "cell_type": "code",
   "execution_count": 10,
   "metadata": {},
   "outputs": [],
   "source": [
    "def merge_dict(dict1, dict2):\n",
    "  \"\"\"Return a new dictionary with the content of dict1 and dict2\"\"\"  \n",
    "  res = {**dict1, **dict2}\n",
    "  return res"
   ]
  },
  {
   "cell_type": "code",
   "execution_count": 11,
   "metadata": {},
   "outputs": [],
   "source": [
    "def process_data():\n",
    "    \"\"\"Retun a list of tokenized sentences and a word frequency dictionary\"\"\"\n",
    "    \n",
    "    cwd = os.getcwd()\n",
    "    categories = [\"/businessEconomy\", \"/lifestyle\", \"/politics\", \"/technology\"]\n",
    "\n",
    "    tokenized_sentences = []\n",
    "    word_freq_dict = dict()\n",
    "\n",
    "    for category in categories:\n",
    "        docs_list = os.listdir(cwd+category)\n",
    "        for docs in docs_list:\n",
    "            doc_path = cwd+category+\"/\"+docs\n",
    "            tkn_sent, tkn_dict = load_data(doc_path)\n",
    "            tokenized_sentences += tkn_sent\n",
    "            word_freq_dict = merge_dict(word_freq_dict, tkn_dict)\n",
    "\n",
    "    return tokenized_sentences, word_freq_dict        \n",
    "        "
   ]
  },
  {
   "cell_type": "code",
   "execution_count": 12,
   "metadata": {},
   "outputs": [],
   "source": [
    "tokenized_sentences, word_freq_dict = process_data()"
   ]
  },
  {
   "cell_type": "code",
   "execution_count": 78,
   "metadata": {},
   "outputs": [
    {
     "output_type": "execute_result",
     "data": {
      "text/plain": [
       "['Salah',\n",
       " 'satunya',\n",
       " 'dengan',\n",
       " 'program',\n",
       " 'padat',\n",
       " 'karya',\n",
       " 'tunai',\n",
       " 'yang',\n",
       " 'saat',\n",
       " 'ini',\n",
       " 'realisasinya',\n",
       " 'mencapai',\n",
       " '40',\n",
       " '%',\n",
       " 'dan',\n",
       " 'diperkirakan',\n",
       " 'menyerap',\n",
       " '1,2',\n",
       " 'juta',\n",
       " 'tenaga',\n",
       " 'kerja',\n",
       " '.']"
      ]
     },
     "metadata": {},
     "execution_count": 78
    }
   ],
   "source": [
    "tokenized_sentences[1]"
   ]
  },
  {
   "cell_type": "code",
   "execution_count": 13,
   "metadata": {},
   "outputs": [],
   "source": [
    "tagged_data = tf.keras.utils.get_file(fname=\"tagged_tsv_gh\", origin=\"https://raw.githubusercontent.com/famrashel/idn-tagged-corpus/master/Indonesian_Manually_Tagged_Corpus_ID.tsv\")"
   ]
  },
  {
   "cell_type": "code",
   "execution_count": 73,
   "metadata": {
    "tags": []
   },
   "outputs": [],
   "source": [
    "class PrepareData():\n",
    "    def __init__(self, path):\n",
    "        self.tagged_data = path\n",
    "        self.pos_tags = dict()\n",
    "        self.data = []\n",
    "        self.pos_tags_set = set()\n",
    "\n",
    "    def load(self):\n",
    "        f = open(self.tagged_data, \"r\")\n",
    "        lines = f.readlines()\n",
    "        for line in lines:\n",
    "            line = line.strip()\n",
    "            if line[:2] == \"</\":\n",
    "                # end of a sentence\n",
    "                self.data.append(tagged_entry)\n",
    "            elif line[:1] == \"<\":\n",
    "                # instantiate a new tagged entry\n",
    "                tagged_entry = []\n",
    "            else:\n",
    "                lst = line.split(\"\\t\")\n",
    "                word = lst[0]\n",
    "                tag = lst[1]\n",
    "\n",
    "                # add entry to tagged_entry to build tagged sentence\n",
    "                entry = (word, tag)\n",
    "                tagged_entry.append(entry)\n",
    "                \n",
    "                # add the tag and word to pos_tags\n",
    "                if tag not in self.pos_tags:\n",
    "                    self.pos_tags[tag] = set(word)\n",
    "                else:\n",
    "                    self.pos_tags[tag].add(word)\n",
    "\n",
    "        self.pos_tags_set = set(self.pos_tags.keys())\n",
    "\n",
    "    def split_test_train(self, ratio=0.8):\n",
    "        \"\"\"Split the data into test set and train set. Default ratio is 80% train and 20% test\"\"\"\n",
    "        num_train_data = len(self.data)\n",
    "        choose = math.floor(num_train_data * (1 - ratio))\n",
    "        test_data = random.sample(self.data, choose)\n",
    "        train_data = list(filter(lambda i: i not in test_data, self.data))\n",
    "        return train_data, test_data\n",
    "    \n",
    "    def get_statistics(self):\n",
    "        \"\"\"Return a general report of the corpus statistics\n",
    "            Statistics to return:\n",
    "            - total number of sentences\n",
    "            - average word count in a sentence\n",
    "            - max sentence length\n",
    "            - min sentence length\n",
    "        \"\"\"\n",
    "        sent_list = []\n",
    "        total_wc = 0\n",
    "        freq_dict = dict() # key: word count, value: num of sentences with that word count\n",
    "        word_count = lambda sentence: len(nltk.word_tokenize(sentence))\n",
    "        \n",
    "        for tagged_sent in self.data:\n",
    "            sent = to_sent(tagged_sent)\n",
    "            sent_list.append(sent)\n",
    "            total_wc += word_count(sent)\n",
    "            if word_count(sent) in freq_dict:\n",
    "                freq_dict[word_count(sent)] += 1\n",
    "            else:\n",
    "                freq_dict[word_count(sent)] = 1\n",
    "        \n",
    "        min_sent = min(sent_list, key=word_count) # the shortest sentence by word count\n",
    "        max_sent = max(sent_list, key=word_count) # the longest sentence by word count\n",
    "        min_wc = word_count(min_sent)\n",
    "        max_wc = word_count(max_sent)\n",
    "        average_wc = math.floor(total_wc / len(sent_list))\n",
    "        print(\"CORPUS STATISTICS\")\n",
    "        print(f\"There are a total of {len(sent_list)} sentences in the corpus from {self.tagged_data}\\n\")\n",
    "        print(f\"\\tAverage word count\\t:\\t{average_wc}\\n\")\n",
    "        print(f\"\\tmaximum sentence length\\t:\\t{max_wc}\\n\")\n",
    "        print(f\"\\tsentence:\\n\")\n",
    "        print(f\"\\t{max_sent}\\n\")\n",
    "        print(f\"\\tminimum sentence length\\t:\\t{min_wc}\\n\")\n",
    "        print(f\"\\tsentence:\\n\")\n",
    "        print(f\"\\t{min_sent}\\n\")\n",
    "\n",
    "        plt.figure(figsize=(10, 7.5))\n",
    "        plt.bar(freq_dict.keys(), freq_dict.values(), width=0.75)"
   ]
  },
  {
   "cell_type": "code",
   "execution_count": 63,
   "metadata": {},
   "outputs": [],
   "source": [
    "def to_sent(tagged_sent):\n",
    "    \"\"\"Return a sentence from a tagged sentence version\"\"\"\n",
    "    sent = \"\"\n",
    "    for (word, tag) in tagged_sent:\n",
    "        sent += word + \" \"\n",
    "    return sent.strip()\n",
    "\n",
    "def get_tag(tagged_sent, word_to_tag):\n",
    "    \"\"\"Retrieve the POS tag of a word in a tagged sentence\"\"\"\n",
    "    for (word, tag) in tagged_sent:\n",
    "        if word_to_tag == word:\n",
    "            return tag\n",
    "    return f\"{word_to_tag} is not in the sentence\""
   ]
  },
  {
   "cell_type": "code",
   "execution_count": 74,
   "metadata": {},
   "outputs": [],
   "source": [
    "prepare_data = PrepareData(tagged_data)\n",
    "prepare_data.load()\n",
    "train_data, test_data = prepare_data.split_test_train()\n",
    "data = prepare_data.data"
   ]
  },
  {
   "cell_type": "code",
   "execution_count": 65,
   "metadata": {},
   "outputs": [
    {
     "output_type": "stream",
     "name": "stdout",
     "text": [
      "Dua miliarder Amerika Bill Gates dan Warren Buffett akan mengadakan jamuan makan malam di Beijing bagi sejumlah orang terkaya di Cina .\nsudah is not in the sentence\n"
     ]
    }
   ],
   "source": [
    "print(to_sent(train_data[15]))\n",
    "print(get_tag(train_data[15], \"sudah\"))"
   ]
  },
  {
   "cell_type": "code",
   "execution_count": 75,
   "metadata": {},
   "outputs": [
    {
     "output_type": "stream",
     "name": "stdout",
     "text": [
      "CORPUS STATISTICS\nThere are a total of 10030 sentences in the corpus from /root/.keras/datasets/tagged_tsv_gh\n\n\tAverage word count\t:\t26\n\n\tmaximum sentence length\t:\t83\n\n\tsentence:\n\n\tDikatakan -nya , inflasi terjadi karena adanya kenaikan harga yang ditunjukkan oleh kenaikan indeks pada kelompok barang dan jasa , yaitu kelompok bahan makanan 1,87 persen , kelompok makanan jadi , minuman , rokok & tembakau 0,51 persen , kelompok perumahan , air , listrik , gas & bahan bakar 0,21 persen , kelompok sandang 2,05 persen , kelompok kesehatan 0,45 persen , kelompok pendidikan , rekreasi dan olahraga 0,21 persen , dan kelompok transpor , komunikasi & jasa keuangan 0,47 persen .\n\n\tminimum sentence length\t:\t2\n\n\tsentence:\n\n\tCalon selebriti\n\n"
     ]
    },
    {
     "output_type": "display_data",
     "data": {
      "text/plain": "<Figure size 720x540 with 1 Axes>",
      "image/svg+xml": "<?xml version=\"1.0\" encoding=\"utf-8\" standalone=\"no\"?>\n<!DOCTYPE svg PUBLIC \"-//W3C//DTD SVG 1.1//EN\"\n  \"http://www.w3.org/Graphics/SVG/1.1/DTD/svg11.dtd\">\n<!-- Created with matplotlib (https://matplotlib.org/) -->\n<svg height=\"438.778125pt\" version=\"1.1\" viewBox=\"0 0 598.4875 438.778125\" width=\"598.4875pt\" xmlns=\"http://www.w3.org/2000/svg\" xmlns:xlink=\"http://www.w3.org/1999/xlink\">\n <defs>\n  <style type=\"text/css\">\n*{stroke-linecap:butt;stroke-linejoin:round;}\n  </style>\n </defs>\n <g id=\"figure_1\">\n  <g id=\"patch_1\">\n   <path d=\"M 0 438.778125 \nL 598.4875 438.778125 \nL 598.4875 0 \nL 0 0 \nz\n\" style=\"fill:none;\"/>\n  </g>\n  <g id=\"axes_1\">\n   <g id=\"patch_2\">\n    <path d=\"M 33.2875 414.9 \nL 591.2875 414.9 \nL 591.2875 7.2 \nL 33.2875 7.2 \nz\n\" style=\"fill:#ffffff;\"/>\n   </g>\n   <g id=\"patch_3\">\n    <path clip-path=\"url(#p5c1638368c)\" d=\"M 77.266649 414.9 \nL 81.920528 414.9 \nL 81.920528 380.80662 \nL 77.266649 380.80662 \nz\n\" style=\"fill:#1f77b4;\"/>\n   </g>\n   <g id=\"patch_4\">\n    <path clip-path=\"url(#p5c1638368c)\" d=\"M 164.139043 414.9 \nL 168.792921 414.9 \nL 168.792921 78.701394 \nL 164.139043 78.701394 \nz\n\" style=\"fill:#1f77b4;\"/>\n   </g>\n   <g id=\"patch_5\">\n    <path clip-path=\"url(#p5c1638368c)\" d=\"M 151.728701 414.9 \nL 156.382579 414.9 \nL 156.382579 113.741812 \nL 151.728701 113.741812 \nz\n\" style=\"fill:#1f77b4;\"/>\n   </g>\n   <g id=\"patch_6\">\n    <path clip-path=\"url(#p5c1638368c)\" d=\"M 145.52353 414.9 \nL 150.177408 414.9 \nL 150.177408 150.676307 \nL 145.52353 150.676307 \nz\n\" style=\"fill:#1f77b4;\"/>\n   </g>\n   <g id=\"patch_7\">\n    <path clip-path=\"url(#p5c1638368c)\" d=\"M 182.754556 414.9 \nL 187.408434 414.9 \nL 187.408434 26.614286 \nL 182.754556 26.614286 \nz\n\" style=\"fill:#1f77b4;\"/>\n   </g>\n   <g id=\"patch_8\">\n    <path clip-path=\"url(#p5c1638368c)\" d=\"M 170.344214 414.9 \nL 174.998092 414.9 \nL 174.998092 70.178049 \nL 170.344214 70.178049 \nz\n\" style=\"fill:#1f77b4;\"/>\n   </g>\n   <g id=\"patch_9\">\n    <path clip-path=\"url(#p5c1638368c)\" d=\"M 120.702846 414.9 \nL 125.356724 414.9 \nL 125.356724 228.333449 \nL 120.702846 228.333449 \nz\n\" style=\"fill:#1f77b4;\"/>\n   </g>\n   <g id=\"patch_10\">\n    <path clip-path=\"url(#p5c1638368c)\" d=\"M 226.190753 414.9 \nL 230.844631 414.9 \nL 230.844631 64.495819 \nL 226.190753 64.495819 \nz\n\" style=\"fill:#1f77b4;\"/>\n   </g>\n   <g id=\"patch_11\">\n    <path clip-path=\"url(#p5c1638368c)\" d=\"M 89.676991 414.9 \nL 94.330869 414.9 \nL 94.330869 349.554355 \nL 89.676991 349.554355 \nz\n\" style=\"fill:#1f77b4;\"/>\n   </g>\n   <g id=\"patch_12\">\n    <path clip-path=\"url(#p5c1638368c)\" d=\"M 126.908017 414.9 \nL 131.561895 414.9 \nL 131.561895 214.127875 \nL 126.908017 214.127875 \nz\n\" style=\"fill:#1f77b4;\"/>\n   </g>\n   <g id=\"patch_13\">\n    <path clip-path=\"url(#p5c1638368c)\" d=\"M 139.318359 414.9 \nL 143.972237 414.9 \nL 143.972237 146.888153 \nL 139.318359 146.888153 \nz\n\" style=\"fill:#1f77b4;\"/>\n   </g>\n   <g id=\"patch_14\">\n    <path clip-path=\"url(#p5c1638368c)\" d=\"M 83.47182 414.9 \nL 88.125698 414.9 \nL 88.125698 368.495122 \nL 83.47182 368.495122 \nz\n\" style=\"fill:#1f77b4;\"/>\n   </g>\n   <g id=\"patch_15\">\n    <path clip-path=\"url(#p5c1638368c)\" d=\"M 176.549385 414.9 \nL 181.203263 414.9 \nL 181.203263 58.813589 \nL 176.549385 58.813589 \nz\n\" style=\"fill:#1f77b4;\"/>\n   </g>\n   <g id=\"patch_16\">\n    <path clip-path=\"url(#p5c1638368c)\" d=\"M 219.985582 414.9 \nL 224.63946 414.9 \nL 224.63946 87.224739 \nL 219.985582 87.224739 \nz\n\" style=\"fill:#1f77b4;\"/>\n   </g>\n   <g id=\"patch_17\">\n    <path clip-path=\"url(#p5c1638368c)\" d=\"M 157.933872 414.9 \nL 162.58775 414.9 \nL 162.58775 114.68885 \nL 157.933872 114.68885 \nz\n\" style=\"fill:#1f77b4;\"/>\n   </g>\n   <g id=\"patch_18\">\n    <path clip-path=\"url(#p5c1638368c)\" d=\"M 133.113188 414.9 \nL 137.767066 414.9 \nL 137.767066 180.981533 \nL 133.113188 180.981533 \nz\n\" style=\"fill:#1f77b4;\"/>\n   </g>\n   <g id=\"patch_19\">\n    <path clip-path=\"url(#p5c1638368c)\" d=\"M 188.959727 414.9 \nL 193.613605 414.9 \nL 193.613605 78.701394 \nL 188.959727 78.701394 \nz\n\" style=\"fill:#1f77b4;\"/>\n   </g>\n   <g id=\"patch_20\">\n    <path clip-path=\"url(#p5c1638368c)\" d=\"M 238.601095 414.9 \nL 243.254973 414.9 \nL 243.254973 129.841463 \nL 238.601095 129.841463 \nz\n\" style=\"fill:#1f77b4;\"/>\n   </g>\n   <g id=\"patch_21\">\n    <path clip-path=\"url(#p5c1638368c)\" d=\"M 244.806266 414.9 \nL 249.460144 414.9 \nL 249.460144 144.994077 \nL 244.806266 144.994077 \nz\n\" style=\"fill:#1f77b4;\"/>\n   </g>\n   <g id=\"patch_22\">\n    <path clip-path=\"url(#p5c1638368c)\" d=\"M 232.395924 414.9 \nL 237.049802 414.9 \nL 237.049802 101.430314 \nL 232.395924 101.430314 \nz\n\" style=\"fill:#1f77b4;\"/>\n   </g>\n   <g id=\"patch_23\">\n    <path clip-path=\"url(#p5c1638368c)\" d=\"M 201.370069 414.9 \nL 206.023947 414.9 \nL 206.023947 68.283972 \nL 201.370069 68.283972 \nz\n\" style=\"fill:#1f77b4;\"/>\n   </g>\n   <g id=\"patch_24\">\n    <path clip-path=\"url(#p5c1638368c)\" d=\"M 102.087333 414.9 \nL 106.741211 414.9 \nL 106.741211 303.149477 \nL 102.087333 303.149477 \nz\n\" style=\"fill:#1f77b4;\"/>\n   </g>\n   <g id=\"patch_25\">\n    <path clip-path=\"url(#p5c1638368c)\" d=\"M 257.216608 414.9 \nL 261.870486 414.9 \nL 261.870486 176.246341 \nL 257.216608 176.246341 \nz\n\" style=\"fill:#1f77b4;\"/>\n   </g>\n   <g id=\"patch_26\">\n    <path clip-path=\"url(#p5c1638368c)\" d=\"M 71.061478 414.9 \nL 75.715357 414.9 \nL 75.715357 406.376655 \nL 71.061478 406.376655 \nz\n\" style=\"fill:#1f77b4;\"/>\n   </g>\n   <g id=\"patch_27\">\n    <path clip-path=\"url(#p5c1638368c)\" d=\"M 294.447633 414.9 \nL 299.101512 414.9 \nL 299.101512 281.367596 \nL 294.447633 281.367596 \nz\n\" style=\"fill:#1f77b4;\"/>\n   </g>\n   <g id=\"patch_28\">\n    <path clip-path=\"url(#p5c1638368c)\" d=\"M 269.62695 414.9 \nL 274.280828 414.9 \nL 274.280828 192.345993 \nL 269.62695 192.345993 \nz\n\" style=\"fill:#1f77b4;\"/>\n   </g>\n   <g id=\"patch_29\">\n    <path clip-path=\"url(#p5c1638368c)\" d=\"M 282.037291 414.9 \nL 286.69117 414.9 \nL 286.69117 245.380139 \nL 282.037291 245.380139 \nz\n\" style=\"fill:#1f77b4;\"/>\n   </g>\n   <g id=\"patch_30\">\n    <path clip-path=\"url(#p5c1638368c)\" d=\"M 58.651136 414.9 \nL 63.305015 414.9 \nL 63.305015 411.111847 \nL 58.651136 411.111847 \nz\n\" style=\"fill:#1f77b4;\"/>\n   </g>\n   <g id=\"patch_31\">\n    <path clip-path=\"url(#p5c1638368c)\" d=\"M 207.57524 414.9 \nL 212.229118 414.9 \nL 212.229118 80.59547 \nL 207.57524 80.59547 \nz\n\" style=\"fill:#1f77b4;\"/>\n   </g>\n   <g id=\"patch_32\">\n    <path clip-path=\"url(#p5c1638368c)\" d=\"M 213.780411 414.9 \nL 218.434289 414.9 \nL 218.434289 93.854007 \nL 213.780411 93.854007 \nz\n\" style=\"fill:#1f77b4;\"/>\n   </g>\n   <g id=\"patch_33\">\n    <path clip-path=\"url(#p5c1638368c)\" d=\"M 114.497675 414.9 \nL 119.151553 414.9 \nL 119.151553 269.056098 \nL 114.497675 269.056098 \nz\n\" style=\"fill:#1f77b4;\"/>\n   </g>\n   <g id=\"patch_34\">\n    <path clip-path=\"url(#p5c1638368c)\" d=\"M 195.164898 414.9 \nL 199.818776 414.9 \nL 199.818776 50.290244 \nL 195.164898 50.290244 \nz\n\" style=\"fill:#1f77b4;\"/>\n   </g>\n   <g id=\"patch_35\">\n    <path clip-path=\"url(#p5c1638368c)\" d=\"M 275.832121 414.9 \nL 280.485999 414.9 \nL 280.485999 236.856794 \nL 275.832121 236.856794 \nz\n\" style=\"fill:#1f77b4;\"/>\n   </g>\n   <g id=\"patch_36\">\n    <path clip-path=\"url(#p5c1638368c)\" d=\"M 313.063146 414.9 \nL 317.717025 414.9 \nL 317.717025 323.037282 \nL 313.063146 323.037282 \nz\n\" style=\"fill:#1f77b4;\"/>\n   </g>\n   <g id=\"patch_37\">\n    <path clip-path=\"url(#p5c1638368c)\" d=\"M 263.421779 414.9 \nL 268.075657 414.9 \nL 268.075657 187.610801 \nL 263.421779 187.610801 \nz\n\" style=\"fill:#1f77b4;\"/>\n   </g>\n   <g id=\"patch_38\">\n    <path clip-path=\"url(#p5c1638368c)\" d=\"M 288.242462 414.9 \nL 292.896341 414.9 \nL 292.896341 267.162021 \nL 288.242462 267.162021 \nz\n\" style=\"fill:#1f77b4;\"/>\n   </g>\n   <g id=\"patch_39\">\n    <path clip-path=\"url(#p5c1638368c)\" d=\"M 64.856307 414.9 \nL 69.510186 414.9 \nL 69.510186 411.111847 \nL 64.856307 411.111847 \nz\n\" style=\"fill:#1f77b4;\"/>\n   </g>\n   <g id=\"patch_40\">\n    <path clip-path=\"url(#p5c1638368c)\" d=\"M 251.011437 414.9 \nL 255.665315 414.9 \nL 255.665315 148.78223 \nL 251.011437 148.78223 \nz\n\" style=\"fill:#1f77b4;\"/>\n   </g>\n   <g id=\"patch_41\">\n    <path clip-path=\"url(#p5c1638368c)\" d=\"M 350.294172 414.9 \nL 354.94805 414.9 \nL 354.94805 380.80662 \nL 350.294172 380.80662 \nz\n\" style=\"fill:#1f77b4;\"/>\n   </g>\n   <g id=\"patch_42\">\n    <path clip-path=\"url(#p5c1638368c)\" d=\"M 319.268317 414.9 \nL 323.922196 414.9 \nL 323.922196 339.136934 \nL 319.268317 339.136934 \nz\n\" style=\"fill:#1f77b4;\"/>\n   </g>\n   <g id=\"patch_43\">\n    <path clip-path=\"url(#p5c1638368c)\" d=\"M 300.652804 414.9 \nL 305.306683 414.9 \nL 305.306683 315.460976 \nL 300.652804 315.460976 \nz\n\" style=\"fill:#1f77b4;\"/>\n   </g>\n   <g id=\"patch_44\">\n    <path clip-path=\"url(#p5c1638368c)\" d=\"M 331.678659 414.9 \nL 336.332538 414.9 \nL 336.332538 348.607317 \nL 331.678659 348.607317 \nz\n\" style=\"fill:#1f77b4;\"/>\n   </g>\n   <g id=\"patch_45\">\n    <path clip-path=\"url(#p5c1638368c)\" d=\"M 306.857975 414.9 \nL 311.511854 414.9 \nL 311.511854 299.361324 \nL 306.857975 299.361324 \nz\n\" style=\"fill:#1f77b4;\"/>\n   </g>\n   <g id=\"patch_46\">\n    <path clip-path=\"url(#p5c1638368c)\" d=\"M 443.371737 414.9 \nL 448.025615 414.9 \nL 448.025615 411.111847 \nL 443.371737 411.111847 \nz\n\" style=\"fill:#1f77b4;\"/>\n   </g>\n   <g id=\"patch_47\">\n    <path clip-path=\"url(#p5c1638368c)\" d=\"M 337.88383 414.9 \nL 342.537709 414.9 \nL 342.537709 367.548084 \nL 337.88383 367.548084 \nz\n\" style=\"fill:#1f77b4;\"/>\n   </g>\n   <g id=\"patch_48\">\n    <path clip-path=\"url(#p5c1638368c)\" d=\"M 381.320027 414.9 \nL 385.973905 414.9 \nL 385.973905 397.85331 \nL 381.320027 397.85331 \nz\n\" style=\"fill:#1f77b4;\"/>\n   </g>\n   <g id=\"patch_49\">\n    <path clip-path=\"url(#p5c1638368c)\" d=\"M 344.089001 414.9 \nL 348.742879 414.9 \nL 348.742879 373.230314 \nL 344.089001 373.230314 \nz\n\" style=\"fill:#1f77b4;\"/>\n   </g>\n   <g id=\"patch_50\">\n    <path clip-path=\"url(#p5c1638368c)\" d=\"M 325.473488 414.9 \nL 330.127367 414.9 \nL 330.127367 325.878397 \nL 325.473488 325.878397 \nz\n\" style=\"fill:#1f77b4;\"/>\n   </g>\n   <g id=\"patch_51\">\n    <path clip-path=\"url(#p5c1638368c)\" d=\"M 368.909685 414.9 \nL 373.563563 414.9 \nL 373.563563 387.435889 \nL 368.909685 387.435889 \nz\n\" style=\"fill:#1f77b4;\"/>\n   </g>\n   <g id=\"patch_52\">\n    <path clip-path=\"url(#p5c1638368c)\" d=\"M 430.961395 414.9 \nL 435.615273 414.9 \nL 435.615273 411.111847 \nL 430.961395 411.111847 \nz\n\" style=\"fill:#1f77b4;\"/>\n   </g>\n   <g id=\"patch_53\">\n    <path clip-path=\"url(#p5c1638368c)\" d=\"M 356.499343 414.9 \nL 361.153221 414.9 \nL 361.153221 386.48885 \nL 356.499343 386.48885 \nz\n\" style=\"fill:#1f77b4;\"/>\n   </g>\n   <g id=\"patch_54\">\n    <path clip-path=\"url(#p5c1638368c)\" d=\"M 424.756224 414.9 \nL 429.410102 414.9 \nL 429.410102 410.164808 \nL 424.756224 410.164808 \nz\n\" style=\"fill:#1f77b4;\"/>\n   </g>\n   <g id=\"patch_55\">\n    <path clip-path=\"url(#p5c1638368c)\" d=\"M 108.292504 414.9 \nL 112.946382 414.9 \nL 112.946382 301.255401 \nL 108.292504 301.255401 \nz\n\" style=\"fill:#1f77b4;\"/>\n   </g>\n   <g id=\"patch_56\">\n    <path clip-path=\"url(#p5c1638368c)\" d=\"M 375.114856 414.9 \nL 379.768734 414.9 \nL 379.768734 397.85331 \nL 375.114856 397.85331 \nz\n\" style=\"fill:#1f77b4;\"/>\n   </g>\n   <g id=\"patch_57\">\n    <path clip-path=\"url(#p5c1638368c)\" d=\"M 406.140711 414.9 \nL 410.794589 414.9 \nL 410.794589 405.429617 \nL 406.140711 405.429617 \nz\n\" style=\"fill:#1f77b4;\"/>\n   </g>\n   <g id=\"patch_58\">\n    <path clip-path=\"url(#p5c1638368c)\" d=\"M 362.704514 414.9 \nL 367.358392 414.9 \nL 367.358392 385.541812 \nL 362.704514 385.541812 \nz\n\" style=\"fill:#1f77b4;\"/>\n   </g>\n   <g id=\"patch_59\">\n    <path clip-path=\"url(#p5c1638368c)\" d=\"M 95.882162 414.9 \nL 100.53604 414.9 \nL 100.53604 330.613589 \nL 95.882162 330.613589 \nz\n\" style=\"fill:#1f77b4;\"/>\n   </g>\n   <g id=\"patch_60\">\n    <path clip-path=\"url(#p5c1638368c)\" d=\"M 561.269985 414.9 \nL 565.923864 414.9 \nL 565.923864 413.952962 \nL 561.269985 413.952962 \nz\n\" style=\"fill:#1f77b4;\"/>\n   </g>\n   <g id=\"patch_61\">\n    <path clip-path=\"url(#p5c1638368c)\" d=\"M 418.551053 414.9 \nL 423.204931 414.9 \nL 423.204931 409.21777 \nL 418.551053 409.21777 \nz\n\" style=\"fill:#1f77b4;\"/>\n   </g>\n   <g id=\"patch_62\">\n    <path clip-path=\"url(#p5c1638368c)\" d=\"M 387.525198 414.9 \nL 392.179076 414.9 \nL 392.179076 404.482578 \nL 387.525198 404.482578 \nz\n\" style=\"fill:#1f77b4;\"/>\n   </g>\n   <g id=\"patch_63\">\n    <path clip-path=\"url(#p5c1638368c)\" d=\"M 393.730369 414.9 \nL 398.384247 414.9 \nL 398.384247 400.694425 \nL 393.730369 400.694425 \nz\n\" style=\"fill:#1f77b4;\"/>\n   </g>\n   <g id=\"patch_64\">\n    <path clip-path=\"url(#p5c1638368c)\" d=\"M 493.013105 414.9 \nL 497.666983 414.9 \nL 497.666983 413.952962 \nL 493.013105 413.952962 \nz\n\" style=\"fill:#1f77b4;\"/>\n   </g>\n   <g id=\"patch_65\">\n    <path clip-path=\"url(#p5c1638368c)\" d=\"M 437.166566 414.9 \nL 441.820444 414.9 \nL 441.820444 411.111847 \nL 437.166566 411.111847 \nz\n\" style=\"fill:#1f77b4;\"/>\n   </g>\n   <g id=\"patch_66\">\n    <path clip-path=\"url(#p5c1638368c)\" d=\"M 399.93554 414.9 \nL 404.589418 414.9 \nL 404.589418 411.111847 \nL 399.93554 411.111847 \nz\n\" style=\"fill:#1f77b4;\"/>\n   </g>\n   <g id=\"patch_67\">\n    <path clip-path=\"url(#p5c1638368c)\" d=\"M 499.218276 414.9 \nL 503.872154 414.9 \nL 503.872154 413.005923 \nL 499.218276 413.005923 \nz\n\" style=\"fill:#1f77b4;\"/>\n   </g>\n   <g id=\"patch_68\">\n    <path clip-path=\"url(#p5c1638368c)\" d=\"M 412.345882 414.9 \nL 416.99976 414.9 \nL 416.99976 407.323693 \nL 412.345882 407.323693 \nz\n\" style=\"fill:#1f77b4;\"/>\n   </g>\n   <g id=\"patch_69\">\n    <path clip-path=\"url(#p5c1638368c)\" d=\"M 505.423447 414.9 \nL 510.077325 414.9 \nL 510.077325 412.058885 \nL 505.423447 412.058885 \nz\n\" style=\"fill:#1f77b4;\"/>\n   </g>\n   <g id=\"patch_70\">\n    <path clip-path=\"url(#p5c1638368c)\" d=\"M 461.98725 414.9 \nL 466.641128 414.9 \nL 466.641128 413.005923 \nL 461.98725 413.005923 \nz\n\" style=\"fill:#1f77b4;\"/>\n   </g>\n   <g id=\"patch_71\">\n    <path clip-path=\"url(#p5c1638368c)\" d=\"M 449.576908 414.9 \nL 454.230786 414.9 \nL 454.230786 412.058885 \nL 449.576908 412.058885 \nz\n\" style=\"fill:#1f77b4;\"/>\n   </g>\n   <g id=\"patch_72\">\n    <path clip-path=\"url(#p5c1638368c)\" d=\"M 486.807934 414.9 \nL 491.461812 414.9 \nL 491.461812 413.952962 \nL 486.807934 413.952962 \nz\n\" style=\"fill:#1f77b4;\"/>\n   </g>\n   <g id=\"patch_73\">\n    <path clip-path=\"url(#p5c1638368c)\" d=\"M 468.192421 414.9 \nL 472.846299 414.9 \nL 472.846299 412.058885 \nL 468.192421 412.058885 \nz\n\" style=\"fill:#1f77b4;\"/>\n   </g>\n   <g id=\"patch_74\">\n    <path clip-path=\"url(#p5c1638368c)\" d=\"M 555.064814 414.9 \nL 559.718693 414.9 \nL 559.718693 413.005923 \nL 555.064814 413.005923 \nz\n\" style=\"fill:#1f77b4;\"/>\n   </g>\n   <g id=\"patch_75\">\n    <path clip-path=\"url(#p5c1638368c)\" d=\"M 455.782079 414.9 \nL 460.435957 414.9 \nL 460.435957 412.058885 \nL 455.782079 412.058885 \nz\n\" style=\"fill:#1f77b4;\"/>\n   </g>\n   <g id=\"patch_76\">\n    <path clip-path=\"url(#p5c1638368c)\" d=\"M 542.654472 414.9 \nL 547.308351 414.9 \nL 547.308351 413.952962 \nL 542.654472 413.952962 \nz\n\" style=\"fill:#1f77b4;\"/>\n   </g>\n   <g id=\"matplotlib.axis_1\">\n    <g id=\"xtick_1\">\n     <g id=\"line2d_1\">\n      <defs>\n       <path d=\"M 0 0 \nL 0 3.5 \n\" id=\"mfa2595c0b4\" style=\"stroke:#000000;stroke-width:0.8;\"/>\n      </defs>\n      <g>\n       <use style=\"stroke:#000000;stroke-width:0.8;\" x=\"48.567734\" xlink:href=\"#mfa2595c0b4\" y=\"414.9\"/>\n      </g>\n     </g>\n     <g id=\"text_1\">\n      <!-- 0 -->\n      <defs>\n       <path d=\"M 31.78125 66.40625 \nQ 24.171875 66.40625 20.328125 58.90625 \nQ 16.5 51.421875 16.5 36.375 \nQ 16.5 21.390625 20.328125 13.890625 \nQ 24.171875 6.390625 31.78125 6.390625 \nQ 39.453125 6.390625 43.28125 13.890625 \nQ 47.125 21.390625 47.125 36.375 \nQ 47.125 51.421875 43.28125 58.90625 \nQ 39.453125 66.40625 31.78125 66.40625 \nz\nM 31.78125 74.21875 \nQ 44.046875 74.21875 50.515625 64.515625 \nQ 56.984375 54.828125 56.984375 36.375 \nQ 56.984375 17.96875 50.515625 8.265625 \nQ 44.046875 -1.421875 31.78125 -1.421875 \nQ 19.53125 -1.421875 13.0625 8.265625 \nQ 6.59375 17.96875 6.59375 36.375 \nQ 6.59375 54.828125 13.0625 64.515625 \nQ 19.53125 74.21875 31.78125 74.21875 \nz\n\" id=\"DejaVuSans-48\"/>\n      </defs>\n      <g transform=\"translate(45.386484 429.498437)scale(0.1 -0.1)\">\n       <use xlink:href=\"#DejaVuSans-48\"/>\n      </g>\n     </g>\n    </g>\n    <g id=\"xtick_2\">\n     <g id=\"line2d_2\">\n      <g>\n       <use style=\"stroke:#000000;stroke-width:0.8;\" x=\"110.619443\" xlink:href=\"#mfa2595c0b4\" y=\"414.9\"/>\n      </g>\n     </g>\n     <g id=\"text_2\">\n      <!-- 10 -->\n      <defs>\n       <path d=\"M 12.40625 8.296875 \nL 28.515625 8.296875 \nL 28.515625 63.921875 \nL 10.984375 60.40625 \nL 10.984375 69.390625 \nL 28.421875 72.90625 \nL 38.28125 72.90625 \nL 38.28125 8.296875 \nL 54.390625 8.296875 \nL 54.390625 0 \nL 12.40625 0 \nz\n\" id=\"DejaVuSans-49\"/>\n      </defs>\n      <g transform=\"translate(104.256943 429.498437)scale(0.1 -0.1)\">\n       <use xlink:href=\"#DejaVuSans-49\"/>\n       <use x=\"63.623047\" xlink:href=\"#DejaVuSans-48\"/>\n      </g>\n     </g>\n    </g>\n    <g id=\"xtick_3\">\n     <g id=\"line2d_3\">\n      <g>\n       <use style=\"stroke:#000000;stroke-width:0.8;\" x=\"172.671153\" xlink:href=\"#mfa2595c0b4\" y=\"414.9\"/>\n      </g>\n     </g>\n     <g id=\"text_3\">\n      <!-- 20 -->\n      <defs>\n       <path d=\"M 19.1875 8.296875 \nL 53.609375 8.296875 \nL 53.609375 0 \nL 7.328125 0 \nL 7.328125 8.296875 \nQ 12.9375 14.109375 22.625 23.890625 \nQ 32.328125 33.6875 34.8125 36.53125 \nQ 39.546875 41.84375 41.421875 45.53125 \nQ 43.3125 49.21875 43.3125 52.78125 \nQ 43.3125 58.59375 39.234375 62.25 \nQ 35.15625 65.921875 28.609375 65.921875 \nQ 23.96875 65.921875 18.8125 64.3125 \nQ 13.671875 62.703125 7.8125 59.421875 \nL 7.8125 69.390625 \nQ 13.765625 71.78125 18.9375 73 \nQ 24.125 74.21875 28.421875 74.21875 \nQ 39.75 74.21875 46.484375 68.546875 \nQ 53.21875 62.890625 53.21875 53.421875 \nQ 53.21875 48.921875 51.53125 44.890625 \nQ 49.859375 40.875 45.40625 35.40625 \nQ 44.1875 33.984375 37.640625 27.21875 \nQ 31.109375 20.453125 19.1875 8.296875 \nz\n\" id=\"DejaVuSans-50\"/>\n      </defs>\n      <g transform=\"translate(166.308653 429.498437)scale(0.1 -0.1)\">\n       <use xlink:href=\"#DejaVuSans-50\"/>\n       <use x=\"63.623047\" xlink:href=\"#DejaVuSans-48\"/>\n      </g>\n     </g>\n    </g>\n    <g id=\"xtick_4\">\n     <g id=\"line2d_4\">\n      <g>\n       <use style=\"stroke:#000000;stroke-width:0.8;\" x=\"234.722863\" xlink:href=\"#mfa2595c0b4\" y=\"414.9\"/>\n      </g>\n     </g>\n     <g id=\"text_4\">\n      <!-- 30 -->\n      <defs>\n       <path d=\"M 40.578125 39.3125 \nQ 47.65625 37.796875 51.625 33 \nQ 55.609375 28.21875 55.609375 21.1875 \nQ 55.609375 10.40625 48.1875 4.484375 \nQ 40.765625 -1.421875 27.09375 -1.421875 \nQ 22.515625 -1.421875 17.65625 -0.515625 \nQ 12.796875 0.390625 7.625 2.203125 \nL 7.625 11.71875 \nQ 11.71875 9.328125 16.59375 8.109375 \nQ 21.484375 6.890625 26.8125 6.890625 \nQ 36.078125 6.890625 40.9375 10.546875 \nQ 45.796875 14.203125 45.796875 21.1875 \nQ 45.796875 27.640625 41.28125 31.265625 \nQ 36.765625 34.90625 28.71875 34.90625 \nL 20.21875 34.90625 \nL 20.21875 43.015625 \nL 29.109375 43.015625 \nQ 36.375 43.015625 40.234375 45.921875 \nQ 44.09375 48.828125 44.09375 54.296875 \nQ 44.09375 59.90625 40.109375 62.90625 \nQ 36.140625 65.921875 28.71875 65.921875 \nQ 24.65625 65.921875 20.015625 65.03125 \nQ 15.375 64.15625 9.8125 62.3125 \nL 9.8125 71.09375 \nQ 15.4375 72.65625 20.34375 73.4375 \nQ 25.25 74.21875 29.59375 74.21875 \nQ 40.828125 74.21875 47.359375 69.109375 \nQ 53.90625 64.015625 53.90625 55.328125 \nQ 53.90625 49.265625 50.4375 45.09375 \nQ 46.96875 40.921875 40.578125 39.3125 \nz\n\" id=\"DejaVuSans-51\"/>\n      </defs>\n      <g transform=\"translate(228.360363 429.498437)scale(0.1 -0.1)\">\n       <use xlink:href=\"#DejaVuSans-51\"/>\n       <use x=\"63.623047\" xlink:href=\"#DejaVuSans-48\"/>\n      </g>\n     </g>\n    </g>\n    <g id=\"xtick_5\">\n     <g id=\"line2d_5\">\n      <g>\n       <use style=\"stroke:#000000;stroke-width:0.8;\" x=\"296.774573\" xlink:href=\"#mfa2595c0b4\" y=\"414.9\"/>\n      </g>\n     </g>\n     <g id=\"text_5\">\n      <!-- 40 -->\n      <defs>\n       <path d=\"M 37.796875 64.3125 \nL 12.890625 25.390625 \nL 37.796875 25.390625 \nz\nM 35.203125 72.90625 \nL 47.609375 72.90625 \nL 47.609375 25.390625 \nL 58.015625 25.390625 \nL 58.015625 17.1875 \nL 47.609375 17.1875 \nL 47.609375 0 \nL 37.796875 0 \nL 37.796875 17.1875 \nL 4.890625 17.1875 \nL 4.890625 26.703125 \nz\n\" id=\"DejaVuSans-52\"/>\n      </defs>\n      <g transform=\"translate(290.412073 429.498437)scale(0.1 -0.1)\">\n       <use xlink:href=\"#DejaVuSans-52\"/>\n       <use x=\"63.623047\" xlink:href=\"#DejaVuSans-48\"/>\n      </g>\n     </g>\n    </g>\n    <g id=\"xtick_6\">\n     <g id=\"line2d_6\">\n      <g>\n       <use style=\"stroke:#000000;stroke-width:0.8;\" x=\"358.826282\" xlink:href=\"#mfa2595c0b4\" y=\"414.9\"/>\n      </g>\n     </g>\n     <g id=\"text_6\">\n      <!-- 50 -->\n      <defs>\n       <path d=\"M 10.796875 72.90625 \nL 49.515625 72.90625 \nL 49.515625 64.59375 \nL 19.828125 64.59375 \nL 19.828125 46.734375 \nQ 21.96875 47.46875 24.109375 47.828125 \nQ 26.265625 48.1875 28.421875 48.1875 \nQ 40.625 48.1875 47.75 41.5 \nQ 54.890625 34.8125 54.890625 23.390625 \nQ 54.890625 11.625 47.5625 5.09375 \nQ 40.234375 -1.421875 26.90625 -1.421875 \nQ 22.3125 -1.421875 17.546875 -0.640625 \nQ 12.796875 0.140625 7.71875 1.703125 \nL 7.71875 11.625 \nQ 12.109375 9.234375 16.796875 8.0625 \nQ 21.484375 6.890625 26.703125 6.890625 \nQ 35.15625 6.890625 40.078125 11.328125 \nQ 45.015625 15.765625 45.015625 23.390625 \nQ 45.015625 31 40.078125 35.4375 \nQ 35.15625 39.890625 26.703125 39.890625 \nQ 22.75 39.890625 18.8125 39.015625 \nQ 14.890625 38.140625 10.796875 36.28125 \nz\n\" id=\"DejaVuSans-53\"/>\n      </defs>\n      <g transform=\"translate(352.463782 429.498437)scale(0.1 -0.1)\">\n       <use xlink:href=\"#DejaVuSans-53\"/>\n       <use x=\"63.623047\" xlink:href=\"#DejaVuSans-48\"/>\n      </g>\n     </g>\n    </g>\n    <g id=\"xtick_7\">\n     <g id=\"line2d_7\">\n      <g>\n       <use style=\"stroke:#000000;stroke-width:0.8;\" x=\"420.877992\" xlink:href=\"#mfa2595c0b4\" y=\"414.9\"/>\n      </g>\n     </g>\n     <g id=\"text_7\">\n      <!-- 60 -->\n      <defs>\n       <path d=\"M 33.015625 40.375 \nQ 26.375 40.375 22.484375 35.828125 \nQ 18.609375 31.296875 18.609375 23.390625 \nQ 18.609375 15.53125 22.484375 10.953125 \nQ 26.375 6.390625 33.015625 6.390625 \nQ 39.65625 6.390625 43.53125 10.953125 \nQ 47.40625 15.53125 47.40625 23.390625 \nQ 47.40625 31.296875 43.53125 35.828125 \nQ 39.65625 40.375 33.015625 40.375 \nz\nM 52.59375 71.296875 \nL 52.59375 62.3125 \nQ 48.875 64.0625 45.09375 64.984375 \nQ 41.3125 65.921875 37.59375 65.921875 \nQ 27.828125 65.921875 22.671875 59.328125 \nQ 17.53125 52.734375 16.796875 39.40625 \nQ 19.671875 43.65625 24.015625 45.921875 \nQ 28.375 48.1875 33.59375 48.1875 \nQ 44.578125 48.1875 50.953125 41.515625 \nQ 57.328125 34.859375 57.328125 23.390625 \nQ 57.328125 12.15625 50.6875 5.359375 \nQ 44.046875 -1.421875 33.015625 -1.421875 \nQ 20.359375 -1.421875 13.671875 8.265625 \nQ 6.984375 17.96875 6.984375 36.375 \nQ 6.984375 53.65625 15.1875 63.9375 \nQ 23.390625 74.21875 37.203125 74.21875 \nQ 40.921875 74.21875 44.703125 73.484375 \nQ 48.484375 72.75 52.59375 71.296875 \nz\n\" id=\"DejaVuSans-54\"/>\n      </defs>\n      <g transform=\"translate(414.515492 429.498437)scale(0.1 -0.1)\">\n       <use xlink:href=\"#DejaVuSans-54\"/>\n       <use x=\"63.623047\" xlink:href=\"#DejaVuSans-48\"/>\n      </g>\n     </g>\n    </g>\n    <g id=\"xtick_8\">\n     <g id=\"line2d_8\">\n      <g>\n       <use style=\"stroke:#000000;stroke-width:0.8;\" x=\"482.929702\" xlink:href=\"#mfa2595c0b4\" y=\"414.9\"/>\n      </g>\n     </g>\n     <g id=\"text_8\">\n      <!-- 70 -->\n      <defs>\n       <path d=\"M 8.203125 72.90625 \nL 55.078125 72.90625 \nL 55.078125 68.703125 \nL 28.609375 0 \nL 18.3125 0 \nL 43.21875 64.59375 \nL 8.203125 64.59375 \nz\n\" id=\"DejaVuSans-55\"/>\n      </defs>\n      <g transform=\"translate(476.567202 429.498437)scale(0.1 -0.1)\">\n       <use xlink:href=\"#DejaVuSans-55\"/>\n       <use x=\"63.623047\" xlink:href=\"#DejaVuSans-48\"/>\n      </g>\n     </g>\n    </g>\n    <g id=\"xtick_9\">\n     <g id=\"line2d_9\">\n      <g>\n       <use style=\"stroke:#000000;stroke-width:0.8;\" x=\"544.981412\" xlink:href=\"#mfa2595c0b4\" y=\"414.9\"/>\n      </g>\n     </g>\n     <g id=\"text_9\">\n      <!-- 80 -->\n      <defs>\n       <path d=\"M 31.78125 34.625 \nQ 24.75 34.625 20.71875 30.859375 \nQ 16.703125 27.09375 16.703125 20.515625 \nQ 16.703125 13.921875 20.71875 10.15625 \nQ 24.75 6.390625 31.78125 6.390625 \nQ 38.8125 6.390625 42.859375 10.171875 \nQ 46.921875 13.96875 46.921875 20.515625 \nQ 46.921875 27.09375 42.890625 30.859375 \nQ 38.875 34.625 31.78125 34.625 \nz\nM 21.921875 38.8125 \nQ 15.578125 40.375 12.03125 44.71875 \nQ 8.5 49.078125 8.5 55.328125 \nQ 8.5 64.0625 14.71875 69.140625 \nQ 20.953125 74.21875 31.78125 74.21875 \nQ 42.671875 74.21875 48.875 69.140625 \nQ 55.078125 64.0625 55.078125 55.328125 \nQ 55.078125 49.078125 51.53125 44.71875 \nQ 48 40.375 41.703125 38.8125 \nQ 48.828125 37.15625 52.796875 32.3125 \nQ 56.78125 27.484375 56.78125 20.515625 \nQ 56.78125 9.90625 50.3125 4.234375 \nQ 43.84375 -1.421875 31.78125 -1.421875 \nQ 19.734375 -1.421875 13.25 4.234375 \nQ 6.78125 9.90625 6.78125 20.515625 \nQ 6.78125 27.484375 10.78125 32.3125 \nQ 14.796875 37.15625 21.921875 38.8125 \nz\nM 18.3125 54.390625 \nQ 18.3125 48.734375 21.84375 45.5625 \nQ 25.390625 42.390625 31.78125 42.390625 \nQ 38.140625 42.390625 41.71875 45.5625 \nQ 45.3125 48.734375 45.3125 54.390625 \nQ 45.3125 60.0625 41.71875 63.234375 \nQ 38.140625 66.40625 31.78125 66.40625 \nQ 25.390625 66.40625 21.84375 63.234375 \nQ 18.3125 60.0625 18.3125 54.390625 \nz\n\" id=\"DejaVuSans-56\"/>\n      </defs>\n      <g transform=\"translate(538.618912 429.498437)scale(0.1 -0.1)\">\n       <use xlink:href=\"#DejaVuSans-56\"/>\n       <use x=\"63.623047\" xlink:href=\"#DejaVuSans-48\"/>\n      </g>\n     </g>\n    </g>\n   </g>\n   <g id=\"matplotlib.axis_2\">\n    <g id=\"ytick_1\">\n     <g id=\"line2d_10\">\n      <defs>\n       <path d=\"M 0 0 \nL -3.5 0 \n\" id=\"m0e61f8e930\" style=\"stroke:#000000;stroke-width:0.8;\"/>\n      </defs>\n      <g>\n       <use style=\"stroke:#000000;stroke-width:0.8;\" x=\"33.2875\" xlink:href=\"#m0e61f8e930\" y=\"414.9\"/>\n      </g>\n     </g>\n     <g id=\"text_10\">\n      <!-- 0 -->\n      <g transform=\"translate(19.925 418.699219)scale(0.1 -0.1)\">\n       <use xlink:href=\"#DejaVuSans-48\"/>\n      </g>\n     </g>\n    </g>\n    <g id=\"ytick_2\">\n     <g id=\"line2d_11\">\n      <g>\n       <use style=\"stroke:#000000;stroke-width:0.8;\" x=\"33.2875\" xlink:href=\"#m0e61f8e930\" y=\"367.548084\"/>\n      </g>\n     </g>\n     <g id=\"text_11\">\n      <!-- 50 -->\n      <g transform=\"translate(13.5625 371.347302)scale(0.1 -0.1)\">\n       <use xlink:href=\"#DejaVuSans-53\"/>\n       <use x=\"63.623047\" xlink:href=\"#DejaVuSans-48\"/>\n      </g>\n     </g>\n    </g>\n    <g id=\"ytick_3\">\n     <g id=\"line2d_12\">\n      <g>\n       <use style=\"stroke:#000000;stroke-width:0.8;\" x=\"33.2875\" xlink:href=\"#m0e61f8e930\" y=\"320.196167\"/>\n      </g>\n     </g>\n     <g id=\"text_12\">\n      <!-- 100 -->\n      <g transform=\"translate(7.2 323.995386)scale(0.1 -0.1)\">\n       <use xlink:href=\"#DejaVuSans-49\"/>\n       <use x=\"63.623047\" xlink:href=\"#DejaVuSans-48\"/>\n       <use x=\"127.246094\" xlink:href=\"#DejaVuSans-48\"/>\n      </g>\n     </g>\n    </g>\n    <g id=\"ytick_4\">\n     <g id=\"line2d_13\">\n      <g>\n       <use style=\"stroke:#000000;stroke-width:0.8;\" x=\"33.2875\" xlink:href=\"#m0e61f8e930\" y=\"272.844251\"/>\n      </g>\n     </g>\n     <g id=\"text_13\">\n      <!-- 150 -->\n      <g transform=\"translate(7.2 276.64347)scale(0.1 -0.1)\">\n       <use xlink:href=\"#DejaVuSans-49\"/>\n       <use x=\"63.623047\" xlink:href=\"#DejaVuSans-53\"/>\n       <use x=\"127.246094\" xlink:href=\"#DejaVuSans-48\"/>\n      </g>\n     </g>\n    </g>\n    <g id=\"ytick_5\">\n     <g id=\"line2d_14\">\n      <g>\n       <use style=\"stroke:#000000;stroke-width:0.8;\" x=\"33.2875\" xlink:href=\"#m0e61f8e930\" y=\"225.492334\"/>\n      </g>\n     </g>\n     <g id=\"text_14\">\n      <!-- 200 -->\n      <g transform=\"translate(7.2 229.291553)scale(0.1 -0.1)\">\n       <use xlink:href=\"#DejaVuSans-50\"/>\n       <use x=\"63.623047\" xlink:href=\"#DejaVuSans-48\"/>\n       <use x=\"127.246094\" xlink:href=\"#DejaVuSans-48\"/>\n      </g>\n     </g>\n    </g>\n    <g id=\"ytick_6\">\n     <g id=\"line2d_15\">\n      <g>\n       <use style=\"stroke:#000000;stroke-width:0.8;\" x=\"33.2875\" xlink:href=\"#m0e61f8e930\" y=\"178.140418\"/>\n      </g>\n     </g>\n     <g id=\"text_15\">\n      <!-- 250 -->\n      <g transform=\"translate(7.2 181.939637)scale(0.1 -0.1)\">\n       <use xlink:href=\"#DejaVuSans-50\"/>\n       <use x=\"63.623047\" xlink:href=\"#DejaVuSans-53\"/>\n       <use x=\"127.246094\" xlink:href=\"#DejaVuSans-48\"/>\n      </g>\n     </g>\n    </g>\n    <g id=\"ytick_7\">\n     <g id=\"line2d_16\">\n      <g>\n       <use style=\"stroke:#000000;stroke-width:0.8;\" x=\"33.2875\" xlink:href=\"#m0e61f8e930\" y=\"130.788502\"/>\n      </g>\n     </g>\n     <g id=\"text_16\">\n      <!-- 300 -->\n      <g transform=\"translate(7.2 134.58772)scale(0.1 -0.1)\">\n       <use xlink:href=\"#DejaVuSans-51\"/>\n       <use x=\"63.623047\" xlink:href=\"#DejaVuSans-48\"/>\n       <use x=\"127.246094\" xlink:href=\"#DejaVuSans-48\"/>\n      </g>\n     </g>\n    </g>\n    <g id=\"ytick_8\">\n     <g id=\"line2d_17\">\n      <g>\n       <use style=\"stroke:#000000;stroke-width:0.8;\" x=\"33.2875\" xlink:href=\"#m0e61f8e930\" y=\"83.436585\"/>\n      </g>\n     </g>\n     <g id=\"text_17\">\n      <!-- 350 -->\n      <g transform=\"translate(7.2 87.235804)scale(0.1 -0.1)\">\n       <use xlink:href=\"#DejaVuSans-51\"/>\n       <use x=\"63.623047\" xlink:href=\"#DejaVuSans-53\"/>\n       <use x=\"127.246094\" xlink:href=\"#DejaVuSans-48\"/>\n      </g>\n     </g>\n    </g>\n    <g id=\"ytick_9\">\n     <g id=\"line2d_18\">\n      <g>\n       <use style=\"stroke:#000000;stroke-width:0.8;\" x=\"33.2875\" xlink:href=\"#m0e61f8e930\" y=\"36.084669\"/>\n      </g>\n     </g>\n     <g id=\"text_18\">\n      <!-- 400 -->\n      <g transform=\"translate(7.2 39.883888)scale(0.1 -0.1)\">\n       <use xlink:href=\"#DejaVuSans-52\"/>\n       <use x=\"63.623047\" xlink:href=\"#DejaVuSans-48\"/>\n       <use x=\"127.246094\" xlink:href=\"#DejaVuSans-48\"/>\n      </g>\n     </g>\n    </g>\n   </g>\n   <g id=\"patch_77\">\n    <path d=\"M 33.2875 414.9 \nL 33.2875 7.2 \n\" style=\"fill:none;stroke:#000000;stroke-linecap:square;stroke-linejoin:miter;stroke-width:0.8;\"/>\n   </g>\n   <g id=\"patch_78\">\n    <path d=\"M 591.2875 414.9 \nL 591.2875 7.2 \n\" style=\"fill:none;stroke:#000000;stroke-linecap:square;stroke-linejoin:miter;stroke-width:0.8;\"/>\n   </g>\n   <g id=\"patch_79\">\n    <path d=\"M 33.2875 414.9 \nL 591.2875 414.9 \n\" style=\"fill:none;stroke:#000000;stroke-linecap:square;stroke-linejoin:miter;stroke-width:0.8;\"/>\n   </g>\n   <g id=\"patch_80\">\n    <path d=\"M 33.2875 7.2 \nL 591.2875 7.2 \n\" style=\"fill:none;stroke:#000000;stroke-linecap:square;stroke-linejoin:miter;stroke-width:0.8;\"/>\n   </g>\n  </g>\n </g>\n <defs>\n  <clipPath id=\"p5c1638368c\">\n   <rect height=\"407.7\" width=\"558\" x=\"33.2875\" y=\"7.2\"/>\n  </clipPath>\n </defs>\n</svg>\n",
      "image/png": "[encoded data removed]"
     },
     "metadata": {
      "needs_background": "light"
     }
    }
   ],
   "source": [
    "prepare_data.get_statistics()"
   ]
  },
  {
   "cell_type": "code",
   "execution_count": 42,
   "metadata": {},
   "outputs": [],
   "source": [
    "default_modal = set([\"akan\", \"ingin\", \"mau\", \"telah\", \"sudah\", \"pernah\", \"masih\", \"bisa\", \"dapat\", \"boleh\", \"ikut\", \"harus\", \"suka\", \"senang\"])"
   ]
  },
  {
   "cell_type": "code",
   "execution_count": 56,
   "metadata": {},
   "outputs": [],
   "source": [
    "def get_modal(data, default_modal):\n",
    "    \"\"\"Return the sentences that contains auxiliary verb from the prepared data\n",
    "        and the set of modal / auxiliary words\n",
    "\n",
    "        Args:\n",
    "            train_data: from the corpus of tagged words\n",
    "            default_modal: a set of default modal words that will be used \n",
    "                to detect possible modal that is not labeled as modal\n",
    "\n",
    "        Return data will be a dictionary:\n",
    "            key: modal words\n",
    "            values: list of sentences containing the modal words (no repeat)\n",
    "    \"\"\"\n",
    "    f = open(\"report.txt\", \"w\")\n",
    "    modal_sent_dict = dict()\n",
    "    num_misclassified_modal = 0\n",
    "    for sentence in data:\n",
    "        for entry in sentence:\n",
    "            word = entry[0]\n",
    "            tag = entry[1]\n",
    "            if tag == \"MD\":\n",
    "                if word not in modal_sent_dict:\n",
    "                    modal_sent_dict[word] = [sentence]\n",
    "                elif sentence not in modal_sent_dict[word]:\n",
    "                    modal_sent_dict[word].append([sentence])    \n",
    "            elif word in default_modal:\n",
    "                f.write(f\"the word {word} is a modal but not tagged as MD\\n\")\n",
    "                f.write(f\"\\t{word} is classified as {tag}\\n\")\n",
    "                f.write(f\"\\tin sentence {sentence}\\n\")\n",
    "                f.write(\"\\n\")\n",
    "                num_misclassified_modal += 1\n",
    "    f.close()\n",
    "    print(f\"there are {num_misclassified_modal} instances where modal words that are not classified as modal\")\n",
    "    print(f\"there are {len(modal_sent_dict.keys())} modal words\")\n",
    "    print(f\"{modal_sent_dict.keys()}\")\n",
    "    # for each modal words in the key set, make the value to a set then back to list\n",
    "    "
   ]
  },
  {
   "cell_type": "code",
   "execution_count": 57,
   "metadata": {
    "tags": []
   },
   "outputs": [
    {
     "output_type": "stream",
     "name": "stdout",
     "text": [
      "there are 131 instances where modal words that are not classified as modal\nthere are 39 modal words\ndict_keys(['akan', 'bisa', 'harus', 'telah', 'sudah', 'baru', 'mulai', 'pernah', 'masih', 'sempat', 'sedang', 'tengah', 'mau', 'sepertinya', 'perlu', 'boleh', 'dapat', 'mungkin', 'bakal', 'kemungkinan', 'sedikit', 'Baru', 'Bisa', 'hendak', 'Mungkin', 'Sudah', 'barangkali', 'Harus', 'Pernah', 'Masih', 'Akan', 'guna', 'Dapat', 'usah', 'mesti', 'kan', 'Telah', 'lagi', 'Perlu'])\n"
     ]
    }
   ],
   "source": [
    "get_modal(data, default_modal)"
   ]
  },
  {
   "cell_type": "code",
   "execution_count": 45,
   "metadata": {},
   "outputs": [],
   "source": [
    "perceptron_tagger = PerceptronTagger(load=False)"
   ]
  },
  {
   "cell_type": "code",
   "execution_count": 46,
   "metadata": {},
   "outputs": [],
   "source": [
    "# RUN THIS IF YOU WANT TO RETRAIN\n",
    "perceptron_tagger.train(train_data, save_loc=\"trained_model_split_80.pickle\")"
   ]
  },
  {
   "cell_type": "code",
   "execution_count": 12,
   "metadata": {},
   "outputs": [],
   "source": [
    "# LOAD THE SAVED MODEL\n",
    "perceptron_tagger.load(\"trained_model.pickle\")"
   ]
  },
  {
   "cell_type": "code",
   "execution_count": null,
   "metadata": {},
   "outputs": [],
   "source": [
    "def detect_auxiliary(tokenized_sentences):\n",
    "    \"\"\"Detect auxiliary verbs or modal verbs'\"\""
   ]
  }
 ]
}